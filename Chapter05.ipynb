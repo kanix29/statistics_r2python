{
 "cells": [
  {
   "cell_type": "code",
   "execution_count": 9,
   "metadata": {},
   "outputs": [],
   "source": [
    "import numpy as np\n",
    "import pandas as pd\n",
    "import matplotlib.pyplot as plt\n",
    "import seaborn as sns\n",
    "import scipy as sp\n",
    "from scipy import stats\n",
    "%matplotlib inline\n",
    "from itertools import cycle\n",
    "\n",
    "sns.set(style='ticks')\n",
    "color_pal = plt.rcParams['axes.prop_cycle'].by_key()['color']\n",
    "color_cycle = cycle(plt.rcParams['axes.prop_cycle'].by_key()['color'])"
   ]
  },
  {
   "cell_type": "code",
   "execution_count": 2,
   "metadata": {},
   "outputs": [
    {
     "data": {
      "text/html": [
       "<div>\n",
       "<style scoped>\n",
       "    .dataframe tbody tr th:only-of-type {\n",
       "        vertical-align: middle;\n",
       "    }\n",
       "\n",
       "    .dataframe tbody tr th {\n",
       "        vertical-align: top;\n",
       "    }\n",
       "\n",
       "    .dataframe thead th {\n",
       "        text-align: right;\n",
       "    }\n",
       "</style>\n",
       "<table border=\"1\" class=\"dataframe\">\n",
       "  <thead>\n",
       "    <tr style=\"text-align: right;\">\n",
       "      <th></th>\n",
       "      <th>ID</th>\n",
       "      <th>Name</th>\n",
       "      <th>Sex</th>\n",
       "      <th>Math</th>\n",
       "      <th>Statistics</th>\n",
       "      <th>Psychology_test</th>\n",
       "      <th>Statistics_test1</th>\n",
       "      <th>Statistics_test2</th>\n",
       "      <th>Method</th>\n",
       "    </tr>\n",
       "  </thead>\n",
       "  <tbody>\n",
       "    <tr>\n",
       "      <th>0</th>\n",
       "      <td>1</td>\n",
       "      <td>大村</td>\n",
       "      <td>m</td>\n",
       "      <td>dislike</td>\n",
       "      <td>like</td>\n",
       "      <td>13</td>\n",
       "      <td>6</td>\n",
       "      <td>10</td>\n",
       "      <td>C</td>\n",
       "    </tr>\n",
       "    <tr>\n",
       "      <th>1</th>\n",
       "      <td>2</td>\n",
       "      <td>本多</td>\n",
       "      <td>m</td>\n",
       "      <td>dislike</td>\n",
       "      <td>like</td>\n",
       "      <td>14</td>\n",
       "      <td>10</td>\n",
       "      <td>13</td>\n",
       "      <td>B</td>\n",
       "    </tr>\n",
       "    <tr>\n",
       "      <th>2</th>\n",
       "      <td>3</td>\n",
       "      <td>川崎</td>\n",
       "      <td>m</td>\n",
       "      <td>like</td>\n",
       "      <td>like</td>\n",
       "      <td>7</td>\n",
       "      <td>6</td>\n",
       "      <td>8</td>\n",
       "      <td>B</td>\n",
       "    </tr>\n",
       "    <tr>\n",
       "      <th>3</th>\n",
       "      <td>4</td>\n",
       "      <td>多村</td>\n",
       "      <td>m</td>\n",
       "      <td>like</td>\n",
       "      <td>like</td>\n",
       "      <td>12</td>\n",
       "      <td>10</td>\n",
       "      <td>15</td>\n",
       "      <td>A</td>\n",
       "    </tr>\n",
       "    <tr>\n",
       "      <th>4</th>\n",
       "      <td>5</td>\n",
       "      <td>松中</td>\n",
       "      <td>m</td>\n",
       "      <td>dislike</td>\n",
       "      <td>dislike</td>\n",
       "      <td>10</td>\n",
       "      <td>5</td>\n",
       "      <td>8</td>\n",
       "      <td>B</td>\n",
       "    </tr>\n",
       "    <tr>\n",
       "      <th>5</th>\n",
       "      <td>6</td>\n",
       "      <td>小久保</td>\n",
       "      <td>m</td>\n",
       "      <td>dislike</td>\n",
       "      <td>dislike</td>\n",
       "      <td>6</td>\n",
       "      <td>3</td>\n",
       "      <td>6</td>\n",
       "      <td>C</td>\n",
       "    </tr>\n",
       "    <tr>\n",
       "      <th>6</th>\n",
       "      <td>7</td>\n",
       "      <td>柴原</td>\n",
       "      <td>m</td>\n",
       "      <td>dislike</td>\n",
       "      <td>dislike</td>\n",
       "      <td>8</td>\n",
       "      <td>5</td>\n",
       "      <td>9</td>\n",
       "      <td>A</td>\n",
       "    </tr>\n",
       "    <tr>\n",
       "      <th>7</th>\n",
       "      <td>8</td>\n",
       "      <td>井手</td>\n",
       "      <td>m</td>\n",
       "      <td>dislike</td>\n",
       "      <td>dislike</td>\n",
       "      <td>15</td>\n",
       "      <td>9</td>\n",
       "      <td>10</td>\n",
       "      <td>D</td>\n",
       "    </tr>\n",
       "    <tr>\n",
       "      <th>8</th>\n",
       "      <td>9</td>\n",
       "      <td>田上</td>\n",
       "      <td>m</td>\n",
       "      <td>dislike</td>\n",
       "      <td>dislike</td>\n",
       "      <td>4</td>\n",
       "      <td>3</td>\n",
       "      <td>7</td>\n",
       "      <td>D</td>\n",
       "    </tr>\n",
       "    <tr>\n",
       "      <th>9</th>\n",
       "      <td>10</td>\n",
       "      <td>松田</td>\n",
       "      <td>m</td>\n",
       "      <td>like</td>\n",
       "      <td>dislike</td>\n",
       "      <td>14</td>\n",
       "      <td>3</td>\n",
       "      <td>3</td>\n",
       "      <td>D</td>\n",
       "    </tr>\n",
       "    <tr>\n",
       "      <th>10</th>\n",
       "      <td>11</td>\n",
       "      <td>高谷</td>\n",
       "      <td>f</td>\n",
       "      <td>like</td>\n",
       "      <td>like</td>\n",
       "      <td>9</td>\n",
       "      <td>11</td>\n",
       "      <td>18</td>\n",
       "      <td>A</td>\n",
       "    </tr>\n",
       "    <tr>\n",
       "      <th>11</th>\n",
       "      <td>12</td>\n",
       "      <td>杉内</td>\n",
       "      <td>f</td>\n",
       "      <td>dislike</td>\n",
       "      <td>like</td>\n",
       "      <td>6</td>\n",
       "      <td>6</td>\n",
       "      <td>14</td>\n",
       "      <td>A</td>\n",
       "    </tr>\n",
       "    <tr>\n",
       "      <th>12</th>\n",
       "      <td>13</td>\n",
       "      <td>和田</td>\n",
       "      <td>f</td>\n",
       "      <td>like</td>\n",
       "      <td>like</td>\n",
       "      <td>10</td>\n",
       "      <td>11</td>\n",
       "      <td>18</td>\n",
       "      <td>A</td>\n",
       "    </tr>\n",
       "    <tr>\n",
       "      <th>13</th>\n",
       "      <td>14</td>\n",
       "      <td>新垣</td>\n",
       "      <td>f</td>\n",
       "      <td>dislike</td>\n",
       "      <td>dislike</td>\n",
       "      <td>12</td>\n",
       "      <td>9</td>\n",
       "      <td>11</td>\n",
       "      <td>C</td>\n",
       "    </tr>\n",
       "    <tr>\n",
       "      <th>14</th>\n",
       "      <td>15</td>\n",
       "      <td>大隣</td>\n",
       "      <td>f</td>\n",
       "      <td>dislike</td>\n",
       "      <td>like</td>\n",
       "      <td>5</td>\n",
       "      <td>7</td>\n",
       "      <td>12</td>\n",
       "      <td>B</td>\n",
       "    </tr>\n",
       "    <tr>\n",
       "      <th>15</th>\n",
       "      <td>16</td>\n",
       "      <td>水田</td>\n",
       "      <td>f</td>\n",
       "      <td>like</td>\n",
       "      <td>dislike</td>\n",
       "      <td>12</td>\n",
       "      <td>5</td>\n",
       "      <td>5</td>\n",
       "      <td>D</td>\n",
       "    </tr>\n",
       "    <tr>\n",
       "      <th>16</th>\n",
       "      <td>17</td>\n",
       "      <td>斉藤</td>\n",
       "      <td>f</td>\n",
       "      <td>dislike</td>\n",
       "      <td>dislike</td>\n",
       "      <td>8</td>\n",
       "      <td>8</td>\n",
       "      <td>7</td>\n",
       "      <td>C</td>\n",
       "    </tr>\n",
       "    <tr>\n",
       "      <th>17</th>\n",
       "      <td>18</td>\n",
       "      <td>柳瀬</td>\n",
       "      <td>f</td>\n",
       "      <td>dislike</td>\n",
       "      <td>dislike</td>\n",
       "      <td>8</td>\n",
       "      <td>7</td>\n",
       "      <td>12</td>\n",
       "      <td>C</td>\n",
       "    </tr>\n",
       "    <tr>\n",
       "      <th>18</th>\n",
       "      <td>19</td>\n",
       "      <td>佐藤</td>\n",
       "      <td>f</td>\n",
       "      <td>dislike</td>\n",
       "      <td>dislike</td>\n",
       "      <td>12</td>\n",
       "      <td>7</td>\n",
       "      <td>7</td>\n",
       "      <td>B</td>\n",
       "    </tr>\n",
       "    <tr>\n",
       "      <th>19</th>\n",
       "      <td>20</td>\n",
       "      <td>馬原</td>\n",
       "      <td>f</td>\n",
       "      <td>dislike</td>\n",
       "      <td>dislike</td>\n",
       "      <td>15</td>\n",
       "      <td>9</td>\n",
       "      <td>7</td>\n",
       "      <td>D</td>\n",
       "    </tr>\n",
       "  </tbody>\n",
       "</table>\n",
       "</div>"
      ],
      "text/plain": [
       "    ID Name Sex     Math Statistics  Psychology_test  Statistics_test1  \\\n",
       "0    1   大村   m  dislike       like               13                 6   \n",
       "1    2   本多   m  dislike       like               14                10   \n",
       "2    3   川崎   m     like       like                7                 6   \n",
       "3    4   多村   m     like       like               12                10   \n",
       "4    5   松中   m  dislike    dislike               10                 5   \n",
       "5    6  小久保   m  dislike    dislike                6                 3   \n",
       "6    7   柴原   m  dislike    dislike                8                 5   \n",
       "7    8   井手   m  dislike    dislike               15                 9   \n",
       "8    9   田上   m  dislike    dislike                4                 3   \n",
       "9   10   松田   m     like    dislike               14                 3   \n",
       "10  11   高谷   f     like       like                9                11   \n",
       "11  12   杉内   f  dislike       like                6                 6   \n",
       "12  13   和田   f     like       like               10                11   \n",
       "13  14   新垣   f  dislike    dislike               12                 9   \n",
       "14  15   大隣   f  dislike       like                5                 7   \n",
       "15  16   水田   f     like    dislike               12                 5   \n",
       "16  17   斉藤   f  dislike    dislike                8                 8   \n",
       "17  18   柳瀬   f  dislike    dislike                8                 7   \n",
       "18  19   佐藤   f  dislike    dislike               12                 7   \n",
       "19  20   馬原   f  dislike    dislike               15                 9   \n",
       "\n",
       "    Statistics_test2 Method  \n",
       "0                 10      C  \n",
       "1                 13      B  \n",
       "2                  8      B  \n",
       "3                 15      A  \n",
       "4                  8      B  \n",
       "5                  6      C  \n",
       "6                  9      A  \n",
       "7                 10      D  \n",
       "8                  7      D  \n",
       "9                  3      D  \n",
       "10                18      A  \n",
       "11                14      A  \n",
       "12                18      A  \n",
       "13                11      C  \n",
       "14                12      B  \n",
       "15                 5      D  \n",
       "16                 7      C  \n",
       "17                12      C  \n",
       "18                 7      B  \n",
       "19                 7      D  "
      ]
     },
     "execution_count": 2,
     "metadata": {},
     "output_type": "execute_result"
    }
   ],
   "source": [
    "df = pd.read_csv('teaching_method.csv')\n",
    "df"
   ]
  },
  {
   "cell_type": "code",
   "execution_count": 4,
   "metadata": {},
   "outputs": [
    {
     "data": {
      "text/plain": [
       "array([13, 14,  7, 12, 10,  6,  8, 15,  4, 14,  9,  6, 10, 12,  5, 12,  8,\n",
       "        8, 12, 15])"
      ]
     },
     "execution_count": 4,
     "metadata": {},
     "output_type": "execute_result"
    }
   ],
   "source": [
    "psy_test = df['Psychology_test'].values\n",
    "psy_test"
   ]
  },
  {
   "cell_type": "markdown",
   "metadata": {},
   "source": [
    "$\n",
    "帰無仮説 H0:\\mu = 12\\\\\n",
    "対立仮説 H1:\\mu \\neq 12\n",
    "$"
   ]
  },
  {
   "cell_type": "markdown",
   "metadata": {},
   "source": [
    "$ Z = \\cfrac{\\overline X - \\mu}{\\sigma / \\sqrt{n}}$ を検定統計量とする。\\\n",
    "有意水準は5%, $\\alpha = 0.05$"
   ]
  },
  {
   "cell_type": "code",
   "execution_count": 6,
   "metadata": {},
   "outputs": [
    {
     "data": {
      "text/plain": [
       "-2.0"
      ]
     },
     "execution_count": 6,
     "metadata": {},
     "output_type": "execute_result"
    }
   ],
   "source": [
    "Z_upper = np.mean(psy_test) - 12\n",
    "Z_upper"
   ]
  },
  {
   "cell_type": "code",
   "execution_count": 7,
   "metadata": {},
   "outputs": [
    {
     "data": {
      "text/plain": [
       "0.7071067811865476"
      ]
     },
     "execution_count": 7,
     "metadata": {},
     "output_type": "execute_result"
    }
   ],
   "source": [
    "Z_lower = np.sqrt(10/len(psy_test))\n",
    "Z_lower"
   ]
  },
  {
   "cell_type": "code",
   "execution_count": 8,
   "metadata": {},
   "outputs": [
    {
     "data": {
      "text/plain": [
       "-2.82842712474619"
      ]
     },
     "execution_count": 8,
     "metadata": {},
     "output_type": "execute_result"
    }
   ],
   "source": [
    "Z = Z_upper / Z_lower\n",
    "Z"
   ]
  },
  {
   "cell_type": "markdown",
   "metadata": {},
   "source": [
    "下側確率$ prob(Z \\leqq z) $\n"
   ]
  },
  {
   "cell_type": "code",
   "execution_count": 22,
   "metadata": {},
   "outputs": [
    {
     "name": "stdout",
     "output_type": "stream",
     "text": [
      "-1.9599639845400545\n",
      "1.959963984540054\n"
     ]
    }
   ],
   "source": [
    "# パーセント点を求める方法\n",
    "# stats.norm.ppf(q = 0.025, loc = 0.0, scale = 1.0)# 上側確率はisf\n",
    "print(stats.norm.ppf(0.025))\n",
    "print(stats.norm.ppf(0.975))"
   ]
  },
  {
   "cell_type": "code",
   "execution_count": 23,
   "metadata": {},
   "outputs": [
    {
     "data": {
      "text/plain": [
       "0.0023388684020295768"
      ]
     },
     "execution_count": 23,
     "metadata": {},
     "output_type": "execute_result"
    }
   ],
   "source": [
    "# p値を直接求める方法\n",
    "stats.norm.cdf(x = -2.828427, loc = 0, scale = 1) #locは平均、scaleは標準偏差, xは上で言うところのz"
   ]
  },
  {
   "cell_type": "code",
   "execution_count": 26,
   "metadata": {},
   "outputs": [
    {
     "data": {
      "text/plain": [
       "0.0023388684020295768"
      ]
     },
     "execution_count": 26,
     "metadata": {},
     "output_type": "execute_result"
    }
   ],
   "source": [
    "stats.norm.sf(x = 2.828427, loc = 0, scale = 1)# 上側確率"
   ]
  },
  {
   "cell_type": "code",
   "execution_count": 27,
   "metadata": {},
   "outputs": [
    {
     "data": {
      "text/plain": [
       "0.0046777368040591535"
      ]
     },
     "execution_count": 27,
     "metadata": {},
     "output_type": "execute_result"
    }
   ],
   "source": [
    "2*stats.norm.sf(x = 2.828427)"
   ]
  },
  {
   "cell_type": "markdown",
   "metadata": {},
   "source": [
    "## t分布"
   ]
  },
  {
   "cell_type": "code",
   "execution_count": 36,
   "metadata": {},
   "outputs": [
    {
     "data": {
      "image/png": "[encoded data removed]",
      "text/plain": [
       "<Figure size 720x432 with 1 Axes>"
      ]
     },
     "metadata": {},
     "output_type": "display_data"
    }
   ],
   "source": [
    "x = np.linspace(-6, 6, 1000)\n",
    "fig,ax = plt.subplots(1, 1, figsize=(10, 6))\n",
    "\n",
    "linestyles = [':', '--', '-.', '-']\n",
    "deg_of_freedom = [1, 2, 4, 8]\n",
    "for k, ls in zip(deg_of_freedom, linestyles):\n",
    "    ax.plot(x, stats.t.pdf(x, k), linestyle=ls, label=r'$k=%i$' % k)\n",
    "\n",
    "ax.plot(x, stats.norm.pdf(x, 0, 1), linestyle='-', label=\"Standard Normal Distribution\")\n",
    "\n",
    "plt.xlim(-6, 6)\n",
    "plt.ylim(0, 0.4)\n",
    "\n",
    "plt.legend()\n",
    "plt.show()"
   ]
  },
  {
   "cell_type": "code",
   "execution_count": 37,
   "metadata": {},
   "outputs": [
    {
     "data": {
      "text/plain": [
       "-2.0"
      ]
     },
     "execution_count": 37,
     "metadata": {},
     "output_type": "execute_result"
    }
   ],
   "source": [
    "t_upper = np.mean(psy_test) - 12\n",
    "t_upper"
   ]
  },
  {
   "cell_type": "code",
   "execution_count": 38,
   "metadata": {},
   "outputs": [
    {
     "data": {
      "text/plain": [
       "0.7643366577077076"
      ]
     },
     "execution_count": 38,
     "metadata": {},
     "output_type": "execute_result"
    }
   ],
   "source": [
    "t_lower = np.std(psy_test, ddof=1) / np.sqrt(len(psy_test))\n",
    "t_lower"
   ]
  },
  {
   "cell_type": "code",
   "execution_count": 41,
   "metadata": {},
   "outputs": [
    {
     "data": {
      "text/plain": [
       "-2.616648017377738"
      ]
     },
     "execution_count": 41,
     "metadata": {},
     "output_type": "execute_result"
    }
   ],
   "source": [
    "t = t_upper / t_lower\n",
    "t"
   ]
  },
  {
   "cell_type": "code",
   "execution_count": 42,
   "metadata": {},
   "outputs": [
    {
     "data": {
      "text/plain": [
       "-2.0930240544082634"
      ]
     },
     "execution_count": 42,
     "metadata": {},
     "output_type": "execute_result"
    }
   ],
   "source": [
    "# 自由度 df = n-1 = 20 - 1 = 19 のt分布に従う\n",
    "stats.t.ppf(0.025, 19)"
   ]
  },
  {
   "cell_type": "code",
   "execution_count": 43,
   "metadata": {},
   "outputs": [
    {
     "data": {
      "text/plain": [
       "2.093024054408263"
      ]
     },
     "execution_count": 43,
     "metadata": {},
     "output_type": "execute_result"
    }
   ],
   "source": [
    "stats.t.ppf(0.975, 19)"
   ]
  },
  {
   "cell_type": "code",
   "execution_count": 44,
   "metadata": {},
   "outputs": [
    {
     "data": {
      "text/plain": [
       "2.0930240544082634"
      ]
     },
     "execution_count": 44,
     "metadata": {},
     "output_type": "execute_result"
    }
   ],
   "source": [
    "stats.t.isf(0.025, 19)# = stats.t.ppf(0.975, 19)"
   ]
  },
  {
   "cell_type": "code",
   "execution_count": 46,
   "metadata": {},
   "outputs": [
    {
     "data": {
      "text/plain": [
       "0.008485460450029377"
      ]
     },
     "execution_count": 46,
     "metadata": {},
     "output_type": "execute_result"
    }
   ],
   "source": [
    "# p値を直接求める\n",
    "stats.t.cdf(-2.616648, 19)"
   ]
  },
  {
   "cell_type": "code",
   "execution_count": 49,
   "metadata": {},
   "outputs": [
    {
     "data": {
      "text/plain": [
       "0.016970920900058754"
      ]
     },
     "execution_count": 49,
     "metadata": {},
     "output_type": "execute_result"
    }
   ],
   "source": [
    "stats.t.sf(2.616648, 19) * 2"
   ]
  },
  {
   "cell_type": "code",
   "execution_count": 54,
   "metadata": {},
   "outputs": [
    {
     "data": {
      "text/plain": [
       "Ttest_indResult(statistic=-2.616648017377738, pvalue=0.012672876709337434)"
      ]
     },
     "execution_count": 54,
     "metadata": {},
     "output_type": "execute_result"
    }
   ],
   "source": [
    "stats.ttest_ind(psy_test, np.array([12]*20))"
   ]
  },
  {
   "cell_type": "markdown",
   "metadata": {},
   "source": [
    "### 無相関検定"
   ]
  },
  {
   "cell_type": "code",
   "execution_count": 77,
   "metadata": {},
   "outputs": [],
   "source": [
    "test1 = df['Statistics_test1']\n",
    "test2 = df['Statistics_test2']"
   ]
  },
  {
   "cell_type": "markdown",
   "metadata": {},
   "source": [
    "帰無仮説と対立仮説の設定\\\n",
    "$\n",
    "帰無仮説 H_0 : \\rho = 0 (母相関は0である)\\\\\n",
    "対立仮説 H_1 : \\rho \\neq 0 (母相関は0ではない)\n",
    "$\n",
    "\n",
    "対立仮説より、両側検定となる"
   ]
  },
  {
   "cell_type": "markdown",
   "metadata": {},
   "source": [
    "$\n",
    "t = \\cfrac{r \\sqrt{n-2}}{\\sqrt{1-r^2}}を検定統計量とする\n",
    "$"
   ]
  },
  {
   "cell_type": "code",
   "execution_count": 80,
   "metadata": {},
   "outputs": [
    {
     "data": {
      "text/plain": [
       "0.7496589648242451"
      ]
     },
     "execution_count": 80,
     "metadata": {},
     "output_type": "execute_result"
    }
   ],
   "source": [
    "samp_corr = np.corrcoef(test1, test2)[0][1]\n",
    "samp_corr"
   ]
  },
  {
   "cell_type": "code",
   "execution_count": 81,
   "metadata": {},
   "outputs": [],
   "source": [
    "samp_size = 20"
   ]
  },
  {
   "cell_type": "code",
   "execution_count": 82,
   "metadata": {},
   "outputs": [
    {
     "data": {
      "text/plain": [
       "3.180533625627067"
      ]
     },
     "execution_count": 82,
     "metadata": {},
     "output_type": "execute_result"
    }
   ],
   "source": [
    "t_upper = samp_corr * np.sqrt(samp_size-2)\n",
    "t_upper"
   ]
  },
  {
   "cell_type": "code",
   "execution_count": 84,
   "metadata": {},
   "outputs": [
    {
     "data": {
      "text/plain": [
       "0.6618243244688436"
      ]
     },
     "execution_count": 84,
     "metadata": {},
     "output_type": "execute_result"
    }
   ],
   "source": [
    "t_lower = np.sqrt(1 - samp_corr**2)\n",
    "t_lower"
   ]
  },
  {
   "cell_type": "code",
   "execution_count": 86,
   "metadata": {},
   "outputs": [
    {
     "data": {
      "text/plain": [
       "4.80570675334372"
      ]
     },
     "execution_count": 86,
     "metadata": {},
     "output_type": "execute_result"
    }
   ],
   "source": [
    "t = t_upper / t_lower\n",
    "t"
   ]
  },
  {
   "cell_type": "code",
   "execution_count": 87,
   "metadata": {},
   "outputs": [
    {
     "name": "stdout",
     "output_type": "stream",
     "text": [
      "-2.10092204024096\n",
      "2.10092204024096\n"
     ]
    }
   ],
   "source": [
    "print(stats.t.ppf(0.025, 18))\n",
    "print(stats.t.ppf(0.975, 18))"
   ]
  },
  {
   "cell_type": "markdown",
   "metadata": {},
   "source": [
    "よって帰無仮説は棄却される"
   ]
  },
  {
   "cell_type": "code",
   "execution_count": 91,
   "metadata": {},
   "outputs": [
    {
     "name": "stdout",
     "output_type": "stream",
     "text": [
      "0.749658964824245\n",
      "0.00014162288155448205\n"
     ]
    }
   ],
   "source": [
    "r, p = stats.pearsonr(test1, test2)\n",
    "print(r)\n",
    "print(p)"
   ]
  },
  {
   "cell_type": "markdown",
   "metadata": {},
   "source": [
    "p値が0.05より小さいので帰無仮説は棄却される。"
   ]
  },
  {
   "cell_type": "code",
   "execution_count": null,
   "metadata": {},
   "outputs": [],
   "source": []
  },
  {
   "cell_type": "markdown",
   "metadata": {},
   "source": [
    "## カイ二乗検定\n",
    "２つの質的変数が独立であるかどうかを確かめるために行うものが、独立性の検定"
   ]
  },
  {
   "cell_type": "code",
   "execution_count": 93,
   "metadata": {},
   "outputs": [
    {
     "data": {
      "text/html": [
       "<div>\n",
       "<style scoped>\n",
       "    .dataframe tbody tr th:only-of-type {\n",
       "        vertical-align: middle;\n",
       "    }\n",
       "\n",
       "    .dataframe tbody tr th {\n",
       "        vertical-align: top;\n",
       "    }\n",
       "\n",
       "    .dataframe thead th {\n",
       "        text-align: right;\n",
       "    }\n",
       "</style>\n",
       "<table border=\"1\" class=\"dataframe\">\n",
       "  <thead>\n",
       "    <tr style=\"text-align: right;\">\n",
       "      <th>Statistics</th>\n",
       "      <th>dislike</th>\n",
       "      <th>like</th>\n",
       "      <th>All</th>\n",
       "    </tr>\n",
       "    <tr>\n",
       "      <th>Math</th>\n",
       "      <th></th>\n",
       "      <th></th>\n",
       "      <th></th>\n",
       "    </tr>\n",
       "  </thead>\n",
       "  <tbody>\n",
       "    <tr>\n",
       "      <th>dislike</th>\n",
       "      <td>10</td>\n",
       "      <td>4</td>\n",
       "      <td>14</td>\n",
       "    </tr>\n",
       "    <tr>\n",
       "      <th>like</th>\n",
       "      <td>2</td>\n",
       "      <td>4</td>\n",
       "      <td>6</td>\n",
       "    </tr>\n",
       "    <tr>\n",
       "      <th>All</th>\n",
       "      <td>12</td>\n",
       "      <td>8</td>\n",
       "      <td>20</td>\n",
       "    </tr>\n",
       "  </tbody>\n",
       "</table>\n",
       "</div>"
      ],
      "text/plain": [
       "Statistics  dislike  like  All\n",
       "Math                          \n",
       "dislike          10     4   14\n",
       "like              2     4    6\n",
       "All              12     8   20"
      ]
     },
     "execution_count": 93,
     "metadata": {},
     "output_type": "execute_result"
    }
   ],
   "source": [
    "pd.crosstab(index=[df['Math']],columns=df['Statistics'], margins=True) "
   ]
  },
  {
   "cell_type": "markdown",
   "metadata": {},
   "source": [
    "$\n",
    "帰無仮説 H_0 : 2つの変数は独立\\\\\n",
    "対立仮説 H_1 : 2つの変数には連関がある\n",
    "$"
   ]
  },
  {
   "cell_type": "markdown",
   "metadata": {},
   "source": [
    "統計検定料は$\\chi^2$。\\\n",
    "$ \\chi^2 = \\cfrac{(O_1 - E_1)^2}{E_1} + \\cfrac{(O_2 - E_2)^2}{E_2} + \\cdots + \\cfrac{(O_k - E_k)^2}{E_k}$"
   ]
  },
  {
   "cell_type": "markdown",
   "metadata": {},
   "source": [
    "自由度は「(行の数-1) × (列の数-1)」で求められる。\\\n",
    "例題の場合、自由度df=1のカイ二乗分布に従う。"
   ]
  },
  {
   "cell_type": "code",
   "execution_count": 98,
   "metadata": {},
   "outputs": [
    {
     "data": {
      "image/png": "[encoded data removed]",
      "text/plain": [
       "<Figure size 576x432 with 1 Axes>"
      ]
     },
     "metadata": {},
     "output_type": "display_data"
    }
   ],
   "source": [
    "x = np.linspace(0, 20, 1000)\n",
    "fig,ax = plt.subplots(1, 1, figsize=(8, 6))\n",
    "\n",
    "linestyles = [':', '--', '-.', '-']\n",
    "deg_of_freedom = [1, 2, 4, 8]\n",
    "for k, ls in zip(deg_of_freedom, linestyles):\n",
    "    ax.plot(x, stats.chi2.pdf(x, k), linestyle=ls, label=r'$k=%i$' % k)\n",
    "\n",
    "plt.xlim(0, 20)\n",
    "plt.ylim(0, 0.5)\n",
    "\n",
    "plt.legend()\n",
    "plt.show()"
   ]
  },
  {
   "cell_type": "code",
   "execution_count": 99,
   "metadata": {},
   "outputs": [],
   "source": [
    "expected_frec_11 = 12*14/20\n",
    "expected_frec_21 = 12*6/20\n",
    "expected_frec_12 = 8*14/20\n",
    "expected_frec_22 = 8*6/20"
   ]
  },
  {
   "cell_type": "code",
   "execution_count": 100,
   "metadata": {},
   "outputs": [
    {
     "data": {
      "text/plain": [
       "array([8.4, 3.6, 5.6, 2.4])"
      ]
     },
     "execution_count": 100,
     "metadata": {},
     "output_type": "execute_result"
    }
   ],
   "source": [
    "expected_frec = np.array([expected_frec_11, expected_frec_21, expected_frec_12, expected_frec_22])\n",
    "expected_frec"
   ]
  },
  {
   "cell_type": "code",
   "execution_count": 101,
   "metadata": {},
   "outputs": [
    {
     "data": {
      "text/plain": [
       "array([10,  2,  4,  4])"
      ]
     },
     "execution_count": 101,
     "metadata": {},
     "output_type": "execute_result"
    }
   ],
   "source": [
    "observed_frec = np.array([10, 2, 4, 4])\n",
    "observed_frec"
   ]
  },
  {
   "cell_type": "code",
   "execution_count": 102,
   "metadata": {},
   "outputs": [
    {
     "data": {
      "text/plain": [
       "array([0.3047619 , 0.71111111, 0.45714286, 1.06666667])"
      ]
     },
     "execution_count": 102,
     "metadata": {},
     "output_type": "execute_result"
    }
   ],
   "source": [
    "chi_elements = (observed_frec - expected_frec)**2 / expected_frec\n",
    "chi_elements"
   ]
  },
  {
   "cell_type": "code",
   "execution_count": 103,
   "metadata": {},
   "outputs": [
    {
     "data": {
      "text/plain": [
       "2.5396825396825395"
      ]
     },
     "execution_count": 103,
     "metadata": {},
     "output_type": "execute_result"
    }
   ],
   "source": [
    "chi = np.sum(chi_elements)\n",
    "chi"
   ]
  },
  {
   "cell_type": "code",
   "execution_count": 114,
   "metadata": {},
   "outputs": [
    {
     "data": {
      "text/plain": [
       "3.841458820694124"
      ]
     },
     "execution_count": 114,
     "metadata": {},
     "output_type": "execute_result"
    }
   ],
   "source": [
    "# 棄却域の計算(下側確率)\n",
    "stats.chi2.ppf(0.95, 1)"
   ]
  },
  {
   "cell_type": "code",
   "execution_count": 115,
   "metadata": {},
   "outputs": [
    {
     "data": {
      "text/plain": [
       "3.8414588206941285"
      ]
     },
     "execution_count": 115,
     "metadata": {},
     "output_type": "execute_result"
    }
   ],
   "source": [
    "# 上側確率\n",
    "stats.chi2.isf(0.05, 1)"
   ]
  },
  {
   "cell_type": "code",
   "execution_count": 118,
   "metadata": {},
   "outputs": [
    {
     "data": {
      "text/plain": [
       "0.1110170731459138"
      ]
     },
     "execution_count": 118,
     "metadata": {},
     "output_type": "execute_result"
    }
   ],
   "source": [
    "# p値\n",
    "stats.chi2.sf(2.539683, 1)"
   ]
  },
  {
   "cell_type": "code",
   "execution_count": 121,
   "metadata": {},
   "outputs": [
    {
     "data": {
      "text/plain": [
       "0.1110170731459138"
      ]
     },
     "execution_count": 121,
     "metadata": {},
     "output_type": "execute_result"
    }
   ],
   "source": [
    "1 - stats.chi2.cdf(2.539683, 1)"
   ]
  },
  {
   "cell_type": "code",
   "execution_count": 139,
   "metadata": {},
   "outputs": [
    {
     "data": {
      "text/plain": [
       "Power_divergenceResult(statistic=2.5396825396825395, pvalue=0.1110171055121861)"
      ]
     },
     "execution_count": 139,
     "metadata": {},
     "output_type": "execute_result"
    }
   ],
   "source": [
    "# カイ二乗値とp値の計算\n",
    "stats.chisquare(observed_frec, f_exp = expected_frec, ddof=2)# ddofの値に注意"
   ]
  },
  {
   "cell_type": "markdown",
   "metadata": {},
   "source": [
    "### scipyでは一発でカイ二乗分布を計算できる"
   ]
  },
  {
   "cell_type": "code",
   "execution_count": 109,
   "metadata": {},
   "outputs": [
    {
     "name": "stdout",
     "output_type": "stream",
     "text": [
      "カイ二乗値は 2.5396825396825395\n",
      "確率は 0.1110171055121861\n",
      "自由度は 1\n",
      "[[8.4 5.6]\n",
      " [3.6 2.4]]\n"
     ]
    }
   ],
   "source": [
    "crossed = pd.crosstab(index=[df['Math']],columns=df['Statistics'])\n",
    "x2, p, dof, expected = sp.stats.chi2_contingency(crossed, correction=False)# 連続値の補正をしないのでcorrection=False\n",
    "print(f\"カイ二乗値は {x2}\")\n",
    "print(f\"確率は {p}\")\n",
    "print(f\"自由度は {dof}\")\n",
    "print( expected )"
   ]
  },
  {
   "cell_type": "markdown",
   "metadata": {},
   "source": [
    "### サンプルサイズの影響"
   ]
  },
  {
   "cell_type": "code",
   "execution_count": 126,
   "metadata": {},
   "outputs": [
    {
     "data": {
      "text/plain": [
       "3.8414588206941285"
      ]
     },
     "execution_count": 126,
     "metadata": {},
     "output_type": "execute_result"
    }
   ],
   "source": [
    "stats.chi2.isf(0.05, 1)"
   ]
  },
  {
   "cell_type": "markdown",
   "metadata": {},
   "source": [
    "棄却域は$ \\chi^2 > 3.841459$"
   ]
  },
  {
   "cell_type": "code",
   "execution_count": 122,
   "metadata": {},
   "outputs": [
    {
     "data": {
      "text/html": [
       "<div>\n",
       "<style scoped>\n",
       "    .dataframe tbody tr th:only-of-type {\n",
       "        vertical-align: middle;\n",
       "    }\n",
       "\n",
       "    .dataframe tbody tr th {\n",
       "        vertical-align: top;\n",
       "    }\n",
       "\n",
       "    .dataframe thead th {\n",
       "        text-align: right;\n",
       "    }\n",
       "</style>\n",
       "<table border=\"1\" class=\"dataframe\">\n",
       "  <thead>\n",
       "    <tr style=\"text-align: right;\">\n",
       "      <th></th>\n",
       "      <th>0</th>\n",
       "      <th>1</th>\n",
       "    </tr>\n",
       "  </thead>\n",
       "  <tbody>\n",
       "    <tr>\n",
       "      <th>0</th>\n",
       "      <td>16</td>\n",
       "      <td>4</td>\n",
       "    </tr>\n",
       "    <tr>\n",
       "      <th>1</th>\n",
       "      <td>12</td>\n",
       "      <td>8</td>\n",
       "    </tr>\n",
       "  </tbody>\n",
       "</table>\n",
       "</div>"
      ],
      "text/plain": [
       "    0  1\n",
       "0  16  4\n",
       "1  12  8"
      ]
     },
     "execution_count": 122,
     "metadata": {},
     "output_type": "execute_result"
    }
   ],
   "source": [
    "resume = pd.DataFrame([[16, 4],[12, 8]])\n",
    "resume"
   ]
  },
  {
   "cell_type": "code",
   "execution_count": 123,
   "metadata": {},
   "outputs": [
    {
     "name": "stdout",
     "output_type": "stream",
     "text": [
      "カイ二乗値は 1.9047619047619047\n",
      "確率は 0.16754627748861328\n",
      "自由度は 1\n",
      "[[14.  6.]\n",
      " [14.  6.]]\n"
     ]
    }
   ],
   "source": [
    "x2, p, dof, expected = sp.stats.chi2_contingency(resume, correction=False)\n",
    "print(f\"カイ二乗値は {x2}\")\n",
    "print(f\"確率は {p}\")\n",
    "print(f\"自由度は {dof}\")\n",
    "print( expected )"
   ]
  },
  {
   "cell_type": "code",
   "execution_count": null,
   "metadata": {},
   "outputs": [],
   "source": []
  },
  {
   "cell_type": "code",
   "execution_count": 127,
   "metadata": {},
   "outputs": [
    {
     "data": {
      "text/html": [
       "<div>\n",
       "<style scoped>\n",
       "    .dataframe tbody tr th:only-of-type {\n",
       "        vertical-align: middle;\n",
       "    }\n",
       "\n",
       "    .dataframe tbody tr th {\n",
       "        vertical-align: top;\n",
       "    }\n",
       "\n",
       "    .dataframe thead th {\n",
       "        text-align: right;\n",
       "    }\n",
       "</style>\n",
       "<table border=\"1\" class=\"dataframe\">\n",
       "  <thead>\n",
       "    <tr style=\"text-align: right;\">\n",
       "      <th></th>\n",
       "      <th>0</th>\n",
       "      <th>1</th>\n",
       "    </tr>\n",
       "  </thead>\n",
       "  <tbody>\n",
       "    <tr>\n",
       "      <th>0</th>\n",
       "      <td>160</td>\n",
       "      <td>40</td>\n",
       "    </tr>\n",
       "    <tr>\n",
       "      <th>1</th>\n",
       "      <td>120</td>\n",
       "      <td>80</td>\n",
       "    </tr>\n",
       "  </tbody>\n",
       "</table>\n",
       "</div>"
      ],
      "text/plain": [
       "     0   1\n",
       "0  160  40\n",
       "1  120  80"
      ]
     },
     "execution_count": 127,
     "metadata": {},
     "output_type": "execute_result"
    }
   ],
   "source": [
    "resume2 = pd.DataFrame([[160, 40],[120, 80]])\n",
    "resume2"
   ]
  },
  {
   "cell_type": "code",
   "execution_count": 128,
   "metadata": {},
   "outputs": [
    {
     "name": "stdout",
     "output_type": "stream",
     "text": [
      "カイ二乗値は 19.047619047619047\n",
      "確率は 1.2749674921097076e-05\n",
      "自由度は 1\n",
      "[[140.  60.]\n",
      " [140.  60.]]\n"
     ]
    }
   ],
   "source": [
    "x2, p, dof, expected = sp.stats.chi2_contingency(resume2, correction=False)\n",
    "print(f\"カイ二乗値は {x2}\")\n",
    "print(f\"確率は {p}\")\n",
    "print(f\"自由度は {dof}\")\n",
    "print( expected )"
   ]
  },
  {
   "cell_type": "code",
   "execution_count": null,
   "metadata": {},
   "outputs": [],
   "source": []
  },
  {
   "cell_type": "markdown",
   "metadata": {},
   "source": [
    "# 練習問題\n",
    "#### 1"
   ]
  },
  {
   "cell_type": "code",
   "execution_count": 129,
   "metadata": {},
   "outputs": [],
   "source": [
    "sample = np.array([165, 150, 170, 168, 159, 170, 167, 178, 155, 159,\n",
    "                  161, 162, 166, 171, 155, 160, 168, 172, 155, 167])"
   ]
  },
  {
   "cell_type": "markdown",
   "metadata": {},
   "source": [
    "帰無仮説:$\\mu=170$、対立仮説:$\\mu \\neq 170$"
   ]
  },
  {
   "cell_type": "code",
   "execution_count": 133,
   "metadata": {},
   "outputs": [
    {
     "name": "stdout",
     "output_type": "stream",
     "text": [
      "-2.0930240544082634\n",
      "2.093024054408263\n"
     ]
    }
   ],
   "source": [
    "# 母分散が未知なのでt分布を使用する\n",
    "# 自由度は　n-1 = 20-1 = 19\n",
    "print(stats.t.ppf(0.025, 19))\n",
    "print(stats.t.ppf(0.975, 19))"
   ]
  },
  {
   "cell_type": "code",
   "execution_count": 132,
   "metadata": {},
   "outputs": [
    {
     "data": {
      "text/plain": [
       "-3.8502858588965956"
      ]
     },
     "execution_count": 132,
     "metadata": {},
     "output_type": "execute_result"
    }
   ],
   "source": [
    "t =  (np.mean(sample) - 170) / (np.var(sample, ddof=1)/len(sample))**0.5  \n",
    "t"
   ]
  },
  {
   "cell_type": "markdown",
   "metadata": {},
   "source": [
    "帰無仮説を棄却 -> $\\mu \\neq 170$ である\\\n",
    "無作為標本と考えてはいけない"
   ]
  },
  {
   "cell_type": "markdown",
   "metadata": {},
   "source": [
    "#### 2"
   ]
  },
  {
   "cell_type": "markdown",
   "metadata": {},
   "source": [
    "帰無仮説:$\\rho = 0$(母相関は0)\\\n",
    "対立仮説:$\\rho \\neq 0$(母相関は0ではない)"
   ]
  },
  {
   "cell_type": "code",
   "execution_count": 134,
   "metadata": {},
   "outputs": [],
   "source": [
    "StudyHours = np.array([1, 3, 10, 12, 6, 3, 8, 4, 1, 5])\n",
    "ExamResult = np.array([20, 40, 100, 80, 50, 50, 70, 50, 10, 60])"
   ]
  },
  {
   "cell_type": "markdown",
   "metadata": {},
   "source": [
    "p値が0.05より小さいので帰無仮説を棄却。独立ではない。つまり相関がある。"
   ]
  },
  {
   "cell_type": "code",
   "execution_count": 135,
   "metadata": {},
   "outputs": [
    {
     "name": "stdout",
     "output_type": "stream",
     "text": [
      "0.9092973987719787\n",
      "0.0002650851355052368\n"
     ]
    }
   ],
   "source": [
    "r, p = stats.pearsonr(StudyHours, ExamResult)\n",
    "print(r)\n",
    "print(p)"
   ]
  },
  {
   "cell_type": "code",
   "execution_count": null,
   "metadata": {},
   "outputs": [],
   "source": []
  },
  {
   "cell_type": "code",
   "execution_count": 150,
   "metadata": {},
   "outputs": [
    {
     "name": "stdout",
     "output_type": "stream",
     "text": [
      "6.180224916880355\n"
     ]
    }
   ],
   "source": [
    "samp_corr = np.corrcoef(StudyHours, ExamResult)[0][1]\n",
    "samp_size = 10\n",
    "t = samp_corr * np.sqrt(samp_size-2) / np.sqrt(1 - samp_corr**2)\n",
    "print(t)"
   ]
  },
  {
   "cell_type": "code",
   "execution_count": 137,
   "metadata": {},
   "outputs": [
    {
     "name": "stdout",
     "output_type": "stream",
     "text": [
      "-2.306004135033371\n",
      "2.3060041350333704\n"
     ]
    }
   ],
   "source": [
    "print(stats.t.ppf(0.025, 8))\n",
    "print(stats.t.ppf(0.975, 8))"
   ]
  },
  {
   "cell_type": "markdown",
   "metadata": {},
   "source": [
    "帰無仮説を棄却 -> 母相関は0ではない -> 相関がある"
   ]
  },
  {
   "cell_type": "markdown",
   "metadata": {},
   "source": [
    "#### 3"
   ]
  },
  {
   "cell_type": "code",
   "execution_count": 143,
   "metadata": {},
   "outputs": [],
   "source": [
    "# help(stats.spearmanr)"
   ]
  },
  {
   "cell_type": "markdown",
   "metadata": {},
   "source": [
    "#### 4"
   ]
  },
  {
   "cell_type": "code",
   "execution_count": 142,
   "metadata": {},
   "outputs": [],
   "source": [
    "FoodTendency = np.array([\"洋食\",\"和食\",\"和食\",\"洋食\",\"和食\",\"洋食\",\"洋食\",\"和食\",\"洋食\",\"洋食\",\"和食\",\n",
    "                         \"洋食\",\"和食\",\"洋食\",\"和食\",\"和食\",\"洋食\",\"洋食\",\"和食\",\"和食\"])\n",
    "                         \n",
    "TasteTendency = np.array([\"甘党\",\"辛党\",\"甘党\",\"甘党\",\"辛党\",\"辛党\",\"辛党\",\"辛党\",\"甘党\",\"甘党\",\"甘党\",\n",
    "                         \"甘党\",\"辛党\",\"辛党\",\"甘党\",\"辛党\",\"辛党\",\"甘党\",\"辛党\",\"辛党\"])"
   ]
  },
  {
   "cell_type": "code",
   "execution_count": 145,
   "metadata": {},
   "outputs": [
    {
     "data": {
      "text/html": [
       "<div>\n",
       "<style scoped>\n",
       "    .dataframe tbody tr th:only-of-type {\n",
       "        vertical-align: middle;\n",
       "    }\n",
       "\n",
       "    .dataframe tbody tr th {\n",
       "        vertical-align: top;\n",
       "    }\n",
       "\n",
       "    .dataframe thead th {\n",
       "        text-align: right;\n",
       "    }\n",
       "</style>\n",
       "<table border=\"1\" class=\"dataframe\">\n",
       "  <thead>\n",
       "    <tr style=\"text-align: right;\">\n",
       "      <th>col_0</th>\n",
       "      <th>甘党</th>\n",
       "      <th>辛党</th>\n",
       "    </tr>\n",
       "    <tr>\n",
       "      <th>row_0</th>\n",
       "      <th></th>\n",
       "      <th></th>\n",
       "    </tr>\n",
       "  </thead>\n",
       "  <tbody>\n",
       "    <tr>\n",
       "      <th>和食</th>\n",
       "      <td>3</td>\n",
       "      <td>7</td>\n",
       "    </tr>\n",
       "    <tr>\n",
       "      <th>洋食</th>\n",
       "      <td>6</td>\n",
       "      <td>4</td>\n",
       "    </tr>\n",
       "  </tbody>\n",
       "</table>\n",
       "</div>"
      ],
      "text/plain": [
       "col_0  甘党  辛党\n",
       "row_0        \n",
       "和食      3   7\n",
       "洋食      6   4"
      ]
     },
     "execution_count": 145,
     "metadata": {},
     "output_type": "execute_result"
    }
   ],
   "source": [
    "tendency = pd.crosstab(FoodTendency, TasteTendency)\n",
    "tendency"
   ]
  },
  {
   "cell_type": "code",
   "execution_count": 147,
   "metadata": {},
   "outputs": [
    {
     "name": "stdout",
     "output_type": "stream",
     "text": [
      "カイ二乗値は 1.8181818181818183\n",
      "p値(確率)は 0.17752985241214955\n",
      "自由度は 1\n",
      "[[4.5 5.5]\n",
      " [4.5 5.5]]\n"
     ]
    }
   ],
   "source": [
    "x2, p, dof, expected = sp.stats.chi2_contingency(tendency, correction=False)\n",
    "print(f\"カイ二乗値は {x2}\")\n",
    "print(f\"p値(確率)は {p}\")\n",
    "print(f\"自由度は {dof}\")\n",
    "print( expected )"
   ]
  },
  {
   "cell_type": "markdown",
   "metadata": {},
   "source": [
    "p値 >= 0.025なので帰無仮説が棄却されない。\\\n",
    "連関がない"
   ]
  },
  {
   "cell_type": "markdown",
   "metadata": {},
   "source": [
    "#### 5"
   ]
  },
  {
   "cell_type": "code",
   "execution_count": 149,
   "metadata": {},
   "outputs": [],
   "source": [
    "Kokugo = np.array([60,40,30,70,55])\n",
    "Shakai = np.array([80,25,35,70,50])"
   ]
  },
  {
   "cell_type": "code",
   "execution_count": 158,
   "metadata": {},
   "outputs": [
    {
     "name": "stdout",
     "output_type": "stream",
     "text": [
      "0.8412630177137491\n",
      "0.07408497775131745\n"
     ]
    }
   ],
   "source": [
    "r, p = stats.pearsonr(Kokugo, Shakai)\n",
    "print(r)\n",
    "print(p)"
   ]
  },
  {
   "cell_type": "markdown",
   "metadata": {},
   "source": [
    "p値が0.05より大きいので帰無仮説を採択する。-> 母相関が0 -> 相関はない"
   ]
  },
  {
   "cell_type": "code",
   "execution_count": 155,
   "metadata": {},
   "outputs": [],
   "source": [
    "Kokugo2 = np.array([60,40,30,70,55,60,40,30,70,55])\n",
    "Shakai2 = np.array([80,25,35,70,50,80,25,35,70,50])"
   ]
  },
  {
   "cell_type": "code",
   "execution_count": 159,
   "metadata": {},
   "outputs": [
    {
     "name": "stdout",
     "output_type": "stream",
     "text": [
      "0.841263017713749\n",
      "0.0022828207300433175\n"
     ]
    }
   ],
   "source": [
    "r, p = stats.pearsonr(Kokugo2, Shakai2)\n",
    "print(r)\n",
    "print(p)"
   ]
  },
  {
   "cell_type": "markdown",
   "metadata": {},
   "source": [
    "p値が0.05より小さいので帰無仮説を棄却する。-> 母相関が0ではない -> 相関がある"
   ]
  },
  {
   "cell_type": "code",
   "execution_count": null,
   "metadata": {},
   "outputs": [],
   "source": []
  },
  {
   "cell_type": "markdown",
   "metadata": {},
   "source": [
    "## Rモジュールを使用\n",
    "testメソッドがpythonになかったため\n",
    "???\n",
    "うまく値を代入できなかった。"
   ]
  },
  {
   "cell_type": "code",
   "execution_count": 75,
   "metadata": {},
   "outputs": [
    {
     "data": {
      "text/plain": [
       "\"try({psy})\\nError in try({ :  オブジェクト 'psy' がありません \\n\""
      ]
     },
     "execution_count": 75,
     "metadata": {},
     "output_type": "execute_result"
    }
   ],
   "source": [
    "import pyper\n",
    "\n",
    "# R のインスタンスを作る\n",
    "r = pyper.R(use_numpy='True', use_pandas='True')\n",
    "\n",
    "# Python のオブジェクトを R に渡す\n",
    "r.assign(\"ｐｓｙ\", df['Psychology_test'])\n",
    "\n",
    "# R のソースコードを実行する\n",
    "r(\"psy\")"
   ]
  },
  {
   "cell_type": "code",
   "execution_count": 73,
   "metadata": {},
   "outputs": [
    {
     "data": {
      "text/plain": [
       "0     13\n",
       "1     14\n",
       "2      7\n",
       "3     12\n",
       "4     10\n",
       "5      6\n",
       "6      8\n",
       "7     15\n",
       "8      4\n",
       "9     14\n",
       "10     9\n",
       "11     6\n",
       "12    10\n",
       "13    12\n",
       "14     5\n",
       "15    12\n",
       "16     8\n",
       "17     8\n",
       "18    12\n",
       "19    15\n",
       "Name: Psychology_test, dtype: int64"
      ]
     },
     "execution_count": 73,
     "metadata": {},
     "output_type": "execute_result"
    }
   ],
   "source": [
    "df['Psychology_test']"
   ]
  },
  {
   "cell_type": "code",
   "execution_count": 59,
   "metadata": {},
   "outputs": [],
   "source": [
    "r = pyper.R()"
   ]
  },
  {
   "cell_type": "code",
   "execution_count": 60,
   "metadata": {},
   "outputs": [
    {
     "name": "stdout",
     "output_type": "stream",
     "text": [
      "try({a})\n",
      "[1] 10\n",
      "\n",
      "try({a + b})\n",
      "[1] 15\n",
      "\n"
     ]
    }
   ],
   "source": [
    "import pyper\n",
    "r = pyper.R()\n",
    "r(\"a <- 10\")\n",
    "print(r(\"a\"))\n",
    "# 結果\n",
    "#　try({a})\n",
    "#[1] 10\n",
    "\n",
    "r(\"b <- 5\")\n",
    "print(r(\"a + b\"))\n",
    "# 結果\n",
    "# try({a + b})\n",
    "# [1] 15"
   ]
  },
  {
   "cell_type": "code",
   "execution_count": null,
   "metadata": {},
   "outputs": [],
   "source": [
    "import pyper\n",
    "import pandas as pd\n",
    "\n",
    "# Python で CSV のデータを読み出す\n",
    "wine = pd.read_csv(\"wine.csv\")\n",
    "\n",
    "# R のインスタンスを作る\n",
    "r = pyper.R(use_pandas='True')\n",
    "\n",
    "# Python のオブジェクトを R に渡す\n",
    "r.assign(\"data\", wine)\n",
    "\n",
    "# R のソースコードを実行する\n",
    "r(\"source(file='scatter.R')\")"
   ]
  }
 ],
 "metadata": {
  "kernelspec": {
   "display_name": "Python 3",
   "language": "python",
   "name": "python3"
  },
  "language_info": {
   "codemirror_mode": {
    "name": "ipython",
    "version": 3
   },
   "file_extension": ".py",
   "mimetype": "text/x-python",
   "name": "python",
   "nbconvert_exporter": "python",
   "pygments_lexer": "ipython3",
   "version": "3.7.6"
  }
 },
 "nbformat": 4,
 "nbformat_minor": 4
}
