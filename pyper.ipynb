{
 "cells": [
  {
   "cell_type": "markdown",
   "metadata": {},
   "source": [
    "# pyperを使用してPythonとRを連携させる"
   ]
  },
  {
   "cell_type": "code",
   "execution_count": 1,
   "metadata": {},
   "outputs": [],
   "source": [
    "import numpy as np\n",
    "import pandas as pd\n",
    "import matplotlib.pyplot as plt\n",
    "%matplotlib inline\n",
    "import seaborn as sns\n",
    "\n",
    "import pyper"
   ]
  },
  {
   "cell_type": "code",
   "execution_count": 3,
   "metadata": {},
   "outputs": [
    {
     "name": "stdout",
     "output_type": "stream",
     "text": [
      "try({df})\n",
      "   ID   Name Sex    Math Statistics Psychology_test Statistics_test1\n",
      "0   1   大村   m dislike       like              13                6\n",
      "1   2   本多   m dislike       like              14               10\n",
      "2   3   川崎   m    like       like               7                6\n",
      "3   4   多村   m    like       like              12               10\n",
      "4   5   松中   m dislike    dislike              10                5\n",
      "5   6 小久保   m dislike    dislike               6                3\n",
      "6   7   柴原   m dislike    dislike               8                5\n",
      "7   8   井手   m dislike    dislike              15                9\n",
      "8   9   田上   m dislike    dislike               4                3\n",
      "9  10   松田   m    like    dislike              14                3\n",
      "10 11   高谷   f    like       like               9               11\n",
      "11 12   杉内   f dislike       like               6                6\n",
      "12 13   和田   f    like       like              10               11\n",
      "13 14   新垣   f dislike    dislike              12                9\n",
      "14 15   大隣   f dislike       like               5                7\n",
      "15 16   水田   f    like    dislike              12                5\n",
      "16 17   斉藤   f dislike    dislike               8                8\n",
      "17 18   柳瀬   f dislike    dislike               8                7\n",
      "18 19   佐藤   f dislike    dislike              12                7\n",
      "19 20   馬原   f dislike    dislike              15                9\n",
      "   Statistics_test2 Method\n",
      "0                10      C\n",
      "1                13      B\n",
      "2                 8      B\n",
      "3                15      A\n",
      "4                 8      B\n",
      "5                 6      C\n",
      "6                 9      A\n",
      "7                10      D\n",
      "8                 7      D\n",
      "9                 3      D\n",
      "10               18      A\n",
      "11               14      A\n",
      "12               18      A\n",
      "13               11      C\n",
      "14               12      B\n",
      "15                5      D\n",
      "16                7      C\n",
      "17               12      C\n",
      "18                7      B\n",
      "19                7      D\n",
      "\n"
     ]
    }
   ],
   "source": [
    "# Python で CSV のデータを読み出す\n",
    "df = pd.read_csv(\"teaching_method.csv\")\n",
    "\n",
    "# R のインスタンスを作る\n",
    "r = pyper.R(use_numpy=True, use_pandas=True)# defaultでTrue\n",
    "\n",
    "# Python のオブジェクトを R に渡す\n",
    "r.assign(\"df\", df)\n",
    "\n",
    "# R のソースコードを実行する\n",
    "print(r(\"df\"))"
   ]
  },
  {
   "cell_type": "code",
   "execution_count": 4,
   "metadata": {},
   "outputs": [
    {
     "name": "stdout",
     "output_type": "stream",
     "text": [
      "10\n"
     ]
    }
   ],
   "source": [
    "# Python で R のオブジェクトを読む\n",
    "r('test <- 10')\n",
    "test = r.get('test')\n",
    "print(test)"
   ]
  },
  {
   "cell_type": "code",
   "execution_count": 10,
   "metadata": {},
   "outputs": [
    {
     "data": {
      "text/html": [
       "<div>\n",
       "<style scoped>\n",
       "    .dataframe tbody tr th:only-of-type {\n",
       "        vertical-align: middle;\n",
       "    }\n",
       "\n",
       "    .dataframe tbody tr th {\n",
       "        vertical-align: top;\n",
       "    }\n",
       "\n",
       "    .dataframe thead th {\n",
       "        text-align: right;\n",
       "    }\n",
       "</style>\n",
       "<table border=\"1\" class=\"dataframe\">\n",
       "  <thead>\n",
       "    <tr style=\"text-align: right;\">\n",
       "      <th></th>\n",
       "    </tr>\n",
       "  </thead>\n",
       "  <tbody>\n",
       "  </tbody>\n",
       "</table>\n",
       "</div>"
      ],
      "text/plain": [
       "Empty DataFrame\n",
       "Columns: []\n",
       "Index: []"
      ]
     },
     "execution_count": 10,
     "metadata": {},
     "output_type": "execute_result"
    }
   ],
   "source": [
    "# Python で R からDataFrameを読む\n",
    "r('df2 <- data.frame(df)')\n",
    "# print(r('df2'))\n",
    "df2 = pd.DataFrame(r.get('df2'))\n",
    "df2"
   ]
  },
  {
   "cell_type": "code",
   "execution_count": null,
   "metadata": {},
   "outputs": [],
   "source": []
  }
 ],
 "metadata": {
  "kernelspec": {
   "display_name": "Python 3",
   "language": "python",
   "name": "python3"
  },
  "language_info": {
   "codemirror_mode": {
    "name": "ipython",
    "version": 3
   },
   "file_extension": ".py",
   "mimetype": "text/x-python",
   "name": "python",
   "nbconvert_exporter": "python",
   "pygments_lexer": "ipython3",
   "version": "3.7.6"
  }
 },
 "nbformat": 4,
 "nbformat_minor": 4
}
