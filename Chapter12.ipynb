{
 "cells": [
  {
   "cell_type": "markdown",
   "metadata": {},
   "source": [
    "# 12 二項検定"
   ]
  },
  {
   "cell_type": "code",
   "execution_count": 1,
   "metadata": {},
   "outputs": [],
   "source": [
    "import numpy as np\n",
    "import pandas as pd\n",
    "import matplotlib.pyplot as plt\n",
    "import seaborn as sns\n",
    "import scipy as sp\n",
    "from scipy import stats\n",
    "%matplotlib inline\n",
    "from itertools import cycle\n",
    "import pyper\n",
    "\n",
    "sns.set(style='ticks')\n",
    "color_pal = plt.rcParams['axes.prop_cycle'].by_key()['color']\n",
    "color_cycle = cycle(plt.rcParams['axes.prop_cycle'].by_key()['color'])"
   ]
  },
  {
   "cell_type": "markdown",
   "metadata": {},
   "source": [
    "## 12.2\n",
    "### 12.2.1"
   ]
  },
  {
   "cell_type": "code",
   "execution_count": 12,
   "metadata": {},
   "outputs": [
    {
     "data": {
      "text/plain": [
       "0.0010871887207031235"
      ]
     },
     "execution_count": 12,
     "metadata": {},
     "output_type": "execute_result"
    }
   ],
   "source": [
    "# scipy.stats.bino.pmf(x,n,p): n回試行で確率pの事象がx回起こる確率\n",
    "stats.binom.pmf(17, 20, 0.5)"
   ]
  },
  {
   "cell_type": "code",
   "execution_count": 13,
   "metadata": {},
   "outputs": [
    {
     "data": {
      "text/plain": [
       "array([ 0,  1,  2,  3,  4,  5,  6,  7,  8,  9, 10, 11, 12, 13, 14, 15, 16,\n",
       "       17, 18, 19, 20])"
      ]
     },
     "execution_count": 13,
     "metadata": {},
     "output_type": "execute_result"
    }
   ],
   "source": [
    "num_win = np.arange(0,21)\n",
    "num_win"
   ]
  },
  {
   "cell_type": "code",
   "execution_count": 14,
   "metadata": {},
   "outputs": [
    {
     "data": {
      "text/plain": [
       "array([9.53674316e-07, 1.90734863e-05, 1.81198120e-04, 1.08718872e-03,\n",
       "       4.62055206e-03, 1.47857666e-02, 3.69644165e-02, 7.39288330e-02,\n",
       "       1.20134354e-01, 1.60179138e-01, 1.76197052e-01, 1.60179138e-01,\n",
       "       1.20134354e-01, 7.39288330e-02, 3.69644165e-02, 1.47857666e-02,\n",
       "       4.62055206e-03, 1.08718872e-03, 1.81198120e-04, 1.90734863e-05,\n",
       "       9.53674316e-07])"
      ]
     },
     "execution_count": 14,
     "metadata": {},
     "output_type": "execute_result"
    }
   ],
   "source": [
    "stats.binom.pmf(num_win, 20, 0.5)"
   ]
  },
  {
   "cell_type": "code",
   "execution_count": 15,
   "metadata": {},
   "outputs": [
    {
     "data": {
      "image/png": "[encoded data removed]",
      "text/plain": [
       "<Figure size 432x288 with 1 Axes>"
      ]
     },
     "metadata": {},
     "output_type": "display_data"
    }
   ],
   "source": [
    "plt.bar(num_win, stats.binom.pmf(num_win,20,0.5))\n",
    "plt.show()"
   ]
  },
  {
   "cell_type": "code",
   "execution_count": 21,
   "metadata": {},
   "outputs": [
    {
     "data": {
      "text/plain": [
       "array([0.000e+00, 0.000e+00, 2.000e-04, 1.300e-03, 5.900e-03, 2.070e-02,\n",
       "       5.770e-02, 1.316e-01, 2.517e-01, 4.119e-01, 5.881e-01, 7.483e-01,\n",
       "       8.684e-01, 9.423e-01, 9.793e-01, 9.941e-01, 9.987e-01, 9.998e-01,\n",
       "       1.000e+00, 1.000e+00, 1.000e+00])"
      ]
     },
     "execution_count": 21,
     "metadata": {},
     "output_type": "execute_result"
    }
   ],
   "source": [
    "# 勝利数がx以下である確率(下側確率)\n",
    "np.round(stats.binom.cdf(num_win,20,0.5), decimals=4)"
   ]
  },
  {
   "cell_type": "code",
   "execution_count": 30,
   "metadata": {},
   "outputs": [
    {
     "data": {
      "text/plain": [
       "0.9987115859985352"
      ]
     },
     "execution_count": 30,
     "metadata": {},
     "output_type": "execute_result"
    }
   ],
   "source": [
    "# p値\n",
    "# 勝利数が16勝以下になる確率\n",
    "stats.binom.cdf(16,20,0.5)"
   ]
  },
  {
   "cell_type": "code",
   "execution_count": 31,
   "metadata": {},
   "outputs": [
    {
     "data": {
      "text/plain": [
       "0.0012884140014648435"
      ]
     },
     "execution_count": 31,
     "metadata": {},
     "output_type": "execute_result"
    }
   ],
   "source": [
    "# 勝利数が<<17勝>>以上になる確率のp値\n",
    "# 第一引数が16であることに注意\n",
    "stats.binom.sf(16,20,0.5)"
   ]
  },
  {
   "cell_type": "markdown",
   "metadata": {},
   "source": [
    "## 12.3\n",
    "### 12.3.1\n",
    "1. 帰無仮説$H_0$: $\\pi = \\cfrac{1}{3}$（この予測法にはじゃんけんの手を当てる力がない）\\\n",
    "   対立仮説$H_1$: $\\pi > \\cfrac{1}{3}$（この予測法はじゃんけんの手を当てる力がある）\n",
    "2. 検定統計量: 10下位のじゃんけん勝負のうち手を当てた回数\n",
    "3. 有意水準$\\alpha = 0.05$。片側検定。\n",
    "4. 検定統計量の実現値: 手を当てた回数7回\n",
    "5. 帰無仮説の棄却or採択の決定"
   ]
  },
  {
   "cell_type": "code",
   "execution_count": 33,
   "metadata": {},
   "outputs": [
    {
     "data": {
      "text/plain": [
       "array([0.0173, 0.104 , 0.2991, 0.5593, 0.7869, 0.9234, 0.9803, 0.9966,\n",
       "       0.9996, 1.    , 1.    ])"
      ]
     },
     "execution_count": 33,
     "metadata": {},
     "output_type": "execute_result"
    }
   ],
   "source": [
    "num = np.arange(11)\n",
    "np.round(stats.binom.cdf(num,10,1/3), decimals=4)"
   ]
  },
  {
   "cell_type": "markdown",
   "metadata": {},
   "source": [
    "的中回数が5回以下の確率が0.9234、6回以下の確率が0.9803なので、棄却域は7回以上となる。\\\n",
    "よって帰無仮説は棄却される。\\\n",
    "ちなみにp値は以下。"
   ]
  },
  {
   "cell_type": "code",
   "execution_count": 34,
   "metadata": {},
   "outputs": [
    {
     "data": {
      "text/plain": [
       "0.019661636945587556"
      ]
     },
     "execution_count": 34,
     "metadata": {},
     "output_type": "execute_result"
    }
   ],
   "source": [
    "stats.binom.sf(6,10,1/3)"
   ]
  },
  {
   "cell_type": "markdown",
   "metadata": {},
   "source": [
    "これは有意水準0.05よりも低いので、帰無仮説は棄却される。"
   ]
  },
  {
   "cell_type": "code",
   "execution_count": null,
   "metadata": {},
   "outputs": [],
   "source": []
  }
 ],
 "metadata": {
  "kernelspec": {
   "display_name": "Python 3",
   "language": "python",
   "name": "python3"
  },
  "language_info": {
   "codemirror_mode": {
    "name": "ipython",
    "version": 3
   },
   "file_extension": ".py",
   "mimetype": "text/x-python",
   "name": "python",
   "nbconvert_exporter": "python",
   "pygments_lexer": "ipython3",
   "version": "3.7.6"
  }
 },
 "nbformat": 4,
 "nbformat_minor": 4
}
