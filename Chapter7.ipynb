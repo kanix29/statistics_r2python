{
 "cells": [
  {
   "cell_type": "markdown",
   "metadata": {},
   "source": [
    "# 7. 分散分析\n",
    "３つ以上の平均値差の検定のこと。t検定は3つ以上の平均値差の検定には使えない"
   ]
  },
  {
   "cell_type": "code",
   "execution_count": 1,
   "metadata": {},
   "outputs": [],
   "source": [
    "import numpy as np\n",
    "import pandas as pd\n",
    "import matplotlib.pyplot as plt\n",
    "import seaborn as sns\n",
    "import scipy as sp\n",
    "from scipy import stats\n",
    "%matplotlib inline\n",
    "from itertools import cycle\n",
    "\n",
    "sns.set(style='ticks')\n",
    "color_pal = plt.rcParams['axes.prop_cycle'].by_key()['color']\n",
    "color_cycle = cycle(plt.rcParams['axes.prop_cycle'].by_key()['color'])"
   ]
  },
  {
   "cell_type": "code",
   "execution_count": 2,
   "metadata": {},
   "outputs": [
    {
     "data": {
      "text/html": [
       "<div>\n",
       "<style scoped>\n",
       "    .dataframe tbody tr th:only-of-type {\n",
       "        vertical-align: middle;\n",
       "    }\n",
       "\n",
       "    .dataframe tbody tr th {\n",
       "        vertical-align: top;\n",
       "    }\n",
       "\n",
       "    .dataframe thead th {\n",
       "        text-align: right;\n",
       "    }\n",
       "</style>\n",
       "<table border=\"1\" class=\"dataframe\">\n",
       "  <thead>\n",
       "    <tr style=\"text-align: right;\">\n",
       "      <th></th>\n",
       "      <th>ID</th>\n",
       "      <th>Name</th>\n",
       "      <th>Sex</th>\n",
       "      <th>Math</th>\n",
       "      <th>Statistics</th>\n",
       "      <th>Psychology_test</th>\n",
       "      <th>Statistics_test1</th>\n",
       "      <th>Statistics_test2</th>\n",
       "      <th>Method</th>\n",
       "    </tr>\n",
       "  </thead>\n",
       "  <tbody>\n",
       "    <tr>\n",
       "      <th>0</th>\n",
       "      <td>1</td>\n",
       "      <td>大村</td>\n",
       "      <td>m</td>\n",
       "      <td>dislike</td>\n",
       "      <td>like</td>\n",
       "      <td>13</td>\n",
       "      <td>6</td>\n",
       "      <td>10</td>\n",
       "      <td>C</td>\n",
       "    </tr>\n",
       "    <tr>\n",
       "      <th>1</th>\n",
       "      <td>2</td>\n",
       "      <td>本多</td>\n",
       "      <td>m</td>\n",
       "      <td>dislike</td>\n",
       "      <td>like</td>\n",
       "      <td>14</td>\n",
       "      <td>10</td>\n",
       "      <td>13</td>\n",
       "      <td>B</td>\n",
       "    </tr>\n",
       "    <tr>\n",
       "      <th>2</th>\n",
       "      <td>3</td>\n",
       "      <td>川崎</td>\n",
       "      <td>m</td>\n",
       "      <td>like</td>\n",
       "      <td>like</td>\n",
       "      <td>7</td>\n",
       "      <td>6</td>\n",
       "      <td>8</td>\n",
       "      <td>B</td>\n",
       "    </tr>\n",
       "    <tr>\n",
       "      <th>3</th>\n",
       "      <td>4</td>\n",
       "      <td>多村</td>\n",
       "      <td>m</td>\n",
       "      <td>like</td>\n",
       "      <td>like</td>\n",
       "      <td>12</td>\n",
       "      <td>10</td>\n",
       "      <td>15</td>\n",
       "      <td>A</td>\n",
       "    </tr>\n",
       "    <tr>\n",
       "      <th>4</th>\n",
       "      <td>5</td>\n",
       "      <td>松中</td>\n",
       "      <td>m</td>\n",
       "      <td>dislike</td>\n",
       "      <td>dislike</td>\n",
       "      <td>10</td>\n",
       "      <td>5</td>\n",
       "      <td>8</td>\n",
       "      <td>B</td>\n",
       "    </tr>\n",
       "    <tr>\n",
       "      <th>5</th>\n",
       "      <td>6</td>\n",
       "      <td>小久保</td>\n",
       "      <td>m</td>\n",
       "      <td>dislike</td>\n",
       "      <td>dislike</td>\n",
       "      <td>6</td>\n",
       "      <td>3</td>\n",
       "      <td>6</td>\n",
       "      <td>C</td>\n",
       "    </tr>\n",
       "    <tr>\n",
       "      <th>6</th>\n",
       "      <td>7</td>\n",
       "      <td>柴原</td>\n",
       "      <td>m</td>\n",
       "      <td>dislike</td>\n",
       "      <td>dislike</td>\n",
       "      <td>8</td>\n",
       "      <td>5</td>\n",
       "      <td>9</td>\n",
       "      <td>A</td>\n",
       "    </tr>\n",
       "    <tr>\n",
       "      <th>7</th>\n",
       "      <td>8</td>\n",
       "      <td>井手</td>\n",
       "      <td>m</td>\n",
       "      <td>dislike</td>\n",
       "      <td>dislike</td>\n",
       "      <td>15</td>\n",
       "      <td>9</td>\n",
       "      <td>10</td>\n",
       "      <td>D</td>\n",
       "    </tr>\n",
       "    <tr>\n",
       "      <th>8</th>\n",
       "      <td>9</td>\n",
       "      <td>田上</td>\n",
       "      <td>m</td>\n",
       "      <td>dislike</td>\n",
       "      <td>dislike</td>\n",
       "      <td>4</td>\n",
       "      <td>3</td>\n",
       "      <td>7</td>\n",
       "      <td>D</td>\n",
       "    </tr>\n",
       "    <tr>\n",
       "      <th>9</th>\n",
       "      <td>10</td>\n",
       "      <td>松田</td>\n",
       "      <td>m</td>\n",
       "      <td>like</td>\n",
       "      <td>dislike</td>\n",
       "      <td>14</td>\n",
       "      <td>3</td>\n",
       "      <td>3</td>\n",
       "      <td>D</td>\n",
       "    </tr>\n",
       "    <tr>\n",
       "      <th>10</th>\n",
       "      <td>11</td>\n",
       "      <td>高谷</td>\n",
       "      <td>f</td>\n",
       "      <td>like</td>\n",
       "      <td>like</td>\n",
       "      <td>9</td>\n",
       "      <td>11</td>\n",
       "      <td>18</td>\n",
       "      <td>A</td>\n",
       "    </tr>\n",
       "    <tr>\n",
       "      <th>11</th>\n",
       "      <td>12</td>\n",
       "      <td>杉内</td>\n",
       "      <td>f</td>\n",
       "      <td>dislike</td>\n",
       "      <td>like</td>\n",
       "      <td>6</td>\n",
       "      <td>6</td>\n",
       "      <td>14</td>\n",
       "      <td>A</td>\n",
       "    </tr>\n",
       "    <tr>\n",
       "      <th>12</th>\n",
       "      <td>13</td>\n",
       "      <td>和田</td>\n",
       "      <td>f</td>\n",
       "      <td>like</td>\n",
       "      <td>like</td>\n",
       "      <td>10</td>\n",
       "      <td>11</td>\n",
       "      <td>18</td>\n",
       "      <td>A</td>\n",
       "    </tr>\n",
       "    <tr>\n",
       "      <th>13</th>\n",
       "      <td>14</td>\n",
       "      <td>新垣</td>\n",
       "      <td>f</td>\n",
       "      <td>dislike</td>\n",
       "      <td>dislike</td>\n",
       "      <td>12</td>\n",
       "      <td>9</td>\n",
       "      <td>11</td>\n",
       "      <td>C</td>\n",
       "    </tr>\n",
       "    <tr>\n",
       "      <th>14</th>\n",
       "      <td>15</td>\n",
       "      <td>大隣</td>\n",
       "      <td>f</td>\n",
       "      <td>dislike</td>\n",
       "      <td>like</td>\n",
       "      <td>5</td>\n",
       "      <td>7</td>\n",
       "      <td>12</td>\n",
       "      <td>B</td>\n",
       "    </tr>\n",
       "    <tr>\n",
       "      <th>15</th>\n",
       "      <td>16</td>\n",
       "      <td>水田</td>\n",
       "      <td>f</td>\n",
       "      <td>like</td>\n",
       "      <td>dislike</td>\n",
       "      <td>12</td>\n",
       "      <td>5</td>\n",
       "      <td>5</td>\n",
       "      <td>D</td>\n",
       "    </tr>\n",
       "    <tr>\n",
       "      <th>16</th>\n",
       "      <td>17</td>\n",
       "      <td>斉藤</td>\n",
       "      <td>f</td>\n",
       "      <td>dislike</td>\n",
       "      <td>dislike</td>\n",
       "      <td>8</td>\n",
       "      <td>8</td>\n",
       "      <td>7</td>\n",
       "      <td>C</td>\n",
       "    </tr>\n",
       "    <tr>\n",
       "      <th>17</th>\n",
       "      <td>18</td>\n",
       "      <td>柳瀬</td>\n",
       "      <td>f</td>\n",
       "      <td>dislike</td>\n",
       "      <td>dislike</td>\n",
       "      <td>8</td>\n",
       "      <td>7</td>\n",
       "      <td>12</td>\n",
       "      <td>C</td>\n",
       "    </tr>\n",
       "    <tr>\n",
       "      <th>18</th>\n",
       "      <td>19</td>\n",
       "      <td>佐藤</td>\n",
       "      <td>f</td>\n",
       "      <td>dislike</td>\n",
       "      <td>dislike</td>\n",
       "      <td>12</td>\n",
       "      <td>7</td>\n",
       "      <td>7</td>\n",
       "      <td>B</td>\n",
       "    </tr>\n",
       "    <tr>\n",
       "      <th>19</th>\n",
       "      <td>20</td>\n",
       "      <td>馬原</td>\n",
       "      <td>f</td>\n",
       "      <td>dislike</td>\n",
       "      <td>dislike</td>\n",
       "      <td>15</td>\n",
       "      <td>9</td>\n",
       "      <td>7</td>\n",
       "      <td>D</td>\n",
       "    </tr>\n",
       "  </tbody>\n",
       "</table>\n",
       "</div>"
      ],
      "text/plain": [
       "    ID Name Sex     Math Statistics  Psychology_test  Statistics_test1  \\\n",
       "0    1   大村   m  dislike       like               13                 6   \n",
       "1    2   本多   m  dislike       like               14                10   \n",
       "2    3   川崎   m     like       like                7                 6   \n",
       "3    4   多村   m     like       like               12                10   \n",
       "4    5   松中   m  dislike    dislike               10                 5   \n",
       "5    6  小久保   m  dislike    dislike                6                 3   \n",
       "6    7   柴原   m  dislike    dislike                8                 5   \n",
       "7    8   井手   m  dislike    dislike               15                 9   \n",
       "8    9   田上   m  dislike    dislike                4                 3   \n",
       "9   10   松田   m     like    dislike               14                 3   \n",
       "10  11   高谷   f     like       like                9                11   \n",
       "11  12   杉内   f  dislike       like                6                 6   \n",
       "12  13   和田   f     like       like               10                11   \n",
       "13  14   新垣   f  dislike    dislike               12                 9   \n",
       "14  15   大隣   f  dislike       like                5                 7   \n",
       "15  16   水田   f     like    dislike               12                 5   \n",
       "16  17   斉藤   f  dislike    dislike                8                 8   \n",
       "17  18   柳瀬   f  dislike    dislike                8                 7   \n",
       "18  19   佐藤   f  dislike    dislike               12                 7   \n",
       "19  20   馬原   f  dislike    dislike               15                 9   \n",
       "\n",
       "    Statistics_test2 Method  \n",
       "0                 10      C  \n",
       "1                 13      B  \n",
       "2                  8      B  \n",
       "3                 15      A  \n",
       "4                  8      B  \n",
       "5                  6      C  \n",
       "6                  9      A  \n",
       "7                 10      D  \n",
       "8                  7      D  \n",
       "9                  3      D  \n",
       "10                18      A  \n",
       "11                14      A  \n",
       "12                18      A  \n",
       "13                11      C  \n",
       "14                12      B  \n",
       "15                 5      D  \n",
       "16                 7      C  \n",
       "17                12      C  \n",
       "18                 7      B  \n",
       "19                 7      D  "
      ]
     },
     "execution_count": 2,
     "metadata": {},
     "output_type": "execute_result"
    }
   ],
   "source": [
    "df = pd.read_csv('teaching_method.csv')\n",
    "df"
   ]
  },
  {
   "cell_type": "markdown",
   "metadata": {},
   "source": [
    "## 7.1 一元配置分散分析(対応なし)\n",
    "\n",
    "### 7.1.1 一元配置分散分析を実行する\n",
    "1. 帰無仮説$H_0$: 4群の母平均は等しい。\\\n",
    "対立仮説$H_1$: 4郡の母平均は等しくない。\n",
    "2. 検定統計量の選択\\\n",
    "$ F = \\cfrac{群間平方和 / 群間の自由度}{郡内平方和 / 郡内の自由度} $"
   ]
  },
  {
   "cell_type": "code",
   "execution_count": 8,
   "metadata": {},
   "outputs": [
    {
     "data": {
      "image/png": "[encoded data removed]",
      "text/plain": [
       "<Figure size 720x432 with 1 Axes>"
      ]
     },
     "metadata": {},
     "output_type": "display_data"
    }
   ],
   "source": [
    "# F分布の描画\n",
    "from scipy.stats import f\n",
    "fig, ax = plt.subplots(1, 1, figsize=(10,6))\n",
    "\n",
    "x = np.linspace(0, 5, 1000)\n",
    "ax.plot(x, f.pdf(x, 3, 16), label='F distribution')\n",
    "plt.legend()\n",
    "plt.show()"
   ]
  },
  {
   "cell_type": "markdown",
   "metadata": {},
   "source": [
    "4. 検定統計量の実現値を求める"
   ]
  },
  {
   "cell_type": "code",
   "execution_count": 12,
   "metadata": {},
   "outputs": [],
   "source": [
    "A = df[df['Method']=='A']['Statistics_test2'].values\n",
    "B = df[df['Method']=='B']['Statistics_test2'].values\n",
    "C = df[df['Method']=='C']['Statistics_test2'].values\n",
    "D = df[df['Method']=='D']['Statistics_test2'].values"
   ]
  },
  {
   "cell_type": "code",
   "execution_count": 20,
   "metadata": {},
   "outputs": [
    {
     "data": {
      "text/plain": [
       "F_onewayResult(statistic=7.111111111111112, pvalue=0.0029877831073873303)"
      ]
     },
     "execution_count": 20,
     "metadata": {},
     "output_type": "execute_result"
    }
   ],
   "source": [
    "# 検定統計量の実現値\n",
    "stats.f_oneway(A, B, C, D)"
   ]
  },
  {
   "cell_type": "markdown",
   "metadata": {},
   "source": [
    "p値が0.05よりも小さいので、帰無仮説を棄却する。\\\n",
    "つまり、5%水準で4つの指導法の間に有意な平均値差が見られたということが言える。"
   ]
  },
  {
   "cell_type": "markdown",
   "metadata": {},
   "source": [
    "## 7.1.2 平方和の分解"
   ]
  },
  {
   "cell_type": "code",
   "execution_count": 21,
   "metadata": {},
   "outputs": [
    {
     "data": {
      "text/html": [
       "<div>\n",
       "<style scoped>\n",
       "    .dataframe tbody tr th:only-of-type {\n",
       "        vertical-align: middle;\n",
       "    }\n",
       "\n",
       "    .dataframe tbody tr th {\n",
       "        vertical-align: top;\n",
       "    }\n",
       "\n",
       "    .dataframe thead th {\n",
       "        text-align: right;\n",
       "    }\n",
       "</style>\n",
       "<table border=\"1\" class=\"dataframe\">\n",
       "  <thead>\n",
       "    <tr style=\"text-align: right;\">\n",
       "      <th></th>\n",
       "      <th>A</th>\n",
       "      <th>B</th>\n",
       "      <th>C</th>\n",
       "      <th>D</th>\n",
       "    </tr>\n",
       "  </thead>\n",
       "  <tbody>\n",
       "    <tr>\n",
       "      <th>0</th>\n",
       "      <td>15</td>\n",
       "      <td>13</td>\n",
       "      <td>10</td>\n",
       "      <td>10</td>\n",
       "    </tr>\n",
       "    <tr>\n",
       "      <th>1</th>\n",
       "      <td>9</td>\n",
       "      <td>8</td>\n",
       "      <td>6</td>\n",
       "      <td>7</td>\n",
       "    </tr>\n",
       "    <tr>\n",
       "      <th>2</th>\n",
       "      <td>18</td>\n",
       "      <td>8</td>\n",
       "      <td>11</td>\n",
       "      <td>3</td>\n",
       "    </tr>\n",
       "    <tr>\n",
       "      <th>3</th>\n",
       "      <td>14</td>\n",
       "      <td>12</td>\n",
       "      <td>7</td>\n",
       "      <td>5</td>\n",
       "    </tr>\n",
       "    <tr>\n",
       "      <th>4</th>\n",
       "      <td>18</td>\n",
       "      <td>7</td>\n",
       "      <td>12</td>\n",
       "      <td>7</td>\n",
       "    </tr>\n",
       "  </tbody>\n",
       "</table>\n",
       "</div>"
      ],
      "text/plain": [
       "    A   B   C   D\n",
       "0  15  13  10  10\n",
       "1   9   8   6   7\n",
       "2  18   8  11   3\n",
       "3  14  12   7   5\n",
       "4  18   7  12   7"
      ]
     },
     "execution_count": 21,
     "metadata": {},
     "output_type": "execute_result"
    }
   ],
   "source": [
    "all_data = pd.DataFrame({'A':A, 'B':B, 'C':C, 'D':D})\n",
    "all_data"
   ]
  },
  {
   "cell_type": "code",
   "execution_count": 22,
   "metadata": {},
   "outputs": [
    {
     "data": {
      "text/plain": [
       "A    14.8\n",
       "B     9.6\n",
       "C     9.2\n",
       "D     6.4\n",
       "dtype: float64"
      ]
     },
     "execution_count": 22,
     "metadata": {},
     "output_type": "execute_result"
    }
   ],
   "source": [
    "group_avg = all_data.mean()\n",
    "group_avg"
   ]
  },
  {
   "cell_type": "code",
   "execution_count": 30,
   "metadata": {},
   "outputs": [
    {
     "data": {
      "text/plain": [
       "10.0"
      ]
     },
     "execution_count": 30,
     "metadata": {},
     "output_type": "execute_result"
    }
   ],
   "source": [
    "all_avg = np.mean(all_data.values)\n",
    "all_avg"
   ]
  },
  {
   "cell_type": "code",
   "execution_count": 31,
   "metadata": {},
   "outputs": [
    {
     "data": {
      "text/html": [
       "<div>\n",
       "<style scoped>\n",
       "    .dataframe tbody tr th:only-of-type {\n",
       "        vertical-align: middle;\n",
       "    }\n",
       "\n",
       "    .dataframe tbody tr th {\n",
       "        vertical-align: top;\n",
       "    }\n",
       "\n",
       "    .dataframe thead th {\n",
       "        text-align: right;\n",
       "    }\n",
       "</style>\n",
       "<table border=\"1\" class=\"dataframe\">\n",
       "  <thead>\n",
       "    <tr style=\"text-align: right;\">\n",
       "      <th></th>\n",
       "      <th>0</th>\n",
       "      <th>1</th>\n",
       "      <th>2</th>\n",
       "      <th>3</th>\n",
       "    </tr>\n",
       "  </thead>\n",
       "  <tbody>\n",
       "    <tr>\n",
       "      <th>0</th>\n",
       "      <td>10.0</td>\n",
       "      <td>10.0</td>\n",
       "      <td>10.0</td>\n",
       "      <td>10.0</td>\n",
       "    </tr>\n",
       "    <tr>\n",
       "      <th>1</th>\n",
       "      <td>10.0</td>\n",
       "      <td>10.0</td>\n",
       "      <td>10.0</td>\n",
       "      <td>10.0</td>\n",
       "    </tr>\n",
       "    <tr>\n",
       "      <th>2</th>\n",
       "      <td>10.0</td>\n",
       "      <td>10.0</td>\n",
       "      <td>10.0</td>\n",
       "      <td>10.0</td>\n",
       "    </tr>\n",
       "    <tr>\n",
       "      <th>3</th>\n",
       "      <td>10.0</td>\n",
       "      <td>10.0</td>\n",
       "      <td>10.0</td>\n",
       "      <td>10.0</td>\n",
       "    </tr>\n",
       "    <tr>\n",
       "      <th>4</th>\n",
       "      <td>10.0</td>\n",
       "      <td>10.0</td>\n",
       "      <td>10.0</td>\n",
       "      <td>10.0</td>\n",
       "    </tr>\n",
       "  </tbody>\n",
       "</table>\n",
       "</div>"
      ],
      "text/plain": [
       "      0     1     2     3\n",
       "0  10.0  10.0  10.0  10.0\n",
       "1  10.0  10.0  10.0  10.0\n",
       "2  10.0  10.0  10.0  10.0\n",
       "3  10.0  10.0  10.0  10.0\n",
       "4  10.0  10.0  10.0  10.0"
      ]
     },
     "execution_count": 31,
     "metadata": {},
     "output_type": "execute_result"
    }
   ],
   "source": [
    "all_avg_df = pd.DataFrame(np.repeat(all_avg, 20).reshape(5,4))\n",
    "all_avg_df"
   ]
  },
  {
   "cell_type": "code",
   "execution_count": 37,
   "metadata": {},
   "outputs": [
    {
     "data": {
      "text/html": [
       "<div>\n",
       "<style scoped>\n",
       "    .dataframe tbody tr th:only-of-type {\n",
       "        vertical-align: middle;\n",
       "    }\n",
       "\n",
       "    .dataframe tbody tr th {\n",
       "        vertical-align: top;\n",
       "    }\n",
       "\n",
       "    .dataframe thead th {\n",
       "        text-align: right;\n",
       "    }\n",
       "</style>\n",
       "<table border=\"1\" class=\"dataframe\">\n",
       "  <thead>\n",
       "    <tr style=\"text-align: right;\">\n",
       "      <th></th>\n",
       "      <th>0</th>\n",
       "      <th>1</th>\n",
       "      <th>2</th>\n",
       "      <th>3</th>\n",
       "    </tr>\n",
       "  </thead>\n",
       "  <tbody>\n",
       "    <tr>\n",
       "      <th>0</th>\n",
       "      <td>14.8</td>\n",
       "      <td>9.6</td>\n",
       "      <td>9.2</td>\n",
       "      <td>6.4</td>\n",
       "    </tr>\n",
       "    <tr>\n",
       "      <th>1</th>\n",
       "      <td>14.8</td>\n",
       "      <td>9.6</td>\n",
       "      <td>9.2</td>\n",
       "      <td>6.4</td>\n",
       "    </tr>\n",
       "    <tr>\n",
       "      <th>2</th>\n",
       "      <td>14.8</td>\n",
       "      <td>9.6</td>\n",
       "      <td>9.2</td>\n",
       "      <td>6.4</td>\n",
       "    </tr>\n",
       "    <tr>\n",
       "      <th>3</th>\n",
       "      <td>14.8</td>\n",
       "      <td>9.6</td>\n",
       "      <td>9.2</td>\n",
       "      <td>6.4</td>\n",
       "    </tr>\n",
       "    <tr>\n",
       "      <th>4</th>\n",
       "      <td>14.8</td>\n",
       "      <td>9.6</td>\n",
       "      <td>9.2</td>\n",
       "      <td>6.4</td>\n",
       "    </tr>\n",
       "  </tbody>\n",
       "</table>\n",
       "</div>"
      ],
      "text/plain": [
       "      0    1    2    3\n",
       "0  14.8  9.6  9.2  6.4\n",
       "1  14.8  9.6  9.2  6.4\n",
       "2  14.8  9.6  9.2  6.4\n",
       "3  14.8  9.6  9.2  6.4\n",
       "4  14.8  9.6  9.2  6.4"
      ]
     },
     "execution_count": 37,
     "metadata": {},
     "output_type": "execute_result"
    }
   ],
   "source": [
    "group_avg_df = pd.DataFrame(np.repeat(group_avg.values, 5).reshape(4,5).T)\n",
    "group_avg_df"
   ]
  },
  {
   "cell_type": "code",
   "execution_count": 41,
   "metadata": {},
   "outputs": [
    {
     "data": {
      "text/html": [
       "<div>\n",
       "<style scoped>\n",
       "    .dataframe tbody tr th:only-of-type {\n",
       "        vertical-align: middle;\n",
       "    }\n",
       "\n",
       "    .dataframe tbody tr th {\n",
       "        vertical-align: top;\n",
       "    }\n",
       "\n",
       "    .dataframe thead th {\n",
       "        text-align: right;\n",
       "    }\n",
       "</style>\n",
       "<table border=\"1\" class=\"dataframe\">\n",
       "  <thead>\n",
       "    <tr style=\"text-align: right;\">\n",
       "      <th></th>\n",
       "      <th>A</th>\n",
       "      <th>B</th>\n",
       "      <th>C</th>\n",
       "      <th>D</th>\n",
       "    </tr>\n",
       "  </thead>\n",
       "  <tbody>\n",
       "    <tr>\n",
       "      <th>0</th>\n",
       "      <td>5.0</td>\n",
       "      <td>3.0</td>\n",
       "      <td>0.0</td>\n",
       "      <td>0.0</td>\n",
       "    </tr>\n",
       "    <tr>\n",
       "      <th>1</th>\n",
       "      <td>-1.0</td>\n",
       "      <td>-2.0</td>\n",
       "      <td>-4.0</td>\n",
       "      <td>-3.0</td>\n",
       "    </tr>\n",
       "    <tr>\n",
       "      <th>2</th>\n",
       "      <td>8.0</td>\n",
       "      <td>-2.0</td>\n",
       "      <td>1.0</td>\n",
       "      <td>-7.0</td>\n",
       "    </tr>\n",
       "    <tr>\n",
       "      <th>3</th>\n",
       "      <td>4.0</td>\n",
       "      <td>2.0</td>\n",
       "      <td>-3.0</td>\n",
       "      <td>-5.0</td>\n",
       "    </tr>\n",
       "    <tr>\n",
       "      <th>4</th>\n",
       "      <td>8.0</td>\n",
       "      <td>-3.0</td>\n",
       "      <td>2.0</td>\n",
       "      <td>-3.0</td>\n",
       "    </tr>\n",
       "  </tbody>\n",
       "</table>\n",
       "</div>"
      ],
      "text/plain": [
       "     A    B    C    D\n",
       "0  5.0  3.0  0.0  0.0\n",
       "1 -1.0 -2.0 -4.0 -3.0\n",
       "2  8.0 -2.0  1.0 -7.0\n",
       "3  4.0  2.0 -3.0 -5.0\n",
       "4  8.0 -3.0  2.0 -3.0"
      ]
     },
     "execution_count": 41,
     "metadata": {},
     "output_type": "execute_result"
    }
   ],
   "source": [
    "all_df = pd.DataFrame(all_data.values - all_avg_df.values)\n",
    "all_df.columns = ['A', 'B', 'C', 'D']\n",
    "all_df"
   ]
  },
  {
   "cell_type": "code",
   "execution_count": 42,
   "metadata": {},
   "outputs": [
    {
     "data": {
      "text/html": [
       "<div>\n",
       "<style scoped>\n",
       "    .dataframe tbody tr th:only-of-type {\n",
       "        vertical-align: middle;\n",
       "    }\n",
       "\n",
       "    .dataframe tbody tr th {\n",
       "        vertical-align: top;\n",
       "    }\n",
       "\n",
       "    .dataframe thead th {\n",
       "        text-align: right;\n",
       "    }\n",
       "</style>\n",
       "<table border=\"1\" class=\"dataframe\">\n",
       "  <thead>\n",
       "    <tr style=\"text-align: right;\">\n",
       "      <th></th>\n",
       "      <th>0</th>\n",
       "      <th>1</th>\n",
       "      <th>2</th>\n",
       "      <th>3</th>\n",
       "    </tr>\n",
       "  </thead>\n",
       "  <tbody>\n",
       "    <tr>\n",
       "      <th>0</th>\n",
       "      <td>4.8</td>\n",
       "      <td>-0.4</td>\n",
       "      <td>-0.8</td>\n",
       "      <td>-3.6</td>\n",
       "    </tr>\n",
       "    <tr>\n",
       "      <th>1</th>\n",
       "      <td>4.8</td>\n",
       "      <td>-0.4</td>\n",
       "      <td>-0.8</td>\n",
       "      <td>-3.6</td>\n",
       "    </tr>\n",
       "    <tr>\n",
       "      <th>2</th>\n",
       "      <td>4.8</td>\n",
       "      <td>-0.4</td>\n",
       "      <td>-0.8</td>\n",
       "      <td>-3.6</td>\n",
       "    </tr>\n",
       "    <tr>\n",
       "      <th>3</th>\n",
       "      <td>4.8</td>\n",
       "      <td>-0.4</td>\n",
       "      <td>-0.8</td>\n",
       "      <td>-3.6</td>\n",
       "    </tr>\n",
       "    <tr>\n",
       "      <th>4</th>\n",
       "      <td>4.8</td>\n",
       "      <td>-0.4</td>\n",
       "      <td>-0.8</td>\n",
       "      <td>-3.6</td>\n",
       "    </tr>\n",
       "  </tbody>\n",
       "</table>\n",
       "</div>"
      ],
      "text/plain": [
       "     0    1    2    3\n",
       "0  4.8 -0.4 -0.8 -3.6\n",
       "1  4.8 -0.4 -0.8 -3.6\n",
       "2  4.8 -0.4 -0.8 -3.6\n",
       "3  4.8 -0.4 -0.8 -3.6\n",
       "4  4.8 -0.4 -0.8 -3.6"
      ]
     },
     "execution_count": 42,
     "metadata": {},
     "output_type": "execute_result"
    }
   ],
   "source": [
    "between_group = group_avg_df - all_avg_df\n",
    "between_group"
   ]
  },
  {
   "cell_type": "markdown",
   "metadata": {},
   "source": [
    "指導法Aを受けることで、平均点が全平均から4.8点押し上げられたと解釈できる。\\\n",
    "このような条件の違いで平均点が変わることを**効果**という。"
   ]
  },
  {
   "cell_type": "code",
   "execution_count": 43,
   "metadata": {},
   "outputs": [
    {
     "data": {
      "text/html": [
       "<div>\n",
       "<style scoped>\n",
       "    .dataframe tbody tr th:only-of-type {\n",
       "        vertical-align: middle;\n",
       "    }\n",
       "\n",
       "    .dataframe tbody tr th {\n",
       "        vertical-align: top;\n",
       "    }\n",
       "\n",
       "    .dataframe thead th {\n",
       "        text-align: right;\n",
       "    }\n",
       "</style>\n",
       "<table border=\"1\" class=\"dataframe\">\n",
       "  <thead>\n",
       "    <tr style=\"text-align: right;\">\n",
       "      <th></th>\n",
       "      <th>A</th>\n",
       "      <th>B</th>\n",
       "      <th>C</th>\n",
       "      <th>D</th>\n",
       "    </tr>\n",
       "  </thead>\n",
       "  <tbody>\n",
       "    <tr>\n",
       "      <th>0</th>\n",
       "      <td>0.2</td>\n",
       "      <td>3.4</td>\n",
       "      <td>0.8</td>\n",
       "      <td>3.6</td>\n",
       "    </tr>\n",
       "    <tr>\n",
       "      <th>1</th>\n",
       "      <td>-5.8</td>\n",
       "      <td>-1.6</td>\n",
       "      <td>-3.2</td>\n",
       "      <td>0.6</td>\n",
       "    </tr>\n",
       "    <tr>\n",
       "      <th>2</th>\n",
       "      <td>3.2</td>\n",
       "      <td>-1.6</td>\n",
       "      <td>1.8</td>\n",
       "      <td>-3.4</td>\n",
       "    </tr>\n",
       "    <tr>\n",
       "      <th>3</th>\n",
       "      <td>-0.8</td>\n",
       "      <td>2.4</td>\n",
       "      <td>-2.2</td>\n",
       "      <td>-1.4</td>\n",
       "    </tr>\n",
       "    <tr>\n",
       "      <th>4</th>\n",
       "      <td>3.2</td>\n",
       "      <td>-2.6</td>\n",
       "      <td>2.8</td>\n",
       "      <td>0.6</td>\n",
       "    </tr>\n",
       "  </tbody>\n",
       "</table>\n",
       "</div>"
      ],
      "text/plain": [
       "     A    B    C    D\n",
       "0  0.2  3.4  0.8  3.6\n",
       "1 -5.8 -1.6 -3.2  0.6\n",
       "2  3.2 -1.6  1.8 -3.4\n",
       "3 -0.8  2.4 -2.2 -1.4\n",
       "4  3.2 -2.6  2.8  0.6"
      ]
     },
     "execution_count": 43,
     "metadata": {},
     "output_type": "execute_result"
    }
   ],
   "source": [
    "in_group = pd.DataFrame(all_data.values - group_avg_df.values)\n",
    "in_group.columns = ['A', 'B', 'C', 'D']\n",
    "in_group"
   ]
  },
  {
   "cell_type": "code",
   "execution_count": 45,
   "metadata": {},
   "outputs": [
    {
     "data": {
      "text/html": [
       "<div>\n",
       "<style scoped>\n",
       "    .dataframe tbody tr th:only-of-type {\n",
       "        vertical-align: middle;\n",
       "    }\n",
       "\n",
       "    .dataframe tbody tr th {\n",
       "        vertical-align: top;\n",
       "    }\n",
       "\n",
       "    .dataframe thead th {\n",
       "        text-align: right;\n",
       "    }\n",
       "</style>\n",
       "<table border=\"1\" class=\"dataframe\">\n",
       "  <thead>\n",
       "    <tr style=\"text-align: right;\">\n",
       "      <th></th>\n",
       "      <th>A</th>\n",
       "      <th>B</th>\n",
       "      <th>C</th>\n",
       "      <th>D</th>\n",
       "    </tr>\n",
       "  </thead>\n",
       "  <tbody>\n",
       "    <tr>\n",
       "      <th>0</th>\n",
       "      <td>25.0</td>\n",
       "      <td>9.0</td>\n",
       "      <td>0.0</td>\n",
       "      <td>0.0</td>\n",
       "    </tr>\n",
       "    <tr>\n",
       "      <th>1</th>\n",
       "      <td>1.0</td>\n",
       "      <td>4.0</td>\n",
       "      <td>16.0</td>\n",
       "      <td>9.0</td>\n",
       "    </tr>\n",
       "    <tr>\n",
       "      <th>2</th>\n",
       "      <td>64.0</td>\n",
       "      <td>4.0</td>\n",
       "      <td>1.0</td>\n",
       "      <td>49.0</td>\n",
       "    </tr>\n",
       "    <tr>\n",
       "      <th>3</th>\n",
       "      <td>16.0</td>\n",
       "      <td>4.0</td>\n",
       "      <td>9.0</td>\n",
       "      <td>25.0</td>\n",
       "    </tr>\n",
       "    <tr>\n",
       "      <th>4</th>\n",
       "      <td>64.0</td>\n",
       "      <td>9.0</td>\n",
       "      <td>4.0</td>\n",
       "      <td>9.0</td>\n",
       "    </tr>\n",
       "  </tbody>\n",
       "</table>\n",
       "</div>"
      ],
      "text/plain": [
       "      A    B     C     D\n",
       "0  25.0  9.0   0.0   0.0\n",
       "1   1.0  4.0  16.0   9.0\n",
       "2  64.0  4.0   1.0  49.0\n",
       "3  16.0  4.0   9.0  25.0\n",
       "4  64.0  9.0   4.0   9.0"
      ]
     },
     "execution_count": 45,
     "metadata": {},
     "output_type": "execute_result"
    }
   ],
   "source": [
    "all_df**2"
   ]
  },
  {
   "cell_type": "code",
   "execution_count": 46,
   "metadata": {},
   "outputs": [
    {
     "data": {
      "text/html": [
       "<div>\n",
       "<style scoped>\n",
       "    .dataframe tbody tr th:only-of-type {\n",
       "        vertical-align: middle;\n",
       "    }\n",
       "\n",
       "    .dataframe tbody tr th {\n",
       "        vertical-align: top;\n",
       "    }\n",
       "\n",
       "    .dataframe thead th {\n",
       "        text-align: right;\n",
       "    }\n",
       "</style>\n",
       "<table border=\"1\" class=\"dataframe\">\n",
       "  <thead>\n",
       "    <tr style=\"text-align: right;\">\n",
       "      <th></th>\n",
       "      <th>0</th>\n",
       "      <th>1</th>\n",
       "      <th>2</th>\n",
       "      <th>3</th>\n",
       "    </tr>\n",
       "  </thead>\n",
       "  <tbody>\n",
       "    <tr>\n",
       "      <th>0</th>\n",
       "      <td>23.04</td>\n",
       "      <td>0.16</td>\n",
       "      <td>0.64</td>\n",
       "      <td>12.96</td>\n",
       "    </tr>\n",
       "    <tr>\n",
       "      <th>1</th>\n",
       "      <td>23.04</td>\n",
       "      <td>0.16</td>\n",
       "      <td>0.64</td>\n",
       "      <td>12.96</td>\n",
       "    </tr>\n",
       "    <tr>\n",
       "      <th>2</th>\n",
       "      <td>23.04</td>\n",
       "      <td>0.16</td>\n",
       "      <td>0.64</td>\n",
       "      <td>12.96</td>\n",
       "    </tr>\n",
       "    <tr>\n",
       "      <th>3</th>\n",
       "      <td>23.04</td>\n",
       "      <td>0.16</td>\n",
       "      <td>0.64</td>\n",
       "      <td>12.96</td>\n",
       "    </tr>\n",
       "    <tr>\n",
       "      <th>4</th>\n",
       "      <td>23.04</td>\n",
       "      <td>0.16</td>\n",
       "      <td>0.64</td>\n",
       "      <td>12.96</td>\n",
       "    </tr>\n",
       "  </tbody>\n",
       "</table>\n",
       "</div>"
      ],
      "text/plain": [
       "       0     1     2      3\n",
       "0  23.04  0.16  0.64  12.96\n",
       "1  23.04  0.16  0.64  12.96\n",
       "2  23.04  0.16  0.64  12.96\n",
       "3  23.04  0.16  0.64  12.96\n",
       "4  23.04  0.16  0.64  12.96"
      ]
     },
     "execution_count": 46,
     "metadata": {},
     "output_type": "execute_result"
    }
   ],
   "source": [
    "between_group**2"
   ]
  },
  {
   "cell_type": "code",
   "execution_count": 47,
   "metadata": {},
   "outputs": [
    {
     "data": {
      "text/html": [
       "<div>\n",
       "<style scoped>\n",
       "    .dataframe tbody tr th:only-of-type {\n",
       "        vertical-align: middle;\n",
       "    }\n",
       "\n",
       "    .dataframe tbody tr th {\n",
       "        vertical-align: top;\n",
       "    }\n",
       "\n",
       "    .dataframe thead th {\n",
       "        text-align: right;\n",
       "    }\n",
       "</style>\n",
       "<table border=\"1\" class=\"dataframe\">\n",
       "  <thead>\n",
       "    <tr style=\"text-align: right;\">\n",
       "      <th></th>\n",
       "      <th>A</th>\n",
       "      <th>B</th>\n",
       "      <th>C</th>\n",
       "      <th>D</th>\n",
       "    </tr>\n",
       "  </thead>\n",
       "  <tbody>\n",
       "    <tr>\n",
       "      <th>0</th>\n",
       "      <td>0.04</td>\n",
       "      <td>11.56</td>\n",
       "      <td>0.64</td>\n",
       "      <td>12.96</td>\n",
       "    </tr>\n",
       "    <tr>\n",
       "      <th>1</th>\n",
       "      <td>33.64</td>\n",
       "      <td>2.56</td>\n",
       "      <td>10.24</td>\n",
       "      <td>0.36</td>\n",
       "    </tr>\n",
       "    <tr>\n",
       "      <th>2</th>\n",
       "      <td>10.24</td>\n",
       "      <td>2.56</td>\n",
       "      <td>3.24</td>\n",
       "      <td>11.56</td>\n",
       "    </tr>\n",
       "    <tr>\n",
       "      <th>3</th>\n",
       "      <td>0.64</td>\n",
       "      <td>5.76</td>\n",
       "      <td>4.84</td>\n",
       "      <td>1.96</td>\n",
       "    </tr>\n",
       "    <tr>\n",
       "      <th>4</th>\n",
       "      <td>10.24</td>\n",
       "      <td>6.76</td>\n",
       "      <td>7.84</td>\n",
       "      <td>0.36</td>\n",
       "    </tr>\n",
       "  </tbody>\n",
       "</table>\n",
       "</div>"
      ],
      "text/plain": [
       "       A      B      C      D\n",
       "0   0.04  11.56   0.64  12.96\n",
       "1  33.64   2.56  10.24   0.36\n",
       "2  10.24   2.56   3.24  11.56\n",
       "3   0.64   5.76   4.84   1.96\n",
       "4  10.24   6.76   7.84   0.36"
      ]
     },
     "execution_count": 47,
     "metadata": {},
     "output_type": "execute_result"
    }
   ],
   "source": [
    "in_group**2"
   ]
  },
  {
   "cell_type": "code",
   "execution_count": 49,
   "metadata": {},
   "outputs": [
    {
     "data": {
      "text/plain": [
       "322.0"
      ]
     },
     "execution_count": 49,
     "metadata": {},
     "output_type": "execute_result"
    }
   ],
   "source": [
    "# データ全体のばらつきの大きさを表しているといえる\n",
    "all_squared_sum = np.sum((all_df**2).values)\n",
    "all_squared_sum"
   ]
  },
  {
   "cell_type": "code",
   "execution_count": 50,
   "metadata": {},
   "outputs": [
    {
     "data": {
      "text/plain": [
       "184.00000000000003"
      ]
     },
     "execution_count": 50,
     "metadata": {},
     "output_type": "execute_result"
    }
   ],
   "source": [
    "# 郡の違いによって生じるばらつきを表しているといえる\n",
    "between_group_squared_sum = np.sum((between_group**2).values)\n",
    "between_group_squared_sum"
   ]
  },
  {
   "cell_type": "code",
   "execution_count": 51,
   "metadata": {},
   "outputs": [
    {
     "data": {
      "text/plain": [
       "138.00000000000003"
      ]
     },
     "execution_count": 51,
     "metadata": {},
     "output_type": "execute_result"
    }
   ],
   "source": [
    "# 全体で見たときに、同じ群の中での個人差の大きさを反映している\n",
    "in_group_squared_sum = np.sum((in_group**2).values)\n",
    "in_group_squared_sum"
   ]
  },
  {
   "cell_type": "code",
   "execution_count": 52,
   "metadata": {},
   "outputs": [
    {
     "data": {
      "text/plain": [
       "322.00000000000006"
      ]
     },
     "execution_count": 52,
     "metadata": {},
     "output_type": "execute_result"
    }
   ],
   "source": [
    "between_group_squared_sum + in_group_squared_sum"
   ]
  },
  {
   "cell_type": "markdown",
   "metadata": {},
   "source": [
    "全体平方和 = 群間平方和 + 郡内平方和\\\n",
    "これを**平方和の分解**という。\\\n",
    "群の平均値の違いを、データのばらつきによって説明しようとするのが分散分析ということになる。"
   ]
  },
  {
   "cell_type": "markdown",
   "metadata": {},
   "source": [
    "群間の自由度 = 郡の数 - 1\\\n",
    "郡内の自由度 = (各群のデータ数 - 1) をすべての群について合計したもの\\\n",
    "全体の自由度 = 全データ数 - 1"
   ]
  },
  {
   "cell_type": "code",
   "execution_count": 53,
   "metadata": {},
   "outputs": [
    {
     "data": {
      "text/plain": [
       "3"
      ]
     },
     "execution_count": 53,
     "metadata": {},
     "output_type": "execute_result"
    }
   ],
   "source": [
    "degree_between_group = len(all_data.columns) - 1\n",
    "degree_between_group"
   ]
  },
  {
   "cell_type": "code",
   "execution_count": 54,
   "metadata": {},
   "outputs": [
    {
     "data": {
      "text/plain": [
       "16"
      ]
     },
     "execution_count": 54,
     "metadata": {},
     "output_type": "execute_result"
    }
   ],
   "source": [
    "degree_in_group = (len(all_data)-1)*(len(all_data.columns))\n",
    "degree_in_group"
   ]
  },
  {
   "cell_type": "code",
   "execution_count": 55,
   "metadata": {},
   "outputs": [
    {
     "data": {
      "text/plain": [
       "19"
      ]
     },
     "execution_count": 55,
     "metadata": {},
     "output_type": "execute_result"
    }
   ],
   "source": [
    "degree_all = all_data.size - 1\n",
    "degree_all"
   ]
  },
  {
   "cell_type": "code",
   "execution_count": 56,
   "metadata": {},
   "outputs": [
    {
     "data": {
      "text/plain": [
       "61.33333333333334"
      ]
     },
     "execution_count": 56,
     "metadata": {},
     "output_type": "execute_result"
    }
   ],
   "source": [
    "between_group_avg_squared = between_group_squared_sum / degree_between_group\n",
    "between_group_avg_squared"
   ]
  },
  {
   "cell_type": "code",
   "execution_count": 57,
   "metadata": {},
   "outputs": [
    {
     "data": {
      "text/plain": [
       "8.625000000000002"
      ]
     },
     "execution_count": 57,
     "metadata": {},
     "output_type": "execute_result"
    }
   ],
   "source": [
    "in_group_avg_squared = in_group_squared_sum / degree_in_group\n",
    "in_group_avg_squared"
   ]
  },
  {
   "cell_type": "code",
   "execution_count": 58,
   "metadata": {},
   "outputs": [
    {
     "data": {
      "text/plain": [
       "16.94736842105263"
      ]
     },
     "execution_count": 58,
     "metadata": {},
     "output_type": "execute_result"
    }
   ],
   "source": [
    "all_squared_sum / degree_all"
   ]
  },
  {
   "cell_type": "code",
   "execution_count": 59,
   "metadata": {},
   "outputs": [
    {
     "data": {
      "text/plain": [
       "16.94736842105263"
      ]
     },
     "execution_count": 59,
     "metadata": {},
     "output_type": "execute_result"
    }
   ],
   "source": [
    "df['Statistics_test2'].var()"
   ]
  },
  {
   "cell_type": "code",
   "execution_count": 60,
   "metadata": {},
   "outputs": [
    {
     "data": {
      "text/plain": [
       "7.111111111111111"
      ]
     },
     "execution_count": 60,
     "metadata": {},
     "output_type": "execute_result"
    }
   ],
   "source": [
    "F = between_group_avg_squared / in_group_avg_squared\n",
    "F"
   ]
  },
  {
   "cell_type": "code",
   "execution_count": null,
   "metadata": {},
   "outputs": [],
   "source": []
  },
  {
   "cell_type": "markdown",
   "metadata": {},
   "source": [
    "### 7.1.2 多重比較 (Tukeyの方法)\n",
    "各群におけるデータ数$n$が等しく、各群の母分散も等しいと仮定して、次式により検定統計量$q$を求める。\\\n",
    "$\n",
    "q = \\cfrac{|比較する郡の平均残差|}{\\sqrt{郡内の平均平方 / 各群のデータ数}}\n",
    "$"
   ]
  },
  {
   "cell_type": "code",
   "execution_count": 61,
   "metadata": {},
   "outputs": [
    {
     "data": {
      "text/plain": [
       "14.8"
      ]
     },
     "execution_count": 61,
     "metadata": {},
     "output_type": "execute_result"
    }
   ],
   "source": [
    "np.mean(A)"
   ]
  },
  {
   "cell_type": "code",
   "execution_count": 62,
   "metadata": {},
   "outputs": [
    {
     "data": {
      "text/plain": [
       "6.4"
      ]
     },
     "execution_count": 62,
     "metadata": {},
     "output_type": "execute_result"
    }
   ],
   "source": [
    "np.mean(D)"
   ]
  },
  {
   "cell_type": "code",
   "execution_count": 64,
   "metadata": {},
   "outputs": [
    {
     "data": {
      "text/plain": [
       "5"
      ]
     },
     "execution_count": 64,
     "metadata": {},
     "output_type": "execute_result"
    }
   ],
   "source": [
    "len(all_data)"
   ]
  },
  {
   "cell_type": "code",
   "execution_count": 65,
   "metadata": {},
   "outputs": [
    {
     "data": {
      "text/plain": [
       "8.625000000000002"
      ]
     },
     "execution_count": 65,
     "metadata": {},
     "output_type": "execute_result"
    }
   ],
   "source": [
    "in_group_avg_squared"
   ]
  },
  {
   "cell_type": "code",
   "execution_count": 66,
   "metadata": {},
   "outputs": [
    {
     "data": {
      "text/plain": [
       "6.3956506960658"
      ]
     },
     "execution_count": 66,
     "metadata": {},
     "output_type": "execute_result"
    }
   ],
   "source": [
    "q = np.abs(np.mean(A)-np.mean(D)) / np.sqrt(in_group_avg_squared/len(all_data))\n",
    "q"
   ]
  },
  {
   "cell_type": "markdown",
   "metadata": {},
   "source": [
    "検定統計量$q$が求められた。\\\n",
    "次に棄却域を求める。"
   ]
  },
  {
   "cell_type": "code",
   "execution_count": null,
   "metadata": {},
   "outputs": [],
   "source": [
    "# ???tukeyの棄却域の求め方がわからない???"
   ]
  },
  {
   "cell_type": "code",
   "execution_count": 74,
   "metadata": {},
   "outputs": [],
   "source": [
    "# Tuekyの多重比較用の関数\n",
    "def tukey_hsd( lst, ind, n ):\n",
    "    from statsmodels.stats.multicomp import pairwise_tukeyhsd\n",
    "    import numpy as np\n",
    "    data_arr = np.hstack( lst )\n",
    "    ind_arr = np.repeat(ind, n)\n",
    "    print(pairwise_tukeyhsd(data_arr,ind_arr))"
   ]
  },
  {
   "cell_type": "code",
   "execution_count": 75,
   "metadata": {},
   "outputs": [
    {
     "name": "stdout",
     "output_type": "stream",
     "text": [
      " Multiple Comparison of Means - Tukey HSD, FWER=0.05 \n",
      "=====================================================\n",
      "group1 group2 meandiff p-adj   lower    upper  reject\n",
      "-----------------------------------------------------\n",
      "     A      B     -5.2 0.0563 -10.5145  0.1145  False\n",
      "     A      C     -5.6 0.0371 -10.9145 -0.2855   True\n",
      "     A      D     -8.4 0.0018 -13.7145 -3.0855   True\n",
      "     B      C     -0.4    0.9  -5.7145  4.9145  False\n",
      "     B      D     -3.2  0.345  -8.5145  2.1145  False\n",
      "     C      D     -2.8 0.4574  -8.1145  2.5145  False\n",
      "-----------------------------------------------------\n"
     ]
    }
   ],
   "source": [
    "tukey_hsd( (A,B,C,D), list('ABCD') , 5)"
   ]
  },
  {
   "cell_type": "code",
   "execution_count": null,
   "metadata": {},
   "outputs": [],
   "source": []
  },
  {
   "cell_type": "markdown",
   "metadata": {},
   "source": [
    "## 7.2 一元配置分散分析(対応あり)\n",
    "### 7.2.1 対応がないものとして分散分析してみる"
   ]
  },
  {
   "cell_type": "code",
   "execution_count": 77,
   "metadata": {},
   "outputs": [
    {
     "name": "stdout",
     "output_type": "stream",
     "text": [
      "F_onewayResult(statistic=2.6406250000000004, pvalue=0.11210798800331405)\n"
     ]
    }
   ],
   "source": [
    "algebra = np.array([7,8,9,5,6])\n",
    "calculus = np.array([5,4,7,1,3])\n",
    "statistics = np.array([8,6,7,2,5])\n",
    "print( stats.f_oneway(algebra, calculus, statistics) )"
   ]
  },
  {
   "cell_type": "markdown",
   "metadata": {},
   "source": [
    "### 7.2.2 一元配置分散分析(対応あり)を実行する\n",
    "1. 帰無仮説$H_0$: 3科目の好意度の母平均は等しい\\\n",
    "   対立仮説$H_1$: 3科目の好意度の母平均は等しくない\n",
    "2. 検定統計量の選択\\\n",
    "$\n",
    "F = \\cfrac{条件平方和 / 条件の自由度}{残差平方和 / 残差の自由度}\n",
    "$\n",
    "3. 有意水準$\\alpha$の設定\\\n",
    "$\\alpha = 0.05$とする。\n",
    "4. 検定統計量の実現値を求める"
   ]
  },
  {
   "cell_type": "code",
   "execution_count": 101,
   "metadata": {},
   "outputs": [
    {
     "data": {
      "text/html": [
       "<div>\n",
       "<style scoped>\n",
       "    .dataframe tbody tr th:only-of-type {\n",
       "        vertical-align: middle;\n",
       "    }\n",
       "\n",
       "    .dataframe tbody tr th {\n",
       "        vertical-align: top;\n",
       "    }\n",
       "\n",
       "    .dataframe thead th {\n",
       "        text-align: right;\n",
       "    }\n",
       "</style>\n",
       "<table border=\"1\" class=\"dataframe\">\n",
       "  <thead>\n",
       "    <tr style=\"text-align: right;\">\n",
       "      <th></th>\n",
       "      <th>Favorness</th>\n",
       "      <th>Condition</th>\n",
       "      <th>Subjects</th>\n",
       "    </tr>\n",
       "  </thead>\n",
       "  <tbody>\n",
       "    <tr>\n",
       "      <th>0</th>\n",
       "      <td>7</td>\n",
       "      <td>algebra</td>\n",
       "      <td>0</td>\n",
       "    </tr>\n",
       "    <tr>\n",
       "      <th>1</th>\n",
       "      <td>8</td>\n",
       "      <td>algebra</td>\n",
       "      <td>1</td>\n",
       "    </tr>\n",
       "    <tr>\n",
       "      <th>2</th>\n",
       "      <td>9</td>\n",
       "      <td>algebra</td>\n",
       "      <td>2</td>\n",
       "    </tr>\n",
       "    <tr>\n",
       "      <th>3</th>\n",
       "      <td>5</td>\n",
       "      <td>algebra</td>\n",
       "      <td>3</td>\n",
       "    </tr>\n",
       "    <tr>\n",
       "      <th>4</th>\n",
       "      <td>6</td>\n",
       "      <td>algebra</td>\n",
       "      <td>4</td>\n",
       "    </tr>\n",
       "    <tr>\n",
       "      <th>5</th>\n",
       "      <td>5</td>\n",
       "      <td>calculus</td>\n",
       "      <td>0</td>\n",
       "    </tr>\n",
       "    <tr>\n",
       "      <th>6</th>\n",
       "      <td>4</td>\n",
       "      <td>calculus</td>\n",
       "      <td>1</td>\n",
       "    </tr>\n",
       "    <tr>\n",
       "      <th>7</th>\n",
       "      <td>7</td>\n",
       "      <td>calculus</td>\n",
       "      <td>2</td>\n",
       "    </tr>\n",
       "    <tr>\n",
       "      <th>8</th>\n",
       "      <td>1</td>\n",
       "      <td>calculus</td>\n",
       "      <td>3</td>\n",
       "    </tr>\n",
       "    <tr>\n",
       "      <th>9</th>\n",
       "      <td>3</td>\n",
       "      <td>calculus</td>\n",
       "      <td>4</td>\n",
       "    </tr>\n",
       "    <tr>\n",
       "      <th>10</th>\n",
       "      <td>8</td>\n",
       "      <td>statistics</td>\n",
       "      <td>0</td>\n",
       "    </tr>\n",
       "    <tr>\n",
       "      <th>11</th>\n",
       "      <td>6</td>\n",
       "      <td>statistics</td>\n",
       "      <td>1</td>\n",
       "    </tr>\n",
       "    <tr>\n",
       "      <th>12</th>\n",
       "      <td>7</td>\n",
       "      <td>statistics</td>\n",
       "      <td>2</td>\n",
       "    </tr>\n",
       "    <tr>\n",
       "      <th>13</th>\n",
       "      <td>2</td>\n",
       "      <td>statistics</td>\n",
       "      <td>3</td>\n",
       "    </tr>\n",
       "    <tr>\n",
       "      <th>14</th>\n",
       "      <td>5</td>\n",
       "      <td>statistics</td>\n",
       "      <td>4</td>\n",
       "    </tr>\n",
       "  </tbody>\n",
       "</table>\n",
       "</div>"
      ],
      "text/plain": [
       "    Favorness   Condition  Subjects\n",
       "0           7     algebra         0\n",
       "1           8     algebra         1\n",
       "2           9     algebra         2\n",
       "3           5     algebra         3\n",
       "4           6     algebra         4\n",
       "5           5    calculus         0\n",
       "6           4    calculus         1\n",
       "7           7    calculus         2\n",
       "8           1    calculus         3\n",
       "9           3    calculus         4\n",
       "10          8  statistics         0\n",
       "11          6  statistics         1\n",
       "12          7  statistics         2\n",
       "13          2  statistics         3\n",
       "14          5  statistics         4"
      ]
     },
     "execution_count": 101,
     "metadata": {},
     "output_type": "execute_result"
    }
   ],
   "source": [
    "# データの準備：DataFrameを作る\n",
    "students = list(range(5))    # ['Tanaka','Kisi','Obiki','Yosikawa','Ogino']\n",
    "# students = ['Tanaka','Kisi','Obiki','Yosikawa','Ogino']\n",
    "favorness = np.hstack([algebra, calculus, statistics])\n",
    "condition = np.repeat(['algebra','calculus','statistics'], 5)\n",
    "# condition = np.repeat([0, 1, 2], 5)\n",
    "subjects = np.array(students + students + students)\n",
    "\n",
    "favor_df = pd.DataFrame({'Favorness':favorness,'Condition':condition,'Subjects':subjects})\n",
    "favor_df"
   ]
  },
  {
   "cell_type": "code",
   "execution_count": 102,
   "metadata": {},
   "outputs": [
    {
     "name": "stdout",
     "output_type": "stream",
     "text": [
      "                Anova\n",
      "======================================\n",
      "          F Value Num DF Den DF Pr > F\n",
      "--------------------------------------\n",
      "Condition 14.6957 2.0000 8.0000 0.0021\n",
      "======================================\n",
      "\n"
     ]
    }
   ],
   "source": [
    "# import statsmodels.api as sm\n",
    "# from statsmodels.formula.api import ols\n",
    "import statsmodels.stats.anova as anova\n",
    "aov = anova.AnovaRM(favor_df, 'Favorness', 'Subjects',['Condition'])\n",
    "result = aov.fit()\n",
    "print(result)"
   ]
  },
  {
   "cell_type": "markdown",
   "metadata": {},
   "source": [
    "5. $p$値が0.0021だから5%水準で科目間に有意な差があるということが分かる。"
   ]
  },
  {
   "cell_type": "code",
   "execution_count": 114,
   "metadata": {},
   "outputs": [
    {
     "data": {
      "text/plain": [
       "4.458970107524511"
      ]
     },
     "execution_count": 114,
     "metadata": {},
     "output_type": "execute_result"
    }
   ],
   "source": [
    "# F値の棄却域 上側確率0.05に対するFの値\n",
    "stats.f.isf(0.05, 2, 8)"
   ]
  },
  {
   "cell_type": "code",
   "execution_count": null,
   "metadata": {},
   "outputs": [],
   "source": []
  },
  {
   "cell_type": "markdown",
   "metadata": {},
   "source": [
    "### 7.2.3 対応の有無による違い\n",
    "対応を考慮するとFの分母である残差の平均平方の値が小さくなるため、Fの値は大きくなり、結果として有意になりやすい。"
   ]
  },
  {
   "cell_type": "markdown",
   "metadata": {},
   "source": [
    "### 7.2.4 平方和の分解と自由度の計算\n",
    "* 一元配置分散分析（対応なし）：\\\n",
    "全体平方和 = 群間平方和 + 郡内平方和\n",
    "* 一元配置分散分析（対応あり）：\\\n",
    "全体平方和 = 条件平方和 + 個人差平方和 + 残差平方和"
   ]
  },
  {
   "cell_type": "markdown",
   "metadata": {},
   "source": [
    "## 7.3 二元配置分散分析（対応なし）\n",
    "2つの条件の組み合わせによって、母平均が異なるかどうかを検定する。\\\n",
    "3種類の銘柄のミネラルウォーターのおいしさについて、2種類の温度のもとで評定したデータを使用する。\n",
    "\n",
    "### 7.3.1 主効果と交互作用効果\n",
    "**要因**: 母平均に違いをもたらす原因と考えているもの\\\n",
    "**水準**: ある要因の中に含まれる個々の条件\\\n",
    "**主効果**: 一元配置分散分析のときの効果と同じもの\\\n",
    "**交互作用効果**: 2つい以上の要因が組み合わされたときに生じる効果"
   ]
  },
  {
   "cell_type": "markdown",
   "metadata": {},
   "source": [
    "### 7.3.2 二元配置分散分析（対応なし）を分析する\n",
    "1. 帰無仮説と対立仮説の設定\\\n",
    "    A: 温度の違い、B: 銘柄の違い\\\n",
    "    **要因Aの主効果:**\\\n",
    "    帰無仮説: 温度が違ってもおいしさ得点母平均は等しい。\\\n",
    "    対立仮説: 温度の違いによっておいしさ得点の母平均は異なる。\\\n",
    "    **要因Bの主効果:**\\\n",
    "    帰無仮説: 銘柄が違ってもおいしさ得点の母平均は等しい。\\\n",
    "    対立仮説: 銘柄の違いによっておいしさ得点の母平均は異なる。\\\n",
    "    **要因Aと要因Bの交互作用効果:**\\\n",
    "    帰無仮説: 温度と銘柄の組み合わせに相性の良さ悪しはない。\\\n",
    "    対立仮説: 温度と銘柄の組み合わせに相性の良し悪しがある。\n",
    "2. 検定統計量の選択\\\n",
    "    分散分析では、$F$を用いる。\n",
    "3. 有意水準の決定\\\n",
    "    有意水準は5%\n",
    "4. 検定統計量の実現値を求める"
   ]
  },
  {
   "cell_type": "code",
   "execution_count": 5,
   "metadata": {},
   "outputs": [],
   "source": [
    "import statsmodels.formula.api as smf\n",
    "import statsmodels.api as sm"
   ]
  },
  {
   "cell_type": "code",
   "execution_count": 3,
   "metadata": {},
   "outputs": [],
   "source": [
    "# 味の評定\n",
    "taste = [6,4,5,3,2,10,8,10,8,9,11,12,12,10,10,5,4,2,2,2,7,6,5,4,3,12,8,5,6,4]\n",
    "# 温度 := 低温,  常温  \n",
    "temperature = ['cold' for _ in range(15)]+['normal' for _ in range(15)] \n",
    "# ブランド:= イカアン, ボスビック, ビビッテル\n",
    "bland = ['Ikaan' for _ in range(5)]+['Bosvic' for _ in range(5)] +  ['Vivittel' for _ in range(5)]\n",
    "bland = bland+bland"
   ]
  },
  {
   "cell_type": "code",
   "execution_count": 4,
   "metadata": {},
   "outputs": [
    {
     "name": "stdout",
     "output_type": "stream",
     "text": [
      "[6, 4, 5, 3, 2, 10, 8, 10, 8, 9, 11, 12, 12, 10, 10, 5, 4, 2, 2, 2, 7, 6, 5, 4, 3, 12, 8, 5, 6, 4]\n",
      "['cold', 'cold', 'cold', 'cold', 'cold', 'cold', 'cold', 'cold', 'cold', 'cold', 'cold', 'cold', 'cold', 'cold', 'cold', 'normal', 'normal', 'normal', 'normal', 'normal', 'normal', 'normal', 'normal', 'normal', 'normal', 'normal', 'normal', 'normal', 'normal', 'normal']\n",
      "['Ikaan', 'Ikaan', 'Ikaan', 'Ikaan', 'Ikaan', 'Bosvic', 'Bosvic', 'Bosvic', 'Bosvic', 'Bosvic', 'Vivittel', 'Vivittel', 'Vivittel', 'Vivittel', 'Vivittel', 'Ikaan', 'Ikaan', 'Ikaan', 'Ikaan', 'Ikaan', 'Bosvic', 'Bosvic', 'Bosvic', 'Bosvic', 'Bosvic', 'Vivittel', 'Vivittel', 'Vivittel', 'Vivittel', 'Vivittel']\n"
     ]
    }
   ],
   "source": [
    "print(taste)\n",
    "print(temperature)\n",
    "print(bland)"
   ]
  },
  {
   "cell_type": "code",
   "execution_count": 6,
   "metadata": {},
   "outputs": [
    {
     "data": {
      "text/html": [
       "<div>\n",
       "<style scoped>\n",
       "    .dataframe tbody tr th:only-of-type {\n",
       "        vertical-align: middle;\n",
       "    }\n",
       "\n",
       "    .dataframe tbody tr th {\n",
       "        vertical-align: top;\n",
       "    }\n",
       "\n",
       "    .dataframe thead th {\n",
       "        text-align: right;\n",
       "    }\n",
       "</style>\n",
       "<table border=\"1\" class=\"dataframe\">\n",
       "  <thead>\n",
       "    <tr style=\"text-align: right;\">\n",
       "      <th></th>\n",
       "      <th>taste</th>\n",
       "      <th>temp</th>\n",
       "      <th>bland</th>\n",
       "    </tr>\n",
       "  </thead>\n",
       "  <tbody>\n",
       "    <tr>\n",
       "      <th>0</th>\n",
       "      <td>6</td>\n",
       "      <td>cold</td>\n",
       "      <td>Ikaan</td>\n",
       "    </tr>\n",
       "    <tr>\n",
       "      <th>1</th>\n",
       "      <td>4</td>\n",
       "      <td>cold</td>\n",
       "      <td>Ikaan</td>\n",
       "    </tr>\n",
       "    <tr>\n",
       "      <th>2</th>\n",
       "      <td>5</td>\n",
       "      <td>cold</td>\n",
       "      <td>Ikaan</td>\n",
       "    </tr>\n",
       "    <tr>\n",
       "      <th>3</th>\n",
       "      <td>3</td>\n",
       "      <td>cold</td>\n",
       "      <td>Ikaan</td>\n",
       "    </tr>\n",
       "    <tr>\n",
       "      <th>4</th>\n",
       "      <td>2</td>\n",
       "      <td>cold</td>\n",
       "      <td>Ikaan</td>\n",
       "    </tr>\n",
       "    <tr>\n",
       "      <th>5</th>\n",
       "      <td>10</td>\n",
       "      <td>cold</td>\n",
       "      <td>Bosvic</td>\n",
       "    </tr>\n",
       "    <tr>\n",
       "      <th>6</th>\n",
       "      <td>8</td>\n",
       "      <td>cold</td>\n",
       "      <td>Bosvic</td>\n",
       "    </tr>\n",
       "    <tr>\n",
       "      <th>7</th>\n",
       "      <td>10</td>\n",
       "      <td>cold</td>\n",
       "      <td>Bosvic</td>\n",
       "    </tr>\n",
       "    <tr>\n",
       "      <th>8</th>\n",
       "      <td>8</td>\n",
       "      <td>cold</td>\n",
       "      <td>Bosvic</td>\n",
       "    </tr>\n",
       "    <tr>\n",
       "      <th>9</th>\n",
       "      <td>9</td>\n",
       "      <td>cold</td>\n",
       "      <td>Bosvic</td>\n",
       "    </tr>\n",
       "    <tr>\n",
       "      <th>10</th>\n",
       "      <td>11</td>\n",
       "      <td>cold</td>\n",
       "      <td>Vivittel</td>\n",
       "    </tr>\n",
       "    <tr>\n",
       "      <th>11</th>\n",
       "      <td>12</td>\n",
       "      <td>cold</td>\n",
       "      <td>Vivittel</td>\n",
       "    </tr>\n",
       "    <tr>\n",
       "      <th>12</th>\n",
       "      <td>12</td>\n",
       "      <td>cold</td>\n",
       "      <td>Vivittel</td>\n",
       "    </tr>\n",
       "    <tr>\n",
       "      <th>13</th>\n",
       "      <td>10</td>\n",
       "      <td>cold</td>\n",
       "      <td>Vivittel</td>\n",
       "    </tr>\n",
       "    <tr>\n",
       "      <th>14</th>\n",
       "      <td>10</td>\n",
       "      <td>cold</td>\n",
       "      <td>Vivittel</td>\n",
       "    </tr>\n",
       "    <tr>\n",
       "      <th>15</th>\n",
       "      <td>5</td>\n",
       "      <td>normal</td>\n",
       "      <td>Ikaan</td>\n",
       "    </tr>\n",
       "    <tr>\n",
       "      <th>16</th>\n",
       "      <td>4</td>\n",
       "      <td>normal</td>\n",
       "      <td>Ikaan</td>\n",
       "    </tr>\n",
       "    <tr>\n",
       "      <th>17</th>\n",
       "      <td>2</td>\n",
       "      <td>normal</td>\n",
       "      <td>Ikaan</td>\n",
       "    </tr>\n",
       "    <tr>\n",
       "      <th>18</th>\n",
       "      <td>2</td>\n",
       "      <td>normal</td>\n",
       "      <td>Ikaan</td>\n",
       "    </tr>\n",
       "    <tr>\n",
       "      <th>19</th>\n",
       "      <td>2</td>\n",
       "      <td>normal</td>\n",
       "      <td>Ikaan</td>\n",
       "    </tr>\n",
       "    <tr>\n",
       "      <th>20</th>\n",
       "      <td>7</td>\n",
       "      <td>normal</td>\n",
       "      <td>Bosvic</td>\n",
       "    </tr>\n",
       "    <tr>\n",
       "      <th>21</th>\n",
       "      <td>6</td>\n",
       "      <td>normal</td>\n",
       "      <td>Bosvic</td>\n",
       "    </tr>\n",
       "    <tr>\n",
       "      <th>22</th>\n",
       "      <td>5</td>\n",
       "      <td>normal</td>\n",
       "      <td>Bosvic</td>\n",
       "    </tr>\n",
       "    <tr>\n",
       "      <th>23</th>\n",
       "      <td>4</td>\n",
       "      <td>normal</td>\n",
       "      <td>Bosvic</td>\n",
       "    </tr>\n",
       "    <tr>\n",
       "      <th>24</th>\n",
       "      <td>3</td>\n",
       "      <td>normal</td>\n",
       "      <td>Bosvic</td>\n",
       "    </tr>\n",
       "    <tr>\n",
       "      <th>25</th>\n",
       "      <td>12</td>\n",
       "      <td>normal</td>\n",
       "      <td>Vivittel</td>\n",
       "    </tr>\n",
       "    <tr>\n",
       "      <th>26</th>\n",
       "      <td>8</td>\n",
       "      <td>normal</td>\n",
       "      <td>Vivittel</td>\n",
       "    </tr>\n",
       "    <tr>\n",
       "      <th>27</th>\n",
       "      <td>5</td>\n",
       "      <td>normal</td>\n",
       "      <td>Vivittel</td>\n",
       "    </tr>\n",
       "    <tr>\n",
       "      <th>28</th>\n",
       "      <td>6</td>\n",
       "      <td>normal</td>\n",
       "      <td>Vivittel</td>\n",
       "    </tr>\n",
       "    <tr>\n",
       "      <th>29</th>\n",
       "      <td>4</td>\n",
       "      <td>normal</td>\n",
       "      <td>Vivittel</td>\n",
       "    </tr>\n",
       "  </tbody>\n",
       "</table>\n",
       "</div>"
      ],
      "text/plain": [
       "    taste    temp     bland\n",
       "0       6    cold     Ikaan\n",
       "1       4    cold     Ikaan\n",
       "2       5    cold     Ikaan\n",
       "3       3    cold     Ikaan\n",
       "4       2    cold     Ikaan\n",
       "5      10    cold    Bosvic\n",
       "6       8    cold    Bosvic\n",
       "7      10    cold    Bosvic\n",
       "8       8    cold    Bosvic\n",
       "9       9    cold    Bosvic\n",
       "10     11    cold  Vivittel\n",
       "11     12    cold  Vivittel\n",
       "12     12    cold  Vivittel\n",
       "13     10    cold  Vivittel\n",
       "14     10    cold  Vivittel\n",
       "15      5  normal     Ikaan\n",
       "16      4  normal     Ikaan\n",
       "17      2  normal     Ikaan\n",
       "18      2  normal     Ikaan\n",
       "19      2  normal     Ikaan\n",
       "20      7  normal    Bosvic\n",
       "21      6  normal    Bosvic\n",
       "22      5  normal    Bosvic\n",
       "23      4  normal    Bosvic\n",
       "24      3  normal    Bosvic\n",
       "25     12  normal  Vivittel\n",
       "26      8  normal  Vivittel\n",
       "27      5  normal  Vivittel\n",
       "28      6  normal  Vivittel\n",
       "29      4  normal  Vivittel"
      ]
     },
     "execution_count": 6,
     "metadata": {},
     "output_type": "execute_result"
    }
   ],
   "source": [
    "taste_df = pd.DataFrame({\"taste\":taste, \"temp\" : temperature, \"bland\" : bland})\n",
    "taste_df"
   ]
  },
  {
   "cell_type": "code",
   "execution_count": 22,
   "metadata": {},
   "outputs": [
    {
     "name": "stdout",
     "output_type": "stream",
     "text": [
      "              df  sum_sq    mean_sq          F    PR(>F)\n",
      "temp         1.0    67.5  67.500000  21.315790  0.000110\n",
      "bland        2.0   155.0  77.500000  24.473684  0.000002\n",
      "temp:bland   2.0    15.0   7.500000   2.368421  0.115151\n",
      "Residual    24.0    76.0   3.166667        NaN       NaN\n"
     ]
    }
   ],
   "source": [
    "# Rのsummary(aov())と同じような関数\n",
    "model = smf.ols(\"taste ~ temp * bland\", taste_df).fit()\n",
    "aov_table = sm.stats.anova_lm(model).round(7) # 小数点以下7桁まで\n",
    "print(aov_table)"
   ]
  },
  {
   "cell_type": "code",
   "execution_count": 11,
   "metadata": {},
   "outputs": [
    {
     "name": "stdout",
     "output_type": "stream",
     "text": [
      "313.5\n",
      "313.5\n"
     ]
    }
   ],
   "source": [
    "# 全体平方和の値について確認\n",
    "print(67.5+155+15+76)\n",
    "print(sum((taste-np.mean(taste))**2))"
   ]
  },
  {
   "cell_type": "markdown",
   "metadata": {},
   "source": [
    "5. 帰無仮説の棄却or採択の決定\\\n",
    "    分散分析表の$p$値に着目\n",
    "    * 温度の主効果: 5%水準で有意な効果がある ($p=0.000110$)\n",
    "    * 銘柄の主効果: 5%水準で有意な効果がある ($p=0.000002$)\n",
    "    * 温度と銘柄の交互作用効果: 5%水準で有意な効果はない ($p=0.115151$)"
   ]
  },
  {
   "cell_type": "markdown",
   "metadata": {},
   "source": [
    "#### 交互作用効果の図の作成"
   ]
  },
  {
   "cell_type": "code",
   "execution_count": 16,
   "metadata": {},
   "outputs": [
    {
     "data": {
      "image/png": "[encoded data removed]",
      "text/plain": [
       "<Figure size 432x288 with 1 Axes>"
      ]
     },
     "metadata": {},
     "output_type": "display_data"
    }
   ],
   "source": [
    "# 銘柄ごとの温度と味の関係図\n",
    "import statsmodels\n",
    "fig1 = statsmodels.graphics.factorplots.interaction_plot(taste_df.temp, taste_df.bland, taste_df.taste)"
   ]
  },
  {
   "cell_type": "code",
   "execution_count": 17,
   "metadata": {},
   "outputs": [
    {
     "data": {
      "image/png": "[encoded data removed]",
      "text/plain": [
       "<Figure size 432x288 with 1 Axes>"
      ]
     },
     "metadata": {},
     "output_type": "display_data"
    }
   ],
   "source": [
    "# 温度ごとの銘柄と味の関係図\n",
    "import statsmodels\n",
    "fig1 = statsmodels.graphics.factorplots.interaction_plot(taste_df.bland, taste_df.temp, taste_df.taste)"
   ]
  },
  {
   "cell_type": "markdown",
   "metadata": {},
   "source": [
    "直線が完全には平行ではないので交互作用効果があるが、統計的には有意ではなかったということ。"
   ]
  },
  {
   "cell_type": "code",
   "execution_count": null,
   "metadata": {},
   "outputs": [],
   "source": []
  },
  {
   "cell_type": "markdown",
   "metadata": {},
   "source": [
    "### 7.3.3 一元配置と見なして分散分析をしてみる\n",
    "温度の違いにのみ着目して一元配置分散分析をする"
   ]
  },
  {
   "cell_type": "code",
   "execution_count": 23,
   "metadata": {},
   "outputs": [
    {
     "name": "stdout",
     "output_type": "stream",
     "text": [
      "            df  sum_sq    mean_sq         F    PR(>F)\n",
      "temp       1.0    67.5  67.500000  7.682927  0.009797\n",
      "Residual  28.0   246.0   8.785714       NaN       NaN\n"
     ]
    }
   ],
   "source": [
    "model = smf.ols(\"taste ~ temp\", taste_df).fit()\n",
    "aov_table = sm.stats.anova_lm(model).round(7) # 小数点以下7桁まで\n",
    "print(aov_table)"
   ]
  },
  {
   "cell_type": "markdown",
   "metadata": {},
   "source": [
    "二元配置のときの「銘柄」「温度:銘柄」「Residuals」の平方和を足すと、246となり、一元配置の残差の平方和と一致する。\\"
   ]
  },
  {
   "cell_type": "code",
   "execution_count": null,
   "metadata": {},
   "outputs": [],
   "source": []
  },
  {
   "cell_type": "markdown",
   "metadata": {},
   "source": [
    "## 7.4 二元配置分散分析（2要因とも対応あり）\n",
    "3種類の銘柄、2種類の温度は対応のない場合と同じ\\\n",
    "ここでは5人の評定者が温度と銘柄を組み合わせた6つの条件全てでおいしさの評定を行っている。\n",
    "\n",
    "対応のない場合と異なるのは、検定統計量の計算方法だけ。"
   ]
  },
  {
   "cell_type": "code",
   "execution_count": 27,
   "metadata": {},
   "outputs": [
    {
     "name": "stdout",
     "output_type": "stream",
     "text": [
      "[0, 1, 2, 3, 4, 0, 1, 2, 3, 4, 0, 1, 2, 3, 4, 0, 1, 2, 3, 4, 0, 1, 2, 3, 4, 0, 1, 2, 3, 4]\n"
     ]
    }
   ],
   "source": [
    "participants = list(range(5))*6 # [\"Muramatu\",\"Kawasaki\",\"Iguti\",\"Matunaka\",\"Jozima\"]*6\n",
    "print(participants)"
   ]
  },
  {
   "cell_type": "code",
   "execution_count": 28,
   "metadata": {},
   "outputs": [
    {
     "data": {
      "text/html": [
       "<div>\n",
       "<style scoped>\n",
       "    .dataframe tbody tr th:only-of-type {\n",
       "        vertical-align: middle;\n",
       "    }\n",
       "\n",
       "    .dataframe tbody tr th {\n",
       "        vertical-align: top;\n",
       "    }\n",
       "\n",
       "    .dataframe thead th {\n",
       "        text-align: right;\n",
       "    }\n",
       "</style>\n",
       "<table border=\"1\" class=\"dataframe\">\n",
       "  <thead>\n",
       "    <tr style=\"text-align: right;\">\n",
       "      <th></th>\n",
       "      <th>taste</th>\n",
       "      <th>temp</th>\n",
       "      <th>bland</th>\n",
       "      <th>person</th>\n",
       "    </tr>\n",
       "  </thead>\n",
       "  <tbody>\n",
       "    <tr>\n",
       "      <th>0</th>\n",
       "      <td>6</td>\n",
       "      <td>cold</td>\n",
       "      <td>Ikaan</td>\n",
       "      <td>0</td>\n",
       "    </tr>\n",
       "    <tr>\n",
       "      <th>1</th>\n",
       "      <td>4</td>\n",
       "      <td>cold</td>\n",
       "      <td>Ikaan</td>\n",
       "      <td>1</td>\n",
       "    </tr>\n",
       "    <tr>\n",
       "      <th>2</th>\n",
       "      <td>5</td>\n",
       "      <td>cold</td>\n",
       "      <td>Ikaan</td>\n",
       "      <td>2</td>\n",
       "    </tr>\n",
       "    <tr>\n",
       "      <th>3</th>\n",
       "      <td>3</td>\n",
       "      <td>cold</td>\n",
       "      <td>Ikaan</td>\n",
       "      <td>3</td>\n",
       "    </tr>\n",
       "    <tr>\n",
       "      <th>4</th>\n",
       "      <td>2</td>\n",
       "      <td>cold</td>\n",
       "      <td>Ikaan</td>\n",
       "      <td>4</td>\n",
       "    </tr>\n",
       "    <tr>\n",
       "      <th>5</th>\n",
       "      <td>10</td>\n",
       "      <td>cold</td>\n",
       "      <td>Bosvic</td>\n",
       "      <td>0</td>\n",
       "    </tr>\n",
       "    <tr>\n",
       "      <th>6</th>\n",
       "      <td>8</td>\n",
       "      <td>cold</td>\n",
       "      <td>Bosvic</td>\n",
       "      <td>1</td>\n",
       "    </tr>\n",
       "    <tr>\n",
       "      <th>7</th>\n",
       "      <td>10</td>\n",
       "      <td>cold</td>\n",
       "      <td>Bosvic</td>\n",
       "      <td>2</td>\n",
       "    </tr>\n",
       "    <tr>\n",
       "      <th>8</th>\n",
       "      <td>8</td>\n",
       "      <td>cold</td>\n",
       "      <td>Bosvic</td>\n",
       "      <td>3</td>\n",
       "    </tr>\n",
       "    <tr>\n",
       "      <th>9</th>\n",
       "      <td>9</td>\n",
       "      <td>cold</td>\n",
       "      <td>Bosvic</td>\n",
       "      <td>4</td>\n",
       "    </tr>\n",
       "    <tr>\n",
       "      <th>10</th>\n",
       "      <td>11</td>\n",
       "      <td>cold</td>\n",
       "      <td>Vivittel</td>\n",
       "      <td>0</td>\n",
       "    </tr>\n",
       "    <tr>\n",
       "      <th>11</th>\n",
       "      <td>12</td>\n",
       "      <td>cold</td>\n",
       "      <td>Vivittel</td>\n",
       "      <td>1</td>\n",
       "    </tr>\n",
       "    <tr>\n",
       "      <th>12</th>\n",
       "      <td>12</td>\n",
       "      <td>cold</td>\n",
       "      <td>Vivittel</td>\n",
       "      <td>2</td>\n",
       "    </tr>\n",
       "    <tr>\n",
       "      <th>13</th>\n",
       "      <td>10</td>\n",
       "      <td>cold</td>\n",
       "      <td>Vivittel</td>\n",
       "      <td>3</td>\n",
       "    </tr>\n",
       "    <tr>\n",
       "      <th>14</th>\n",
       "      <td>10</td>\n",
       "      <td>cold</td>\n",
       "      <td>Vivittel</td>\n",
       "      <td>4</td>\n",
       "    </tr>\n",
       "    <tr>\n",
       "      <th>15</th>\n",
       "      <td>5</td>\n",
       "      <td>normal</td>\n",
       "      <td>Ikaan</td>\n",
       "      <td>0</td>\n",
       "    </tr>\n",
       "    <tr>\n",
       "      <th>16</th>\n",
       "      <td>4</td>\n",
       "      <td>normal</td>\n",
       "      <td>Ikaan</td>\n",
       "      <td>1</td>\n",
       "    </tr>\n",
       "    <tr>\n",
       "      <th>17</th>\n",
       "      <td>2</td>\n",
       "      <td>normal</td>\n",
       "      <td>Ikaan</td>\n",
       "      <td>2</td>\n",
       "    </tr>\n",
       "    <tr>\n",
       "      <th>18</th>\n",
       "      <td>2</td>\n",
       "      <td>normal</td>\n",
       "      <td>Ikaan</td>\n",
       "      <td>3</td>\n",
       "    </tr>\n",
       "    <tr>\n",
       "      <th>19</th>\n",
       "      <td>2</td>\n",
       "      <td>normal</td>\n",
       "      <td>Ikaan</td>\n",
       "      <td>4</td>\n",
       "    </tr>\n",
       "    <tr>\n",
       "      <th>20</th>\n",
       "      <td>7</td>\n",
       "      <td>normal</td>\n",
       "      <td>Bosvic</td>\n",
       "      <td>0</td>\n",
       "    </tr>\n",
       "    <tr>\n",
       "      <th>21</th>\n",
       "      <td>6</td>\n",
       "      <td>normal</td>\n",
       "      <td>Bosvic</td>\n",
       "      <td>1</td>\n",
       "    </tr>\n",
       "    <tr>\n",
       "      <th>22</th>\n",
       "      <td>5</td>\n",
       "      <td>normal</td>\n",
       "      <td>Bosvic</td>\n",
       "      <td>2</td>\n",
       "    </tr>\n",
       "    <tr>\n",
       "      <th>23</th>\n",
       "      <td>4</td>\n",
       "      <td>normal</td>\n",
       "      <td>Bosvic</td>\n",
       "      <td>3</td>\n",
       "    </tr>\n",
       "    <tr>\n",
       "      <th>24</th>\n",
       "      <td>3</td>\n",
       "      <td>normal</td>\n",
       "      <td>Bosvic</td>\n",
       "      <td>4</td>\n",
       "    </tr>\n",
       "    <tr>\n",
       "      <th>25</th>\n",
       "      <td>12</td>\n",
       "      <td>normal</td>\n",
       "      <td>Vivittel</td>\n",
       "      <td>0</td>\n",
       "    </tr>\n",
       "    <tr>\n",
       "      <th>26</th>\n",
       "      <td>8</td>\n",
       "      <td>normal</td>\n",
       "      <td>Vivittel</td>\n",
       "      <td>1</td>\n",
       "    </tr>\n",
       "    <tr>\n",
       "      <th>27</th>\n",
       "      <td>5</td>\n",
       "      <td>normal</td>\n",
       "      <td>Vivittel</td>\n",
       "      <td>2</td>\n",
       "    </tr>\n",
       "    <tr>\n",
       "      <th>28</th>\n",
       "      <td>6</td>\n",
       "      <td>normal</td>\n",
       "      <td>Vivittel</td>\n",
       "      <td>3</td>\n",
       "    </tr>\n",
       "    <tr>\n",
       "      <th>29</th>\n",
       "      <td>4</td>\n",
       "      <td>normal</td>\n",
       "      <td>Vivittel</td>\n",
       "      <td>4</td>\n",
       "    </tr>\n",
       "  </tbody>\n",
       "</table>\n",
       "</div>"
      ],
      "text/plain": [
       "    taste    temp     bland  person\n",
       "0       6    cold     Ikaan       0\n",
       "1       4    cold     Ikaan       1\n",
       "2       5    cold     Ikaan       2\n",
       "3       3    cold     Ikaan       3\n",
       "4       2    cold     Ikaan       4\n",
       "5      10    cold    Bosvic       0\n",
       "6       8    cold    Bosvic       1\n",
       "7      10    cold    Bosvic       2\n",
       "8       8    cold    Bosvic       3\n",
       "9       9    cold    Bosvic       4\n",
       "10     11    cold  Vivittel       0\n",
       "11     12    cold  Vivittel       1\n",
       "12     12    cold  Vivittel       2\n",
       "13     10    cold  Vivittel       3\n",
       "14     10    cold  Vivittel       4\n",
       "15      5  normal     Ikaan       0\n",
       "16      4  normal     Ikaan       1\n",
       "17      2  normal     Ikaan       2\n",
       "18      2  normal     Ikaan       3\n",
       "19      2  normal     Ikaan       4\n",
       "20      7  normal    Bosvic       0\n",
       "21      6  normal    Bosvic       1\n",
       "22      5  normal    Bosvic       2\n",
       "23      4  normal    Bosvic       3\n",
       "24      3  normal    Bosvic       4\n",
       "25     12  normal  Vivittel       0\n",
       "26      8  normal  Vivittel       1\n",
       "27      5  normal  Vivittel       2\n",
       "28      6  normal  Vivittel       3\n",
       "29      4  normal  Vivittel       4"
      ]
     },
     "execution_count": 28,
     "metadata": {},
     "output_type": "execute_result"
    }
   ],
   "source": [
    "taste_df2 = pd.DataFrame({\"taste\":taste, \"temp\" : temperature, \"bland\" : bland, \"person\":participants})\n",
    "taste_df2"
   ]
  },
  {
   "cell_type": "code",
   "execution_count": 32,
   "metadata": {},
   "outputs": [
    {
     "name": "stdout",
     "output_type": "stream",
     "text": [
      "                 Anova\n",
      "========================================\n",
      "           F Value  Num DF Den DF Pr > F\n",
      "----------------------------------------\n",
      "temp        18.0000 1.0000 4.0000 0.0132\n",
      "bland      155.0000 2.0000 8.0000 0.0000\n",
      "temp:bland   5.0000 2.0000 8.0000 0.0390\n",
      "========================================\n",
      "\n"
     ]
    }
   ],
   "source": [
    "from statsmodels.stats.anova import AnovaRM\n",
    "model2 = AnovaRM(taste_df2, \"taste\", \"person\", within=[\"temp\",\"bland\"])\n",
    "result2 = model2.fit()\n",
    "print(result2)"
   ]
  },
  {
   "cell_type": "markdown",
   "metadata": {},
   "source": [
    "この結果は、個人差によるデータのばらつきを分析した結果である。\\\n",
    "$p$値に注目すると、「温度」の主効果、「銘柄」の主効果、これら2要因の交互作用効果とも5%水準で有意であることが分かる。"
   ]
  },
  {
   "cell_type": "code",
   "execution_count": null,
   "metadata": {},
   "outputs": [],
   "source": []
  },
  {
   "cell_type": "markdown",
   "metadata": {},
   "source": [
    "## 7.5 二元配置分散分析（1要因のみ対応あり）\n",
    "今度は各評定者に冷蔵可常温のどちらかの温度条件に割り当てた上でその温度だけを3種類飲んでおいしさを評定したもの。\\\n",
    "7.4との違いは検定統計量の計算方法のみ"
   ]
  },
  {
   "cell_type": "code",
   "execution_count": 36,
   "metadata": {},
   "outputs": [
    {
     "data": {
      "text/html": [
       "<div>\n",
       "<style scoped>\n",
       "    .dataframe tbody tr th:only-of-type {\n",
       "        vertical-align: middle;\n",
       "    }\n",
       "\n",
       "    .dataframe tbody tr th {\n",
       "        vertical-align: top;\n",
       "    }\n",
       "\n",
       "    .dataframe thead th {\n",
       "        text-align: right;\n",
       "    }\n",
       "</style>\n",
       "<table border=\"1\" class=\"dataframe\">\n",
       "  <thead>\n",
       "    <tr style=\"text-align: right;\">\n",
       "      <th></th>\n",
       "      <th>taste</th>\n",
       "      <th>temp</th>\n",
       "      <th>bland</th>\n",
       "      <th>person</th>\n",
       "    </tr>\n",
       "  </thead>\n",
       "  <tbody>\n",
       "    <tr>\n",
       "      <th>0</th>\n",
       "      <td>6</td>\n",
       "      <td>cold</td>\n",
       "      <td>Ikaan</td>\n",
       "      <td>0</td>\n",
       "    </tr>\n",
       "    <tr>\n",
       "      <th>1</th>\n",
       "      <td>4</td>\n",
       "      <td>cold</td>\n",
       "      <td>Ikaan</td>\n",
       "      <td>1</td>\n",
       "    </tr>\n",
       "    <tr>\n",
       "      <th>2</th>\n",
       "      <td>5</td>\n",
       "      <td>cold</td>\n",
       "      <td>Ikaan</td>\n",
       "      <td>2</td>\n",
       "    </tr>\n",
       "    <tr>\n",
       "      <th>3</th>\n",
       "      <td>3</td>\n",
       "      <td>cold</td>\n",
       "      <td>Ikaan</td>\n",
       "      <td>3</td>\n",
       "    </tr>\n",
       "    <tr>\n",
       "      <th>4</th>\n",
       "      <td>2</td>\n",
       "      <td>cold</td>\n",
       "      <td>Ikaan</td>\n",
       "      <td>4</td>\n",
       "    </tr>\n",
       "    <tr>\n",
       "      <th>5</th>\n",
       "      <td>10</td>\n",
       "      <td>cold</td>\n",
       "      <td>Bosvic</td>\n",
       "      <td>0</td>\n",
       "    </tr>\n",
       "    <tr>\n",
       "      <th>6</th>\n",
       "      <td>8</td>\n",
       "      <td>cold</td>\n",
       "      <td>Bosvic</td>\n",
       "      <td>1</td>\n",
       "    </tr>\n",
       "    <tr>\n",
       "      <th>7</th>\n",
       "      <td>10</td>\n",
       "      <td>cold</td>\n",
       "      <td>Bosvic</td>\n",
       "      <td>2</td>\n",
       "    </tr>\n",
       "    <tr>\n",
       "      <th>8</th>\n",
       "      <td>8</td>\n",
       "      <td>cold</td>\n",
       "      <td>Bosvic</td>\n",
       "      <td>3</td>\n",
       "    </tr>\n",
       "    <tr>\n",
       "      <th>9</th>\n",
       "      <td>9</td>\n",
       "      <td>cold</td>\n",
       "      <td>Bosvic</td>\n",
       "      <td>4</td>\n",
       "    </tr>\n",
       "    <tr>\n",
       "      <th>10</th>\n",
       "      <td>11</td>\n",
       "      <td>cold</td>\n",
       "      <td>Vivittel</td>\n",
       "      <td>0</td>\n",
       "    </tr>\n",
       "    <tr>\n",
       "      <th>11</th>\n",
       "      <td>12</td>\n",
       "      <td>cold</td>\n",
       "      <td>Vivittel</td>\n",
       "      <td>1</td>\n",
       "    </tr>\n",
       "    <tr>\n",
       "      <th>12</th>\n",
       "      <td>12</td>\n",
       "      <td>cold</td>\n",
       "      <td>Vivittel</td>\n",
       "      <td>2</td>\n",
       "    </tr>\n",
       "    <tr>\n",
       "      <th>13</th>\n",
       "      <td>10</td>\n",
       "      <td>cold</td>\n",
       "      <td>Vivittel</td>\n",
       "      <td>3</td>\n",
       "    </tr>\n",
       "    <tr>\n",
       "      <th>14</th>\n",
       "      <td>10</td>\n",
       "      <td>cold</td>\n",
       "      <td>Vivittel</td>\n",
       "      <td>4</td>\n",
       "    </tr>\n",
       "    <tr>\n",
       "      <th>15</th>\n",
       "      <td>5</td>\n",
       "      <td>normal</td>\n",
       "      <td>Ikaan</td>\n",
       "      <td>5</td>\n",
       "    </tr>\n",
       "    <tr>\n",
       "      <th>16</th>\n",
       "      <td>4</td>\n",
       "      <td>normal</td>\n",
       "      <td>Ikaan</td>\n",
       "      <td>6</td>\n",
       "    </tr>\n",
       "    <tr>\n",
       "      <th>17</th>\n",
       "      <td>2</td>\n",
       "      <td>normal</td>\n",
       "      <td>Ikaan</td>\n",
       "      <td>7</td>\n",
       "    </tr>\n",
       "    <tr>\n",
       "      <th>18</th>\n",
       "      <td>2</td>\n",
       "      <td>normal</td>\n",
       "      <td>Ikaan</td>\n",
       "      <td>8</td>\n",
       "    </tr>\n",
       "    <tr>\n",
       "      <th>19</th>\n",
       "      <td>2</td>\n",
       "      <td>normal</td>\n",
       "      <td>Ikaan</td>\n",
       "      <td>9</td>\n",
       "    </tr>\n",
       "    <tr>\n",
       "      <th>20</th>\n",
       "      <td>7</td>\n",
       "      <td>normal</td>\n",
       "      <td>Bosvic</td>\n",
       "      <td>5</td>\n",
       "    </tr>\n",
       "    <tr>\n",
       "      <th>21</th>\n",
       "      <td>6</td>\n",
       "      <td>normal</td>\n",
       "      <td>Bosvic</td>\n",
       "      <td>6</td>\n",
       "    </tr>\n",
       "    <tr>\n",
       "      <th>22</th>\n",
       "      <td>5</td>\n",
       "      <td>normal</td>\n",
       "      <td>Bosvic</td>\n",
       "      <td>7</td>\n",
       "    </tr>\n",
       "    <tr>\n",
       "      <th>23</th>\n",
       "      <td>4</td>\n",
       "      <td>normal</td>\n",
       "      <td>Bosvic</td>\n",
       "      <td>8</td>\n",
       "    </tr>\n",
       "    <tr>\n",
       "      <th>24</th>\n",
       "      <td>3</td>\n",
       "      <td>normal</td>\n",
       "      <td>Bosvic</td>\n",
       "      <td>9</td>\n",
       "    </tr>\n",
       "    <tr>\n",
       "      <th>25</th>\n",
       "      <td>12</td>\n",
       "      <td>normal</td>\n",
       "      <td>Vivittel</td>\n",
       "      <td>5</td>\n",
       "    </tr>\n",
       "    <tr>\n",
       "      <th>26</th>\n",
       "      <td>8</td>\n",
       "      <td>normal</td>\n",
       "      <td>Vivittel</td>\n",
       "      <td>6</td>\n",
       "    </tr>\n",
       "    <tr>\n",
       "      <th>27</th>\n",
       "      <td>5</td>\n",
       "      <td>normal</td>\n",
       "      <td>Vivittel</td>\n",
       "      <td>7</td>\n",
       "    </tr>\n",
       "    <tr>\n",
       "      <th>28</th>\n",
       "      <td>6</td>\n",
       "      <td>normal</td>\n",
       "      <td>Vivittel</td>\n",
       "      <td>8</td>\n",
       "    </tr>\n",
       "    <tr>\n",
       "      <th>29</th>\n",
       "      <td>4</td>\n",
       "      <td>normal</td>\n",
       "      <td>Vivittel</td>\n",
       "      <td>9</td>\n",
       "    </tr>\n",
       "  </tbody>\n",
       "</table>\n",
       "</div>"
      ],
      "text/plain": [
       "    taste    temp     bland  person\n",
       "0       6    cold     Ikaan       0\n",
       "1       4    cold     Ikaan       1\n",
       "2       5    cold     Ikaan       2\n",
       "3       3    cold     Ikaan       3\n",
       "4       2    cold     Ikaan       4\n",
       "5      10    cold    Bosvic       0\n",
       "6       8    cold    Bosvic       1\n",
       "7      10    cold    Bosvic       2\n",
       "8       8    cold    Bosvic       3\n",
       "9       9    cold    Bosvic       4\n",
       "10     11    cold  Vivittel       0\n",
       "11     12    cold  Vivittel       1\n",
       "12     12    cold  Vivittel       2\n",
       "13     10    cold  Vivittel       3\n",
       "14     10    cold  Vivittel       4\n",
       "15      5  normal     Ikaan       5\n",
       "16      4  normal     Ikaan       6\n",
       "17      2  normal     Ikaan       7\n",
       "18      2  normal     Ikaan       8\n",
       "19      2  normal     Ikaan       9\n",
       "20      7  normal    Bosvic       5\n",
       "21      6  normal    Bosvic       6\n",
       "22      5  normal    Bosvic       7\n",
       "23      4  normal    Bosvic       8\n",
       "24      3  normal    Bosvic       9\n",
       "25     12  normal  Vivittel       5\n",
       "26      8  normal  Vivittel       6\n",
       "27      5  normal  Vivittel       7\n",
       "28      6  normal  Vivittel       8\n",
       "29      4  normal  Vivittel       9"
      ]
     },
     "execution_count": 36,
     "metadata": {},
     "output_type": "execute_result"
    }
   ],
   "source": [
    "participants = list(range(5))*3+list(range(5,10))*3\n",
    "taste_df3 = pd.DataFrame({\"taste\":taste, \"temp\" : temperature, \"bland\" : bland, \"person\":participants})\n",
    "taste_df3"
   ]
  },
  {
   "cell_type": "markdown",
   "metadata": {},
   "source": [
    "#### pyper\n",
    "現状pythonではやり方が分からなかったので、pyperを使用してr上で実行した。"
   ]
  },
  {
   "cell_type": "code",
   "execution_count": 55,
   "metadata": {},
   "outputs": [],
   "source": [
    "# 現状pythonではやり方が分からなかった\n",
    "'''\n",
    "model3 = AnovaRM(taste_df3, \"taste\", \"person\", within=[\"bland\"], between=[\"temp\"])\n",
    "result3 = model3.fit()\n",
    "print(result3)\n",
    "###\n",
    "#  Error message: Between subject effect not yet supported!\n",
    "###\n",
    "'''\n",
    "\n",
    "# rと連携して実行する\n",
    "import pyper\n",
    "# R のインスタンスを作る\n",
    "r = pyper.R(use_numpy=True, use_pandas=True)# defaultでnumpy,pandasともにTrue\n",
    "# Python のオブジェクトを R に渡す\n",
    "r.assign('taste', taste_df3['taste'].values)\n",
    "r.assign('temp', taste_df3['temp'].values)\n",
    "r.assign('bland', taste_df3['bland'].values)\n",
    "r.assign('person2', taste_df3['person'].values+1)"
   ]
  },
  {
   "cell_type": "code",
   "execution_count": 56,
   "metadata": {},
   "outputs": [
    {
     "name": "stdout",
     "output_type": "stream",
     "text": [
      "try({taste})\n",
      " [1]  6  4  5  3  2 10  8 10  8  9 11 12 12 10 10  5  4  2  2  2  7  6  5  4  3\n",
      "[26] 12  8  5  6  4\n",
      "\n",
      "try({temp})\n",
      " [1] \"cold\"   \"cold\"   \"cold\"   \"cold\"   \"cold\"   \"cold\"   \"cold\"   \"cold\"  \n",
      " [9] \"cold\"   \"cold\"   \"cold\"   \"cold\"   \"cold\"   \"cold\"   \"cold\"   \"normal\"\n",
      "[17] \"normal\" \"normal\" \"normal\" \"normal\" \"normal\" \"normal\" \"normal\" \"normal\"\n",
      "[25] \"normal\" \"normal\" \"normal\" \"normal\" \"normal\" \"normal\"\n",
      "\n",
      "try({bland})\n",
      " [1] \"Ikaan\"    \"Ikaan\"    \"Ikaan\"    \"Ikaan\"    \"Ikaan\"    \"Bosvic\"  \n",
      " [7] \"Bosvic\"   \"Bosvic\"   \"Bosvic\"   \"Bosvic\"   \"Vivittel\" \"Vivittel\"\n",
      "[13] \"Vivittel\" \"Vivittel\" \"Vivittel\" \"Ikaan\"    \"Ikaan\"    \"Ikaan\"   \n",
      "[19] \"Ikaan\"    \"Ikaan\"    \"Bosvic\"   \"Bosvic\"   \"Bosvic\"   \"Bosvic\"  \n",
      "[25] \"Bosvic\"   \"Vivittel\" \"Vivittel\" \"Vivittel\" \"Vivittel\" \"Vivittel\"\n",
      "\n",
      "try({person2})\n",
      " [1]  1  2  3  4  5  1  2  3  4  5  1  2  3  4  5  6  7  8  9 10  6  7  8  9 10\n",
      "[26]  6  7  8  9 10\n",
      "\n"
     ]
    }
   ],
   "source": [
    "print(r('taste'))\n",
    "print(r('temp'))\n",
    "print(r('bland'))\n",
    "print(r('person2'))"
   ]
  },
  {
   "cell_type": "code",
   "execution_count": 59,
   "metadata": {},
   "outputs": [
    {
     "name": "stdout",
     "output_type": "stream",
     "text": [
      "try({summary(aov(taste~temp*bland+Error(person2:temp+person2:temp:bland)))})\n",
      "\n",
      "Error: person2:temp\n",
      "          Df Sum Sq Mean Sq F value Pr(>F)\n",
      "temp       1  84.33   84.33   3.553  0.311\n",
      "Residuals  1  23.74   23.74               \n",
      "\n",
      "Error: person2:temp:bland\n",
      "           Df Sum Sq Mean Sq\n",
      "bland       2 134.30   67.15\n",
      "temp:bland  2  18.65    9.32\n",
      "\n",
      "Error: Within\n",
      "           Df Sum Sq Mean Sq F value   Pr(>F)    \n",
      "temp        1 10.134  10.134   10.67 0.004291 ** \n",
      "bland       2 21.948  10.974   11.55 0.000592 ***\n",
      "temp:bland  2  3.306   1.653    1.74 0.203727    \n",
      "Residuals  18 17.100   0.950                     \n",
      "---\n",
      "Signif. codes:  0 ‘***’ 0.001 ‘**’ 0.01 ‘*’ 0.05 ‘.’ 0.1 ‘ ’ 1\n",
      "\n"
     ]
    }
   ],
   "source": [
    "print(r('summary(aov(taste~temp*bland+Error(person2:temp+person2:temp:bland)))'))"
   ]
  },
  {
   "cell_type": "markdown",
   "metadata": {},
   "source": [
    "`+Error(person:temp+person:temp:bland)`では、個人差の要因である「person」と温度の違いの要因を表す「temp」が関わる組み合わせだけ指定している。\\\n",
    "versionの違いなのか出力の結果が違う。読み方がよくわからない。\\\n",
    "\n",
    "分散分析は、基本的には平均値の比較を行うための検定と言える。\\\n",
    "しかしそれだけではなく、主効果や交互作用効果といった異なる観点から、データにおけるばらつきがどのようにして生じているのかを探る方法であるということもできる。"
   ]
  },
  {
   "cell_type": "code",
   "execution_count": null,
   "metadata": {},
   "outputs": [],
   "source": []
  },
  {
   "cell_type": "markdown",
   "metadata": {},
   "source": [
    "### おまけ Rでの実行結果\n",
    "以下で、他の二元分散分析もRで実行してみた。"
   ]
  },
  {
   "cell_type": "code",
   "execution_count": 51,
   "metadata": {},
   "outputs": [
    {
     "name": "stdout",
     "output_type": "stream",
     "text": [
      "try({summary(aov(taste~temp*bland))})\n",
      "            Df Sum Sq Mean Sq F value   Pr(>F)    \n",
      "temp         1   67.5   67.50  21.316  0.00011 ***\n",
      "bland        2  155.0   77.50  24.474 1.61e-06 ***\n",
      "temp:bland   2   15.0    7.50   2.368  0.11515    \n",
      "Residuals   24   76.0    3.17                     \n",
      "---\n",
      "Signif. codes:  0 ‘***’ 0.001 ‘**’ 0.01 ‘*’ 0.05 ‘.’ 0.1 ‘ ’ 1\n",
      "\n"
     ]
    }
   ],
   "source": [
    "# 二元配置分散分析（対応なし）\n",
    "print(r('summary(aov(taste~temp*bland))'))"
   ]
  },
  {
   "cell_type": "code",
   "execution_count": 52,
   "metadata": {},
   "outputs": [
    {
     "name": "stdout",
     "output_type": "stream",
     "text": [
      "try({summary(aov(taste~temp+bland+temp:bland))})\n",
      "            Df Sum Sq Mean Sq F value   Pr(>F)    \n",
      "temp         1   67.5   67.50  21.316  0.00011 ***\n",
      "bland        2  155.0   77.50  24.474 1.61e-06 ***\n",
      "temp:bland   2   15.0    7.50   2.368  0.11515    \n",
      "Residuals   24   76.0    3.17                     \n",
      "---\n",
      "Signif. codes:  0 ‘***’ 0.001 ‘**’ 0.01 ‘*’ 0.05 ‘.’ 0.1 ‘ ’ 1\n",
      "\n"
     ]
    }
   ],
   "source": [
    "# 上記と同様\n",
    "print(r('summary(aov(taste~temp+bland+temp:bland))'))"
   ]
  },
  {
   "cell_type": "code",
   "execution_count": 54,
   "metadata": {},
   "outputs": [
    {
     "name": "stdout",
     "output_type": "stream",
     "text": [
      "try({summary(aov(taste~temp))})\n",
      "            Df Sum Sq Mean Sq F value Pr(>F)   \n",
      "temp         1   67.5   67.50   7.683 0.0098 **\n",
      "Residuals   28  246.0    8.79                  \n",
      "---\n",
      "Signif. codes:  0 ‘***’ 0.001 ‘**’ 0.01 ‘*’ 0.05 ‘.’ 0.1 ‘ ’ 1\n",
      "\n"
     ]
    }
   ],
   "source": [
    "# 一元配置と見なした場合\n",
    "print(r('summary(aov(taste~temp))'))"
   ]
  },
  {
   "cell_type": "code",
   "execution_count": 58,
   "metadata": {},
   "outputs": [
    {
     "name": "stdout",
     "output_type": "stream",
     "text": [
      "try({person1})\n",
      " [1] 1 2 3 4 5 1 2 3 4 5 1 2 3 4 5 1 2 3 4 5 1 2 3 4 5 1 2 3 4 5\n",
      "\n",
      "try({summary(aov(taste~temp*bland+Error(person1+person1:temp+person1:bland+person1:temp:bland)))})\n",
      "\n",
      "Error: person1\n",
      "          Df Sum Sq Mean Sq F value Pr(>F)\n",
      "Residuals  1  43.35   43.35               \n",
      "\n",
      "Error: person1:temp\n",
      "     Df Sum Sq Mean Sq\n",
      "temp  1  73.75   73.75\n",
      "\n",
      "Error: person1:bland\n",
      "      Df Sum Sq Mean Sq\n",
      "bland  2  121.8   60.91\n",
      "\n",
      "Error: person1:temp:bland\n",
      "           Df Sum Sq Mean Sq\n",
      "temp:bland  2  19.86   9.927\n",
      "\n",
      "Error: Within\n",
      "           Df Sum Sq Mean Sq F value   Pr(>F)    \n",
      "temp        1   1.10   1.105   1.163    0.295    \n",
      "bland       2  35.68  17.841  18.780 3.93e-05 ***\n",
      "temp:bland  2   0.85   0.423   0.445    0.648    \n",
      "Residuals  18  17.10   0.950                     \n",
      "---\n",
      "Signif. codes:  0 ‘***’ 0.001 ‘**’ 0.01 ‘*’ 0.05 ‘.’ 0.1 ‘ ’ 1\n",
      "\n"
     ]
    }
   ],
   "source": [
    "# 二元配置分散文政（2要因とも対応あり）\n",
    "r.assign('person1', taste_df2['person'].values+1)\n",
    "print(r('person1'))\n",
    "print(r('summary(aov(taste~temp*bland+Error(person1+person1:temp+person1:bland+person1:temp:bland)))'))"
   ]
  },
  {
   "cell_type": "code",
   "execution_count": null,
   "metadata": {},
   "outputs": [],
   "source": []
  },
  {
   "cell_type": "markdown",
   "metadata": {},
   "source": [
    "# 練習問題\n",
    "#### 1"
   ]
  },
  {
   "cell_type": "code",
   "execution_count": 132,
   "metadata": {},
   "outputs": [],
   "source": [
    "law = [75,61,68,58,66,55,65,63]\n",
    "literature = [62,60,66,63,55,53,59,63]\n",
    "science = [65,60,78,52,59,66,73,64]\n",
    "engineering = [52,59,44,67,47,53,58,49]"
   ]
  },
  {
   "cell_type": "code",
   "execution_count": 133,
   "metadata": {},
   "outputs": [
    {
     "name": "stdout",
     "output_type": "stream",
     "text": [
      "[75 61 68 58 66 55 65 63 62 60 66 63 55 53 59 63 65 60 78 52 59 66 73 64\n",
      " 52 59 44 67 47 53 58 49]\n"
     ]
    }
   ],
   "source": [
    "score = np.hstack([law, literature, science, engineering])\n",
    "print(score)"
   ]
  },
  {
   "cell_type": "code",
   "execution_count": 134,
   "metadata": {},
   "outputs": [
    {
     "name": "stdout",
     "output_type": "stream",
     "text": [
      "['law', 'law', 'law', 'law', 'law', 'law', 'law', 'law', 'literature', 'literature', 'literature', 'literature', 'literature', 'literature', 'literature', 'literature', 'science', 'science', 'science', 'science', 'science', 'science', 'science', 'science', 'engineering', 'engineering', 'engineering', 'engineering', 'engineering', 'engineering', 'engineering', 'engineering']\n"
     ]
    }
   ],
   "source": [
    "faculty = ['law']*8 + ['literature']*8 + ['science']*8 + ['engineering']*8\n",
    "print(faculty)"
   ]
  },
  {
   "cell_type": "code",
   "execution_count": 135,
   "metadata": {},
   "outputs": [
    {
     "name": "stdout",
     "output_type": "stream",
     "text": [
      "[0, 1, 2, 3, 4, 5, 6, 7, 0, 1, 2, 3, 4, 5, 6, 7, 0, 1, 2, 3, 4, 5, 6, 7, 0, 1, 2, 3, 4, 5, 6, 7]\n"
     ]
    }
   ],
   "source": [
    "test = list(range(8))*4\n",
    "print(test)"
   ]
  },
  {
   "cell_type": "code",
   "execution_count": 136,
   "metadata": {},
   "outputs": [
    {
     "name": "stdout",
     "output_type": "stream",
     "text": [
      "try({summary(aov(score~faculty))})\n",
      "            Df Sum Sq Mean Sq F value Pr(>F)  \n",
      "faculty      3  606.4  202.12   4.515 0.0105 *\n",
      "Residuals   28 1253.5   44.77                 \n",
      "---\n",
      "Signif. codes:  0 ‘***’ 0.001 ‘**’ 0.01 ‘*’ 0.05 ‘.’ 0.1 ‘ ’ 1\n",
      "\n"
     ]
    }
   ],
   "source": [
    "r.assign('score', score)\n",
    "r.assign('faculty', np.array(faculty))# listだとstrのエラーが出る\n",
    "r.assign('test', test)\n",
    "\n",
    "# 対応なしでの一元分散分析をする\n",
    "print(r('summary(aov(score~faculty))'))"
   ]
  },
  {
   "cell_type": "markdown",
   "metadata": {},
   "source": [
    "学部間での有意差を確認したかったのでfacultyの$p$値を確認する。5%以下なので有意であるといえる。\\\n",
    "続いて、多重比較を行う。"
   ]
  },
  {
   "cell_type": "code",
   "execution_count": 138,
   "metadata": {},
   "outputs": [
    {
     "name": "stdout",
     "output_type": "stream",
     "text": [
      "try({TukeyHSD(aov(score~faculty))})\n",
      "  Tukey multiple comparisons of means\n",
      "    95% family-wise confidence level\n",
      "\n",
      "Fit: aov(formula = score ~ faculty)\n",
      "\n",
      "$faculty\n",
      "                        diff        lwr       upr     p adj\n",
      "law-engineering        10.25   1.115908 19.384092 0.0233773\n",
      "literature-engineering  6.50  -2.634092 15.634092 0.2337032\n",
      "science-engineering    11.00   1.865908 20.134092 0.0136621\n",
      "literature-law         -3.75 -12.884092  5.384092 0.6799312\n",
      "science-law             0.75  -8.384092  9.884092 0.9959313\n",
      "science-literature      4.50  -4.634092 13.634092 0.5430095\n",
      "\n",
      "\n"
     ]
    }
   ],
   "source": [
    "print(r('TukeyHSD(aov(score~faculty))'))"
   ]
  },
  {
   "cell_type": "markdown",
   "metadata": {},
   "source": [
    "$p$値を確認したところ、法学部と工学部、理学部と工学部の間で有意差があることが分かる。\n",
    "\n",
    "ちなみに、テストに対応があるとした場合の分散分析は以下。\\\n",
    "これにそのまま`TuekyHSD`を適用するとエラーが出るので、ここでは学部間にだけ注目すればよい？"
   ]
  },
  {
   "cell_type": "code",
   "execution_count": 76,
   "metadata": {},
   "outputs": [
    {
     "name": "stdout",
     "output_type": "stream",
     "text": [
      "try({summary(aov(score~test+faculty))})\n",
      "            Df Sum Sq Mean Sq F value Pr(>F)  \n",
      "test         1   25.1   25.15   0.553 0.4636  \n",
      "faculty      3  606.4  202.12   4.443 0.0116 *\n",
      "Residuals   27 1228.4   45.49                 \n",
      "---\n",
      "Signif. codes:  0 ‘***’ 0.001 ‘**’ 0.01 ‘*’ 0.05 ‘.’ 0.1 ‘ ’ 1\n",
      "\n"
     ]
    }
   ],
   "source": [
    "print(r('summary(aov(score~test+faculty))'))"
   ]
  },
  {
   "cell_type": "code",
   "execution_count": null,
   "metadata": {},
   "outputs": [],
   "source": []
  },
  {
   "cell_type": "markdown",
   "metadata": {},
   "source": [
    "#### 2"
   ]
  },
  {
   "cell_type": "code",
   "execution_count": 142,
   "metadata": {},
   "outputs": [
    {
     "name": "stdout",
     "output_type": "stream",
     "text": [
      "[51, 66, 70, 75, 73, 62, 55, 47, 54, 55, 39, 60, 62, 56, 55, 37, 47, 60, 62, 53, 50]\n",
      "['seminar', 'seminar', 'seminar', 'seminar', 'seminar', 'seminar', 'seminar', 'practice', 'practice', 'practice', 'practice', 'practice', 'practice', 'practice', 'training', 'training', 'training', 'training', 'training', 'training', 'training']\n",
      "['A', 'B', 'C', 'D', 'E', 'F', 'G', 'A', 'B', 'C', 'D', 'E', 'F', 'G', 'A', 'B', 'C', 'D', 'E', 'F', 'G']\n",
      "[1, 2, 3, 4, 5, 6, 7, 1, 2, 3, 4, 5, 6, 7, 1, 2, 3, 4, 5, 6, 7]\n"
     ]
    }
   ],
   "source": [
    "score = [51,66,70,75,73,62,55,\n",
    "         47,54,55,39,60,62,56,\n",
    "         55,37,47,60,62,53,50]\n",
    "print(score)\n",
    "\n",
    "class_type = ['seminar']*7 + ['practice']*7 + ['training']*7\n",
    "print(class_type)\n",
    "\n",
    "person = ['A', 'B', 'C', 'D', 'E', 'F', 'G']*3\n",
    "person_int = list(range(1,8))*3# int型を渡すのは問題がある！！！\n",
    "print(person)\n",
    "print(person_int)"
   ]
  },
  {
   "cell_type": "code",
   "execution_count": 144,
   "metadata": {},
   "outputs": [
    {
     "name": "stdout",
     "output_type": "stream",
     "text": [
      "try({summary(aov(score~class_type+person))})\n",
      "            Df Sum Sq Mean Sq F value Pr(>F)  \n",
      "class_type   2  669.8   334.9   4.535 0.0341 *\n",
      "person       6  411.0    68.5   0.927 0.5093  \n",
      "Residuals   12  886.2    73.8                 \n",
      "---\n",
      "Signif. codes:  0 ‘***’ 0.001 ‘**’ 0.01 ‘*’ 0.05 ‘.’ 0.1 ‘ ’ 1\n",
      "\n"
     ]
    }
   ],
   "source": [
    "r.assign('score', score)\n",
    "r.assign('class_type', np.array(class_type))#\n",
    "r.assign('person', np.array(person))\n",
    "\n",
    "# 対応ありでの一元分散分析をする\n",
    "print(r('summary(aov(score~class_type+person))'))\n",
    "\n",
    "# r('result <- data.frame(person=person, class_type=class_type, score=score)')\n",
    "# print(r('summary(aov(score~class_type+person, result))'))"
   ]
  },
  {
   "cell_type": "markdown",
   "metadata": {},
   "source": [
    "**要素がstr型だと結果が変わってしまう。**"
   ]
  },
  {
   "cell_type": "code",
   "execution_count": 145,
   "metadata": {},
   "outputs": [
    {
     "name": "stdout",
     "output_type": "stream",
     "text": [
      "try({summary(aov(score~class_type+person_int))})\n",
      "            Df Sum Sq Mean Sq F value Pr(>F)  \n",
      "class_type   2  669.8   334.9   4.717 0.0235 *\n",
      "person_int   1   90.1    90.1   1.269 0.2756  \n",
      "Residuals   17 1207.0    71.0                 \n",
      "---\n",
      "Signif. codes:  0 ‘***’ 0.001 ‘**’ 0.01 ‘*’ 0.05 ‘.’ 0.1 ‘ ’ 1\n",
      "\n"
     ]
    }
   ],
   "source": [
    "r.assign('person_int', person_int)\n",
    "print(r('summary(aov(score~class_type+person_int))'))"
   ]
  },
  {
   "cell_type": "markdown",
   "metadata": {},
   "source": [
    "検定結果は5%水準で有意となった。次に多重比較を行う。\\\n",
    "**比較を行う際にはint型ではうまく行かないので、str型でRに渡しておく必要がある。**"
   ]
  },
  {
   "cell_type": "code",
   "execution_count": 141,
   "metadata": {},
   "outputs": [
    {
     "name": "stdout",
     "output_type": "stream",
     "text": [
      "try({TukeyHSD(aov(score~class_type+person))})\n",
      "  Tukey multiple comparisons of means\n",
      "    95% family-wise confidence level\n",
      "\n",
      "Fit: aov(formula = score ~ class_type + person)\n",
      "\n",
      "$class_type\n",
      "                        diff         lwr        upr     p adj\n",
      "seminar-practice   11.285714  -0.9689812 23.5404098 0.0721975\n",
      "training-practice  -1.285714 -13.5404098 10.9689812 0.9578818\n",
      "training-seminar  -12.571429 -24.8261241 -0.3167331 0.0442785\n",
      "\n",
      "$person\n",
      "           diff       lwr      upr     p adj\n",
      "B-A   1.3333333 -23.22404 25.89070 0.9999940\n",
      "C-A   6.3333333 -18.22404 30.89070 0.9651589\n",
      "D-A   7.0000000 -17.55737 31.55737 0.9450707\n",
      "E-A  14.0000000 -10.55737 38.55737 0.4633150\n",
      "F-A   8.0000000 -16.55737 32.55737 0.9032053\n",
      "G-A   2.6666667 -21.89070 27.22404 0.9996513\n",
      "C-B   5.0000000 -19.55737 29.55737 0.9890754\n",
      "D-B   5.6666667 -18.89070 30.22404 0.9795409\n",
      "E-B  12.6666667 -11.89070 37.22404 0.5682600\n",
      "F-B   6.6666667 -17.89070 31.22404 0.9558698\n",
      "G-B   1.3333333 -23.22404 25.89070 0.9999940\n",
      "D-C   0.6666667 -23.89070 25.22404 0.9999999\n",
      "E-C   7.6666667 -16.89070 32.22404 0.9187528\n",
      "F-C   1.6666667 -22.89070 26.22404 0.9999774\n",
      "G-C  -3.6666667 -28.22404 20.89070 0.9979070\n",
      "E-D   7.0000000 -17.55737 31.55737 0.9450707\n",
      "F-D   1.0000000 -23.55737 25.55737 0.9999989\n",
      "G-D  -4.3333333 -28.89070 20.22404 0.9948269\n",
      "F-E  -6.0000000 -30.55737 18.55737 0.9730161\n",
      "G-E -11.3333333 -35.89070 13.22404 0.6766509\n",
      "G-F  -5.3333333 -29.89070 19.22404 0.9848506\n",
      "\n",
      "\n"
     ]
    }
   ],
   "source": [
    "print(r('TukeyHSD(aov(score~class_type+person))'))"
   ]
  },
  {
   "cell_type": "markdown",
   "metadata": {},
   "source": [
    "検定結果より、実習と講義では5%水準で有意な差が見られた。"
   ]
  },
  {
   "cell_type": "code",
   "execution_count": null,
   "metadata": {},
   "outputs": [],
   "source": []
  }
 ],
 "metadata": {
  "kernelspec": {
   "display_name": "Python 3",
   "language": "python",
   "name": "python3"
  },
  "language_info": {
   "codemirror_mode": {
    "name": "ipython",
    "version": 3
   },
   "file_extension": ".py",
   "mimetype": "text/x-python",
   "name": "python",
   "nbconvert_exporter": "python",
   "pygments_lexer": "ipython3",
   "version": "3.7.6"
  }
 },
 "nbformat": 4,
 "nbformat_minor": 4
}
