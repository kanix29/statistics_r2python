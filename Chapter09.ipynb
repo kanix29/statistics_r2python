{
 "cells": [
  {
   "cell_type": "markdown",
   "metadata": {},
   "source": [
    "# 9. データフレーム"
   ]
  },
  {
   "cell_type": "code",
   "execution_count": 1,
   "metadata": {},
   "outputs": [],
   "source": [
    "import numpy as np\n",
    "import pandas as pd\n",
    "import matplotlib.pyplot as plt\n",
    "import seaborn as sns\n",
    "import scipy as sp\n",
    "from scipy import stats\n",
    "%matplotlib inline\n",
    "from itertools import cycle\n",
    "import pyper\n",
    "\n",
    "sns.set(style='ticks')\n",
    "color_pal = plt.rcParams['axes.prop_cycle'].by_key()['color']\n",
    "color_cycle = cycle(plt.rcParams['axes.prop_cycle'].by_key()['color'])"
   ]
  },
  {
   "cell_type": "code",
   "execution_count": 2,
   "metadata": {},
   "outputs": [
    {
     "data": {
      "text/html": [
       "<div>\n",
       "<style scoped>\n",
       "    .dataframe tbody tr th:only-of-type {\n",
       "        vertical-align: middle;\n",
       "    }\n",
       "\n",
       "    .dataframe tbody tr th {\n",
       "        vertical-align: top;\n",
       "    }\n",
       "\n",
       "    .dataframe thead th {\n",
       "        text-align: right;\n",
       "    }\n",
       "</style>\n",
       "<table border=\"1\" class=\"dataframe\">\n",
       "  <thead>\n",
       "    <tr style=\"text-align: right;\">\n",
       "      <th></th>\n",
       "      <th>ID</th>\n",
       "      <th>Name</th>\n",
       "      <th>Sex</th>\n",
       "      <th>Math</th>\n",
       "      <th>Statistics</th>\n",
       "      <th>Psychology_test</th>\n",
       "      <th>Statistics_test1</th>\n",
       "      <th>Statistics_test2</th>\n",
       "      <th>Method</th>\n",
       "    </tr>\n",
       "  </thead>\n",
       "  <tbody>\n",
       "    <tr>\n",
       "      <th>0</th>\n",
       "      <td>1</td>\n",
       "      <td>大村</td>\n",
       "      <td>m</td>\n",
       "      <td>dislike</td>\n",
       "      <td>like</td>\n",
       "      <td>13</td>\n",
       "      <td>6</td>\n",
       "      <td>10</td>\n",
       "      <td>C</td>\n",
       "    </tr>\n",
       "    <tr>\n",
       "      <th>1</th>\n",
       "      <td>2</td>\n",
       "      <td>本多</td>\n",
       "      <td>m</td>\n",
       "      <td>dislike</td>\n",
       "      <td>like</td>\n",
       "      <td>14</td>\n",
       "      <td>10</td>\n",
       "      <td>13</td>\n",
       "      <td>B</td>\n",
       "    </tr>\n",
       "    <tr>\n",
       "      <th>2</th>\n",
       "      <td>3</td>\n",
       "      <td>川崎</td>\n",
       "      <td>m</td>\n",
       "      <td>like</td>\n",
       "      <td>like</td>\n",
       "      <td>7</td>\n",
       "      <td>6</td>\n",
       "      <td>8</td>\n",
       "      <td>B</td>\n",
       "    </tr>\n",
       "    <tr>\n",
       "      <th>3</th>\n",
       "      <td>4</td>\n",
       "      <td>多村</td>\n",
       "      <td>m</td>\n",
       "      <td>like</td>\n",
       "      <td>like</td>\n",
       "      <td>12</td>\n",
       "      <td>10</td>\n",
       "      <td>15</td>\n",
       "      <td>A</td>\n",
       "    </tr>\n",
       "    <tr>\n",
       "      <th>4</th>\n",
       "      <td>5</td>\n",
       "      <td>松中</td>\n",
       "      <td>m</td>\n",
       "      <td>dislike</td>\n",
       "      <td>dislike</td>\n",
       "      <td>10</td>\n",
       "      <td>5</td>\n",
       "      <td>8</td>\n",
       "      <td>B</td>\n",
       "    </tr>\n",
       "    <tr>\n",
       "      <th>5</th>\n",
       "      <td>6</td>\n",
       "      <td>小久保</td>\n",
       "      <td>m</td>\n",
       "      <td>dislike</td>\n",
       "      <td>dislike</td>\n",
       "      <td>6</td>\n",
       "      <td>3</td>\n",
       "      <td>6</td>\n",
       "      <td>C</td>\n",
       "    </tr>\n",
       "    <tr>\n",
       "      <th>6</th>\n",
       "      <td>7</td>\n",
       "      <td>柴原</td>\n",
       "      <td>m</td>\n",
       "      <td>dislike</td>\n",
       "      <td>dislike</td>\n",
       "      <td>8</td>\n",
       "      <td>5</td>\n",
       "      <td>9</td>\n",
       "      <td>A</td>\n",
       "    </tr>\n",
       "    <tr>\n",
       "      <th>7</th>\n",
       "      <td>8</td>\n",
       "      <td>井手</td>\n",
       "      <td>m</td>\n",
       "      <td>dislike</td>\n",
       "      <td>dislike</td>\n",
       "      <td>15</td>\n",
       "      <td>9</td>\n",
       "      <td>10</td>\n",
       "      <td>D</td>\n",
       "    </tr>\n",
       "    <tr>\n",
       "      <th>8</th>\n",
       "      <td>9</td>\n",
       "      <td>田上</td>\n",
       "      <td>m</td>\n",
       "      <td>dislike</td>\n",
       "      <td>dislike</td>\n",
       "      <td>4</td>\n",
       "      <td>3</td>\n",
       "      <td>7</td>\n",
       "      <td>D</td>\n",
       "    </tr>\n",
       "    <tr>\n",
       "      <th>9</th>\n",
       "      <td>10</td>\n",
       "      <td>松田</td>\n",
       "      <td>m</td>\n",
       "      <td>like</td>\n",
       "      <td>dislike</td>\n",
       "      <td>14</td>\n",
       "      <td>3</td>\n",
       "      <td>3</td>\n",
       "      <td>D</td>\n",
       "    </tr>\n",
       "    <tr>\n",
       "      <th>10</th>\n",
       "      <td>11</td>\n",
       "      <td>高谷</td>\n",
       "      <td>f</td>\n",
       "      <td>like</td>\n",
       "      <td>like</td>\n",
       "      <td>9</td>\n",
       "      <td>11</td>\n",
       "      <td>18</td>\n",
       "      <td>A</td>\n",
       "    </tr>\n",
       "    <tr>\n",
       "      <th>11</th>\n",
       "      <td>12</td>\n",
       "      <td>杉内</td>\n",
       "      <td>f</td>\n",
       "      <td>dislike</td>\n",
       "      <td>like</td>\n",
       "      <td>6</td>\n",
       "      <td>6</td>\n",
       "      <td>14</td>\n",
       "      <td>A</td>\n",
       "    </tr>\n",
       "    <tr>\n",
       "      <th>12</th>\n",
       "      <td>13</td>\n",
       "      <td>和田</td>\n",
       "      <td>f</td>\n",
       "      <td>like</td>\n",
       "      <td>like</td>\n",
       "      <td>10</td>\n",
       "      <td>11</td>\n",
       "      <td>18</td>\n",
       "      <td>A</td>\n",
       "    </tr>\n",
       "    <tr>\n",
       "      <th>13</th>\n",
       "      <td>14</td>\n",
       "      <td>新垣</td>\n",
       "      <td>f</td>\n",
       "      <td>dislike</td>\n",
       "      <td>dislike</td>\n",
       "      <td>12</td>\n",
       "      <td>9</td>\n",
       "      <td>11</td>\n",
       "      <td>C</td>\n",
       "    </tr>\n",
       "    <tr>\n",
       "      <th>14</th>\n",
       "      <td>15</td>\n",
       "      <td>大隣</td>\n",
       "      <td>f</td>\n",
       "      <td>dislike</td>\n",
       "      <td>like</td>\n",
       "      <td>5</td>\n",
       "      <td>7</td>\n",
       "      <td>12</td>\n",
       "      <td>B</td>\n",
       "    </tr>\n",
       "    <tr>\n",
       "      <th>15</th>\n",
       "      <td>16</td>\n",
       "      <td>水田</td>\n",
       "      <td>f</td>\n",
       "      <td>like</td>\n",
       "      <td>dislike</td>\n",
       "      <td>12</td>\n",
       "      <td>5</td>\n",
       "      <td>5</td>\n",
       "      <td>D</td>\n",
       "    </tr>\n",
       "    <tr>\n",
       "      <th>16</th>\n",
       "      <td>17</td>\n",
       "      <td>斉藤</td>\n",
       "      <td>f</td>\n",
       "      <td>dislike</td>\n",
       "      <td>dislike</td>\n",
       "      <td>8</td>\n",
       "      <td>8</td>\n",
       "      <td>7</td>\n",
       "      <td>C</td>\n",
       "    </tr>\n",
       "    <tr>\n",
       "      <th>17</th>\n",
       "      <td>18</td>\n",
       "      <td>柳瀬</td>\n",
       "      <td>f</td>\n",
       "      <td>dislike</td>\n",
       "      <td>dislike</td>\n",
       "      <td>8</td>\n",
       "      <td>7</td>\n",
       "      <td>12</td>\n",
       "      <td>C</td>\n",
       "    </tr>\n",
       "    <tr>\n",
       "      <th>18</th>\n",
       "      <td>19</td>\n",
       "      <td>佐藤</td>\n",
       "      <td>f</td>\n",
       "      <td>dislike</td>\n",
       "      <td>dislike</td>\n",
       "      <td>12</td>\n",
       "      <td>7</td>\n",
       "      <td>7</td>\n",
       "      <td>B</td>\n",
       "    </tr>\n",
       "    <tr>\n",
       "      <th>19</th>\n",
       "      <td>20</td>\n",
       "      <td>馬原</td>\n",
       "      <td>f</td>\n",
       "      <td>dislike</td>\n",
       "      <td>dislike</td>\n",
       "      <td>15</td>\n",
       "      <td>9</td>\n",
       "      <td>7</td>\n",
       "      <td>D</td>\n",
       "    </tr>\n",
       "  </tbody>\n",
       "</table>\n",
       "</div>"
      ],
      "text/plain": [
       "    ID Name Sex     Math Statistics  Psychology_test  Statistics_test1  \\\n",
       "0    1   大村   m  dislike       like               13                 6   \n",
       "1    2   本多   m  dislike       like               14                10   \n",
       "2    3   川崎   m     like       like                7                 6   \n",
       "3    4   多村   m     like       like               12                10   \n",
       "4    5   松中   m  dislike    dislike               10                 5   \n",
       "5    6  小久保   m  dislike    dislike                6                 3   \n",
       "6    7   柴原   m  dislike    dislike                8                 5   \n",
       "7    8   井手   m  dislike    dislike               15                 9   \n",
       "8    9   田上   m  dislike    dislike                4                 3   \n",
       "9   10   松田   m     like    dislike               14                 3   \n",
       "10  11   高谷   f     like       like                9                11   \n",
       "11  12   杉内   f  dislike       like                6                 6   \n",
       "12  13   和田   f     like       like               10                11   \n",
       "13  14   新垣   f  dislike    dislike               12                 9   \n",
       "14  15   大隣   f  dislike       like                5                 7   \n",
       "15  16   水田   f     like    dislike               12                 5   \n",
       "16  17   斉藤   f  dislike    dislike                8                 8   \n",
       "17  18   柳瀬   f  dislike    dislike                8                 7   \n",
       "18  19   佐藤   f  dislike    dislike               12                 7   \n",
       "19  20   馬原   f  dislike    dislike               15                 9   \n",
       "\n",
       "    Statistics_test2 Method  \n",
       "0                 10      C  \n",
       "1                 13      B  \n",
       "2                  8      B  \n",
       "3                 15      A  \n",
       "4                  8      B  \n",
       "5                  6      C  \n",
       "6                  9      A  \n",
       "7                 10      D  \n",
       "8                  7      D  \n",
       "9                  3      D  \n",
       "10                18      A  \n",
       "11                14      A  \n",
       "12                18      A  \n",
       "13                11      C  \n",
       "14                12      B  \n",
       "15                 5      D  \n",
       "16                 7      C  \n",
       "17                12      C  \n",
       "18                 7      B  \n",
       "19                 7      D  "
      ]
     },
     "execution_count": 2,
     "metadata": {},
     "output_type": "execute_result"
    }
   ],
   "source": [
    "df = pd.read_csv('teaching_method.csv')\n",
    "df"
   ]
  },
  {
   "cell_type": "markdown",
   "metadata": {},
   "source": [
    "## 9.2 第２章の分析"
   ]
  },
  {
   "cell_type": "code",
   "execution_count": 3,
   "metadata": {},
   "outputs": [
    {
     "data": {
      "image/png": "[encoded data removed]",
      "text/plain": [
       "<Figure size 432x288 with 1 Axes>"
      ]
     },
     "metadata": {},
     "output_type": "display_data"
    }
   ],
   "source": [
    "plt.hist(df['Psychology_test'])\n",
    "plt.show()"
   ]
  },
  {
   "cell_type": "code",
   "execution_count": 4,
   "metadata": {},
   "outputs": [
    {
     "data": {
      "text/plain": [
       "10.0"
      ]
     },
     "execution_count": 4,
     "metadata": {},
     "output_type": "execute_result"
    }
   ],
   "source": [
    "df['Psychology_test'].mean()"
   ]
  },
  {
   "cell_type": "code",
   "execution_count": 5,
   "metadata": {},
   "outputs": [
    {
     "data": {
      "text/plain": [
       "11.68421052631579"
      ]
     },
     "execution_count": 5,
     "metadata": {},
     "output_type": "execute_result"
    }
   ],
   "source": [
    "df['Psychology_test'].var()"
   ]
  },
  {
   "cell_type": "code",
   "execution_count": 6,
   "metadata": {},
   "outputs": [
    {
     "data": {
      "text/plain": [
       "3.418217448658846"
      ]
     },
     "execution_count": 6,
     "metadata": {},
     "output_type": "execute_result"
    }
   ],
   "source": [
    "df['Psychology_test'].std()"
   ]
  },
  {
   "cell_type": "code",
   "execution_count": 7,
   "metadata": {},
   "outputs": [
    {
     "data": {
      "text/plain": [
       "array([ 0.87765043,  1.17020057, -0.87765043,  0.58510028,  0.        ,\n",
       "       -1.17020057, -0.58510028,  1.46275071, -1.75530085,  1.17020057,\n",
       "       -0.29255014, -1.17020057,  0.        ,  0.58510028, -1.46275071,\n",
       "        0.58510028, -0.58510028, -0.58510028,  0.58510028,  1.46275071])"
      ]
     },
     "execution_count": 7,
     "metadata": {},
     "output_type": "execute_result"
    }
   ],
   "source": [
    "# zscoreはscipy.stats.zscoreを用いる\n",
    "# ddof=0(default)で標本分散、ddof=1で不偏分散を用いて計算\n",
    "psy_zscore = stats.zscore(df['Psychology_test'], ddof=1)\n",
    "psy_zscore"
   ]
  },
  {
   "cell_type": "code",
   "execution_count": 8,
   "metadata": {},
   "outputs": [
    {
     "data": {
      "text/plain": [
       "array([58.77650426, 61.70200568, 41.22349574, 55.85100284, 50.        ,\n",
       "       38.29799432, 44.14899716, 64.6275071 , 32.44699148, 61.70200568,\n",
       "       47.07449858, 38.29799432, 50.        , 55.85100284, 35.3724929 ,\n",
       "       55.85100284, 44.14899716, 44.14899716, 55.85100284, 64.6275071 ])"
      ]
     },
     "execution_count": 8,
     "metadata": {},
     "output_type": "execute_result"
    }
   ],
   "source": [
    "deviation_value = 10*psy_zscore+50\n",
    "deviation_value"
   ]
  },
  {
   "cell_type": "markdown",
   "metadata": {},
   "source": [
    "## 9.3 第３章の分析"
   ]
  },
  {
   "cell_type": "code",
   "execution_count": 9,
   "metadata": {},
   "outputs": [
    {
     "data": {
      "image/png": "[encoded data removed]",
      "text/plain": [
       "<Figure size 432x288 with 1 Axes>"
      ]
     },
     "metadata": {},
     "output_type": "display_data"
    }
   ],
   "source": [
    "plt.scatter(df['Statistics_test1'], df['Statistics_test2'])\n",
    "plt.show()"
   ]
  },
  {
   "cell_type": "code",
   "execution_count": 10,
   "metadata": {},
   "outputs": [
    {
     "data": {
      "text/html": [
       "<div>\n",
       "<style scoped>\n",
       "    .dataframe tbody tr th:only-of-type {\n",
       "        vertical-align: middle;\n",
       "    }\n",
       "\n",
       "    .dataframe tbody tr th {\n",
       "        vertical-align: top;\n",
       "    }\n",
       "\n",
       "    .dataframe thead th {\n",
       "        text-align: right;\n",
       "    }\n",
       "</style>\n",
       "<table border=\"1\" class=\"dataframe\">\n",
       "  <thead>\n",
       "    <tr style=\"text-align: right;\">\n",
       "      <th></th>\n",
       "      <th>ID</th>\n",
       "      <th>Psychology_test</th>\n",
       "      <th>Statistics_test1</th>\n",
       "      <th>Statistics_test2</th>\n",
       "    </tr>\n",
       "  </thead>\n",
       "  <tbody>\n",
       "    <tr>\n",
       "      <th>ID</th>\n",
       "      <td>35.000000</td>\n",
       "      <td>-0.421053</td>\n",
       "      <td>2.263158</td>\n",
       "      <td>-2.421053</td>\n",
       "    </tr>\n",
       "    <tr>\n",
       "      <th>Psychology_test</th>\n",
       "      <td>-0.421053</td>\n",
       "      <td>11.684211</td>\n",
       "      <td>3.368421</td>\n",
       "      <td>-1.315789</td>\n",
       "    </tr>\n",
       "    <tr>\n",
       "      <th>Statistics_test1</th>\n",
       "      <td>2.263158</td>\n",
       "      <td>3.368421</td>\n",
       "      <td>6.631579</td>\n",
       "      <td>7.947368</td>\n",
       "    </tr>\n",
       "    <tr>\n",
       "      <th>Statistics_test2</th>\n",
       "      <td>-2.421053</td>\n",
       "      <td>-1.315789</td>\n",
       "      <td>7.947368</td>\n",
       "      <td>16.947368</td>\n",
       "    </tr>\n",
       "  </tbody>\n",
       "</table>\n",
       "</div>"
      ],
      "text/plain": [
       "                         ID  Psychology_test  Statistics_test1  \\\n",
       "ID                35.000000        -0.421053          2.263158   \n",
       "Psychology_test   -0.421053        11.684211          3.368421   \n",
       "Statistics_test1   2.263158         3.368421          6.631579   \n",
       "Statistics_test2  -2.421053        -1.315789          7.947368   \n",
       "\n",
       "                  Statistics_test2  \n",
       "ID                       -2.421053  \n",
       "Psychology_test          -1.315789  \n",
       "Statistics_test1          7.947368  \n",
       "Statistics_test2         16.947368  "
      ]
     },
     "execution_count": 10,
     "metadata": {},
     "output_type": "execute_result"
    }
   ],
   "source": [
    "# pandas\n",
    "df.cov()"
   ]
  },
  {
   "cell_type": "code",
   "execution_count": 11,
   "metadata": {},
   "outputs": [
    {
     "data": {
      "text/plain": [
       "7.947368421052631"
      ]
     },
     "execution_count": 11,
     "metadata": {},
     "output_type": "execute_result"
    }
   ],
   "source": [
    "# numpy\n",
    "np.cov(df['Statistics_test1'], df['Statistics_test2'])[0][1]"
   ]
  },
  {
   "cell_type": "code",
   "execution_count": 12,
   "metadata": {},
   "outputs": [
    {
     "data": {
      "text/html": [
       "<div>\n",
       "<style scoped>\n",
       "    .dataframe tbody tr th:only-of-type {\n",
       "        vertical-align: middle;\n",
       "    }\n",
       "\n",
       "    .dataframe tbody tr th {\n",
       "        vertical-align: top;\n",
       "    }\n",
       "\n",
       "    .dataframe thead th {\n",
       "        text-align: right;\n",
       "    }\n",
       "</style>\n",
       "<table border=\"1\" class=\"dataframe\">\n",
       "  <thead>\n",
       "    <tr style=\"text-align: right;\">\n",
       "      <th></th>\n",
       "      <th>ID</th>\n",
       "      <th>Psychology_test</th>\n",
       "      <th>Statistics_test1</th>\n",
       "      <th>Statistics_test2</th>\n",
       "    </tr>\n",
       "  </thead>\n",
       "  <tbody>\n",
       "    <tr>\n",
       "      <th>ID</th>\n",
       "      <td>1.000000</td>\n",
       "      <td>-0.020821</td>\n",
       "      <td>0.148550</td>\n",
       "      <td>-0.099407</td>\n",
       "    </tr>\n",
       "    <tr>\n",
       "      <th>Psychology_test</th>\n",
       "      <td>-0.020821</td>\n",
       "      <td>1.000000</td>\n",
       "      <td>0.382665</td>\n",
       "      <td>-0.093505</td>\n",
       "    </tr>\n",
       "    <tr>\n",
       "      <th>Statistics_test1</th>\n",
       "      <td>0.148550</td>\n",
       "      <td>0.382665</td>\n",
       "      <td>1.000000</td>\n",
       "      <td>0.749659</td>\n",
       "    </tr>\n",
       "    <tr>\n",
       "      <th>Statistics_test2</th>\n",
       "      <td>-0.099407</td>\n",
       "      <td>-0.093505</td>\n",
       "      <td>0.749659</td>\n",
       "      <td>1.000000</td>\n",
       "    </tr>\n",
       "  </tbody>\n",
       "</table>\n",
       "</div>"
      ],
      "text/plain": [
       "                        ID  Psychology_test  Statistics_test1  \\\n",
       "ID                1.000000        -0.020821          0.148550   \n",
       "Psychology_test  -0.020821         1.000000          0.382665   \n",
       "Statistics_test1  0.148550         0.382665          1.000000   \n",
       "Statistics_test2 -0.099407        -0.093505          0.749659   \n",
       "\n",
       "                  Statistics_test2  \n",
       "ID                       -0.099407  \n",
       "Psychology_test          -0.093505  \n",
       "Statistics_test1          0.749659  \n",
       "Statistics_test2          1.000000  "
      ]
     },
     "execution_count": 12,
     "metadata": {},
     "output_type": "execute_result"
    }
   ],
   "source": [
    "# pandas\n",
    "df.corr()"
   ]
  },
  {
   "cell_type": "code",
   "execution_count": 13,
   "metadata": {},
   "outputs": [
    {
     "data": {
      "text/plain": [
       "0.7496589648242451"
      ]
     },
     "execution_count": 13,
     "metadata": {},
     "output_type": "execute_result"
    }
   ],
   "source": [
    "# numpy\n",
    "np.corrcoef(df['Statistics_test1'], df['Statistics_test2'])[0][1]"
   ]
  },
  {
   "cell_type": "code",
   "execution_count": 14,
   "metadata": {},
   "outputs": [
    {
     "data": {
      "text/html": [
       "<div>\n",
       "<style scoped>\n",
       "    .dataframe tbody tr th:only-of-type {\n",
       "        vertical-align: middle;\n",
       "    }\n",
       "\n",
       "    .dataframe tbody tr th {\n",
       "        vertical-align: top;\n",
       "    }\n",
       "\n",
       "    .dataframe thead th {\n",
       "        text-align: right;\n",
       "    }\n",
       "</style>\n",
       "<table border=\"1\" class=\"dataframe\">\n",
       "  <thead>\n",
       "    <tr style=\"text-align: right;\">\n",
       "      <th>Statistics</th>\n",
       "      <th>dislike</th>\n",
       "      <th>like</th>\n",
       "    </tr>\n",
       "    <tr>\n",
       "      <th>Math</th>\n",
       "      <th></th>\n",
       "      <th></th>\n",
       "    </tr>\n",
       "  </thead>\n",
       "  <tbody>\n",
       "    <tr>\n",
       "      <th>dislike</th>\n",
       "      <td>10</td>\n",
       "      <td>4</td>\n",
       "    </tr>\n",
       "    <tr>\n",
       "      <th>like</th>\n",
       "      <td>2</td>\n",
       "      <td>4</td>\n",
       "    </tr>\n",
       "  </tbody>\n",
       "</table>\n",
       "</div>"
      ],
      "text/plain": [
       "Statistics  dislike  like\n",
       "Math                     \n",
       "dislike          10     4\n",
       "like              2     4"
      ]
     },
     "execution_count": 14,
     "metadata": {},
     "output_type": "execute_result"
    }
   ],
   "source": [
    "pd.crosstab(index=[df['Math']],columns=df['Statistics']) "
   ]
  },
  {
   "cell_type": "code",
   "execution_count": 15,
   "metadata": {},
   "outputs": [
    {
     "data": {
      "text/plain": [
       "0.35634832254989923"
      ]
     },
     "execution_count": 15,
     "metadata": {},
     "output_type": "execute_result"
    }
   ],
   "source": [
    "np.corrcoef( (df['Math']=='like').astype(np.int), (df['Statistics']=='like').astype(np.int) )[0][1]"
   ]
  },
  {
   "cell_type": "markdown",
   "metadata": {},
   "source": [
    "## 9.4 第5章の分析"
   ]
  },
  {
   "cell_type": "code",
   "execution_count": 16,
   "metadata": {},
   "outputs": [
    {
     "data": {
      "text/plain": [
       "Ttest_indResult(statistic=-2.616648017377738, pvalue=0.01697092026956344)"
      ]
     },
     "execution_count": 16,
     "metadata": {},
     "output_type": "execute_result"
    }
   ],
   "source": [
    "# t検定\n",
    "stats.ttest_ind(df['Psychology_test'], np.array([12]*20), equal_var=False)"
   ]
  },
  {
   "cell_type": "code",
   "execution_count": 17,
   "metadata": {},
   "outputs": [
    {
     "data": {
      "text/plain": [
       "(0.749658964824245, 0.00014162288155448205)"
      ]
     },
     "execution_count": 17,
     "metadata": {},
     "output_type": "execute_result"
    }
   ],
   "source": [
    "# 無相関検定\n",
    "stats.pearsonr(df['Statistics_test1'], df['Statistics_test2'])"
   ]
  },
  {
   "cell_type": "code",
   "execution_count": 18,
   "metadata": {},
   "outputs": [
    {
     "name": "stdout",
     "output_type": "stream",
     "text": [
      "p値 　　　= 0.111\n",
      "カイ2乗値 = 2.54\n",
      "自由度　  = 1\n",
      "期待度数: \n",
      "[[8.4 5.6]\n",
      " [3.6 2.4]]\n"
     ]
    }
   ],
   "source": [
    "# 独立性の検定\n",
    "cross_df = pd.crosstab(index=[df['Math']],columns=df['Statistics']) \n",
    "x2, p, dof, e = stats.chi2_contingency(cross_df,correction=False)# correction=Falseは「イェーツの補正（イェーツの連続修正）」を適用しないということ\n",
    "print(f'p値 　　　= {p :.3f}')\n",
    "print(f'カイ2乗値 = {x2:.2f}')\n",
    "print(f'自由度　  = {dof}')\n",
    "print(f'期待度数: \\n{e}')"
   ]
  },
  {
   "cell_type": "markdown",
   "metadata": {},
   "source": [
    "## 9.5 第6章の分析"
   ]
  },
  {
   "cell_type": "code",
   "execution_count": 19,
   "metadata": {},
   "outputs": [
    {
     "data": {
      "text/plain": [
       "Ttest_indResult(statistic=-1.8428853505018534, pvalue=0.08187801462410679)"
      ]
     },
     "execution_count": 19,
     "metadata": {},
     "output_type": "execute_result"
    }
   ],
   "source": [
    "# 独立な2群のt検定\n",
    "stats.ttest_ind(df[df['Sex']=='m']['Statistics_test1'], df[df['Sex']=='f']['Statistics_test1'], equal_var=True)"
   ]
  },
  {
   "cell_type": "code",
   "execution_count": 20,
   "metadata": {},
   "outputs": [
    {
     "data": {
      "text/plain": [
       "Ttest_relResult(statistic=-4.8399026368560945, pvalue=0.00011378795008861286)"
      ]
     },
     "execution_count": 20,
     "metadata": {},
     "output_type": "execute_result"
    }
   ],
   "source": [
    "# 対応のあるt検定\n",
    "stats.ttest_rel(df['Statistics_test1'], df['Statistics_test2'])"
   ]
  },
  {
   "cell_type": "markdown",
   "metadata": {},
   "source": [
    "## 9.6 第７章の分析"
   ]
  },
  {
   "cell_type": "code",
   "execution_count": 21,
   "metadata": {},
   "outputs": [
    {
     "data": {
      "text/plain": [
       "BartlettResult(statistic=24.417074155815378, pvalue=7.757808289424357e-07)"
      ]
     },
     "execution_count": 21,
     "metadata": {},
     "output_type": "execute_result"
    }
   ],
   "source": [
    "# 分散の等質性の検定\n",
    "from sklearn.preprocessing import LabelEncoder\n",
    "#LabelEncoderのインスタンスを生成\n",
    "le = LabelEncoder()\n",
    "le.fit(df['Method'])\n",
    "\n",
    "stats.bartlett(df['Statistics_test2'], le.transform(df['Method']))"
   ]
  },
  {
   "cell_type": "code",
   "execution_count": 22,
   "metadata": {},
   "outputs": [
    {
     "name": "stdout",
     "output_type": "stream",
     "text": [
      "try({df})\n",
      "   ID   Name Sex    Math Statistics Psychology_test Statistics_test1\n",
      "1   1   大村   m dislike       like              13                6\n",
      "2   2   本多   m dislike       like              14               10\n",
      "3   3   川崎   m    like       like               7                6\n",
      "4   4   多村   m    like       like              12               10\n",
      "5   5   松中   m dislike    dislike              10                5\n",
      "6   6 小久保   m dislike    dislike               6                3\n",
      "7   7   柴原   m dislike    dislike               8                5\n",
      "8   8   井手   m dislike    dislike              15                9\n",
      "9   9   田上   m dislike    dislike               4                3\n",
      "10 10   松田   m    like    dislike              14                3\n",
      "11 11   高谷   f    like       like               9               11\n",
      "12 12   杉内   f dislike       like               6                6\n",
      "13 13   和田   f    like       like              10               11\n",
      "14 14   新垣   f dislike    dislike              12                9\n",
      "15 15   大隣   f dislike       like               5                7\n",
      "16 16   水田   f    like    dislike              12                5\n",
      "17 17   斉藤   f dislike    dislike               8                8\n",
      "18 18   柳瀬   f dislike    dislike               8                7\n",
      "19 19   佐藤   f dislike    dislike              12                7\n",
      "20 20   馬原   f dislike    dislike              15                9\n",
      "   Statistics_test2 Method\n",
      "1                10      C\n",
      "2                13      B\n",
      "3                 8      B\n",
      "4                15      A\n",
      "5                 8      B\n",
      "6                 6      C\n",
      "7                 9      A\n",
      "8                10      D\n",
      "9                 7      D\n",
      "10                3      D\n",
      "11               18      A\n",
      "12               14      A\n",
      "13               18      A\n",
      "14               11      C\n",
      "15               12      B\n",
      "16                5      D\n",
      "17                7      C\n",
      "18               12      C\n",
      "19                7      B\n",
      "20                7      D\n",
      "\n"
     ]
    }
   ],
   "source": [
    "r = pyper.R()\n",
    "r('df <- read.csv(\"teaching_method.csv\")')\n",
    "print(r('df'))"
   ]
  },
  {
   "cell_type": "code",
   "execution_count": 23,
   "metadata": {},
   "outputs": [
    {
     "name": "stdout",
     "output_type": "stream",
     "text": [
      "try({bartlett.test(df$Statistics_test2, df$Method)})\n",
      "\n",
      "\tBartlett test of homogeneity of variances\n",
      "\n",
      "data:  df$Statistics_test2 and df$Method\n",
      "Bartlett's K-squared = 0.70409, df = 3, p-value = 0.8722\n",
      "\n",
      "\n"
     ]
    }
   ],
   "source": [
    "print(r('bartlett.test(df$Statistics_test2, df$Method)'))"
   ]
  },
  {
   "cell_type": "code",
   "execution_count": 24,
   "metadata": {},
   "outputs": [
    {
     "name": "stdout",
     "output_type": "stream",
     "text": [
      "try({oneway.test(df$Statistics_test2~df$Method, var.equal=TRUE)})\n",
      "\n",
      "\tOne-way analysis of means\n",
      "\n",
      "data:  df$Statistics_test2 and df$Method\n",
      "F = 7.1111, num df = 3, denom df = 16, p-value = 0.002988\n",
      "\n",
      "\n"
     ]
    }
   ],
   "source": [
    "# 一元分散分析（対応なし）\n",
    "print(r('oneway.test(df$Statistics_test2~df$Method, var.equal=TRUE)'))"
   ]
  },
  {
   "cell_type": "code",
   "execution_count": 25,
   "metadata": {},
   "outputs": [
    {
     "name": "stdout",
     "output_type": "stream",
     "text": [
      "try({TukeyHSD(aov(df$Statistics_test2~df$Method))})\n",
      "  Tukey multiple comparisons of means\n",
      "    95% family-wise confidence level\n",
      "\n",
      "Fit: aov(formula = df$Statistics_test2 ~ df$Method)\n",
      "\n",
      "$`df$Method`\n",
      "    diff        lwr        upr     p adj\n",
      "B-A -5.2 -10.514108  0.1141085 0.0562227\n",
      "C-A -5.6 -10.914108 -0.2858915 0.0371222\n",
      "D-A -8.4 -13.714108 -3.0858915 0.0017736\n",
      "C-B -0.4  -5.714108  4.9141085 0.9963241\n",
      "D-B -3.2  -8.514108  2.1141085 0.3446966\n",
      "D-C -2.8  -8.114108  2.5141085 0.4561325\n",
      "\n",
      "\n"
     ]
    }
   ],
   "source": [
    "# Tukeyの方法による多重比較\n",
    "print(r('TukeyHSD(aov(df$Statistics_test2~df$Method))'))"
   ]
  },
  {
   "cell_type": "markdown",
   "metadata": {},
   "source": [
    "## 9.7 データフレームについて"
   ]
  },
  {
   "cell_type": "code",
   "execution_count": 29,
   "metadata": {},
   "outputs": [
    {
     "data": {
      "text/html": [
       "<div>\n",
       "<style scoped>\n",
       "    .dataframe tbody tr th:only-of-type {\n",
       "        vertical-align: middle;\n",
       "    }\n",
       "\n",
       "    .dataframe tbody tr th {\n",
       "        vertical-align: top;\n",
       "    }\n",
       "\n",
       "    .dataframe thead th {\n",
       "        text-align: right;\n",
       "    }\n",
       "</style>\n",
       "<table border=\"1\" class=\"dataframe\">\n",
       "  <thead>\n",
       "    <tr style=\"text-align: right;\">\n",
       "      <th></th>\n",
       "      <th>name</th>\n",
       "      <th>blood type</th>\n",
       "      <th>height</th>\n",
       "      <th>weight</th>\n",
       "      <th>age</th>\n",
       "    </tr>\n",
       "  </thead>\n",
       "  <tbody>\n",
       "    <tr>\n",
       "      <th>0</th>\n",
       "      <td>Toritani</td>\n",
       "      <td>B</td>\n",
       "      <td>179</td>\n",
       "      <td>82</td>\n",
       "      <td>26</td>\n",
       "    </tr>\n",
       "    <tr>\n",
       "      <th>1</th>\n",
       "      <td>Akahoshi</td>\n",
       "      <td>A</td>\n",
       "      <td>170</td>\n",
       "      <td>67</td>\n",
       "      <td>31</td>\n",
       "    </tr>\n",
       "    <tr>\n",
       "      <th>2</th>\n",
       "      <td>Sheets</td>\n",
       "      <td>A</td>\n",
       "      <td>188</td>\n",
       "      <td>89</td>\n",
       "      <td>36</td>\n",
       "    </tr>\n",
       "    <tr>\n",
       "      <th>3</th>\n",
       "      <td>Kanemoto</td>\n",
       "      <td>O</td>\n",
       "      <td>180</td>\n",
       "      <td>88</td>\n",
       "      <td>39</td>\n",
       "    </tr>\n",
       "    <tr>\n",
       "      <th>4</th>\n",
       "      <td>Wiliams</td>\n",
       "      <td>NaN</td>\n",
       "      <td>183</td>\n",
       "      <td>89</td>\n",
       "      <td>35</td>\n",
       "    </tr>\n",
       "    <tr>\n",
       "      <th>5</th>\n",
       "      <td>Kubota</td>\n",
       "      <td>AB</td>\n",
       "      <td>181</td>\n",
       "      <td>94</td>\n",
       "      <td>26</td>\n",
       "    </tr>\n",
       "    <tr>\n",
       "      <th>6</th>\n",
       "      <td>Hujikawa</td>\n",
       "      <td>A</td>\n",
       "      <td>184</td>\n",
       "      <td>93</td>\n",
       "      <td>27</td>\n",
       "    </tr>\n",
       "  </tbody>\n",
       "</table>\n",
       "</div>"
      ],
      "text/plain": [
       "       name blood type  height  weight  age\n",
       "0  Toritani          B     179      82   26\n",
       "1  Akahoshi          A     170      67   31\n",
       "2    Sheets          A     188      89   36\n",
       "3  Kanemoto          O     180      88   39\n",
       "4   Wiliams        NaN     183      89   35\n",
       "5    Kubota         AB     181      94   26\n",
       "6  Hujikawa          A     184      93   27"
      ]
     },
     "execution_count": 29,
     "metadata": {},
     "output_type": "execute_result"
    }
   ],
   "source": [
    "hanshin = pd.DataFrame({'name':['Toritani', 'Akahoshi', 'Sheets', 'Kanemoto', 'Wiliams', 'Kubota', 'Hujikawa'],\n",
    "                       'blood type':['B', 'A', 'A', 'O', np.nan,'AB', 'A'],\n",
    "                       'height':[179,170,188,180,183,181,184],\n",
    "                       'weight':[82,67,89,88,89,94,93],\n",
    "                       'age':[26,31,36,39,35,26,27]})\n",
    "hanshin"
   ]
  },
  {
   "cell_type": "code",
   "execution_count": null,
   "metadata": {},
   "outputs": [],
   "source": []
  }
 ],
 "metadata": {
  "kernelspec": {
   "display_name": "Python 3",
   "language": "python",
   "name": "python3"
  },
  "language_info": {
   "codemirror_mode": {
    "name": "ipython",
    "version": 3
   },
   "file_extension": ".py",
   "mimetype": "text/x-python",
   "name": "python",
   "nbconvert_exporter": "python",
   "pygments_lexer": "ipython3",
   "version": "3.7.6"
  }
 },
 "nbformat": 4,
 "nbformat_minor": 4
}
