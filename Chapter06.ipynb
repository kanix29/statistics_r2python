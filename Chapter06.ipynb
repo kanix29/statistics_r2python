{
 "cells": [
  {
   "cell_type": "code",
   "execution_count": 1,
   "metadata": {},
   "outputs": [],
   "source": [
    "import numpy as np\n",
    "import pandas as pd\n",
    "import matplotlib.pyplot as plt\n",
    "import seaborn as sns\n",
    "import scipy as sp\n",
    "from scipy import stats\n",
    "%matplotlib inline\n",
    "from itertools import cycle\n",
    "\n",
    "sns.set(style='ticks')\n",
    "color_pal = plt.rcParams['axes.prop_cycle'].by_key()['color']\n",
    "color_cycle = cycle(plt.rcParams['axes.prop_cycle'].by_key()['color'])"
   ]
  },
  {
   "cell_type": "code",
   "execution_count": 2,
   "metadata": {},
   "outputs": [
    {
     "data": {
      "text/html": [
       "<div>\n",
       "<style scoped>\n",
       "    .dataframe tbody tr th:only-of-type {\n",
       "        vertical-align: middle;\n",
       "    }\n",
       "\n",
       "    .dataframe tbody tr th {\n",
       "        vertical-align: top;\n",
       "    }\n",
       "\n",
       "    .dataframe thead th {\n",
       "        text-align: right;\n",
       "    }\n",
       "</style>\n",
       "<table border=\"1\" class=\"dataframe\">\n",
       "  <thead>\n",
       "    <tr style=\"text-align: right;\">\n",
       "      <th></th>\n",
       "      <th>ID</th>\n",
       "      <th>Name</th>\n",
       "      <th>Sex</th>\n",
       "      <th>Math</th>\n",
       "      <th>Statistics</th>\n",
       "      <th>Psychology_test</th>\n",
       "      <th>Statistics_test1</th>\n",
       "      <th>Statistics_test2</th>\n",
       "      <th>Method</th>\n",
       "    </tr>\n",
       "  </thead>\n",
       "  <tbody>\n",
       "    <tr>\n",
       "      <th>0</th>\n",
       "      <td>1</td>\n",
       "      <td>大村</td>\n",
       "      <td>m</td>\n",
       "      <td>dislike</td>\n",
       "      <td>like</td>\n",
       "      <td>13</td>\n",
       "      <td>6</td>\n",
       "      <td>10</td>\n",
       "      <td>C</td>\n",
       "    </tr>\n",
       "    <tr>\n",
       "      <th>1</th>\n",
       "      <td>2</td>\n",
       "      <td>本多</td>\n",
       "      <td>m</td>\n",
       "      <td>dislike</td>\n",
       "      <td>like</td>\n",
       "      <td>14</td>\n",
       "      <td>10</td>\n",
       "      <td>13</td>\n",
       "      <td>B</td>\n",
       "    </tr>\n",
       "    <tr>\n",
       "      <th>2</th>\n",
       "      <td>3</td>\n",
       "      <td>川崎</td>\n",
       "      <td>m</td>\n",
       "      <td>like</td>\n",
       "      <td>like</td>\n",
       "      <td>7</td>\n",
       "      <td>6</td>\n",
       "      <td>8</td>\n",
       "      <td>B</td>\n",
       "    </tr>\n",
       "    <tr>\n",
       "      <th>3</th>\n",
       "      <td>4</td>\n",
       "      <td>多村</td>\n",
       "      <td>m</td>\n",
       "      <td>like</td>\n",
       "      <td>like</td>\n",
       "      <td>12</td>\n",
       "      <td>10</td>\n",
       "      <td>15</td>\n",
       "      <td>A</td>\n",
       "    </tr>\n",
       "    <tr>\n",
       "      <th>4</th>\n",
       "      <td>5</td>\n",
       "      <td>松中</td>\n",
       "      <td>m</td>\n",
       "      <td>dislike</td>\n",
       "      <td>dislike</td>\n",
       "      <td>10</td>\n",
       "      <td>5</td>\n",
       "      <td>8</td>\n",
       "      <td>B</td>\n",
       "    </tr>\n",
       "    <tr>\n",
       "      <th>5</th>\n",
       "      <td>6</td>\n",
       "      <td>小久保</td>\n",
       "      <td>m</td>\n",
       "      <td>dislike</td>\n",
       "      <td>dislike</td>\n",
       "      <td>6</td>\n",
       "      <td>3</td>\n",
       "      <td>6</td>\n",
       "      <td>C</td>\n",
       "    </tr>\n",
       "    <tr>\n",
       "      <th>6</th>\n",
       "      <td>7</td>\n",
       "      <td>柴原</td>\n",
       "      <td>m</td>\n",
       "      <td>dislike</td>\n",
       "      <td>dislike</td>\n",
       "      <td>8</td>\n",
       "      <td>5</td>\n",
       "      <td>9</td>\n",
       "      <td>A</td>\n",
       "    </tr>\n",
       "    <tr>\n",
       "      <th>7</th>\n",
       "      <td>8</td>\n",
       "      <td>井手</td>\n",
       "      <td>m</td>\n",
       "      <td>dislike</td>\n",
       "      <td>dislike</td>\n",
       "      <td>15</td>\n",
       "      <td>9</td>\n",
       "      <td>10</td>\n",
       "      <td>D</td>\n",
       "    </tr>\n",
       "    <tr>\n",
       "      <th>8</th>\n",
       "      <td>9</td>\n",
       "      <td>田上</td>\n",
       "      <td>m</td>\n",
       "      <td>dislike</td>\n",
       "      <td>dislike</td>\n",
       "      <td>4</td>\n",
       "      <td>3</td>\n",
       "      <td>7</td>\n",
       "      <td>D</td>\n",
       "    </tr>\n",
       "    <tr>\n",
       "      <th>9</th>\n",
       "      <td>10</td>\n",
       "      <td>松田</td>\n",
       "      <td>m</td>\n",
       "      <td>like</td>\n",
       "      <td>dislike</td>\n",
       "      <td>14</td>\n",
       "      <td>3</td>\n",
       "      <td>3</td>\n",
       "      <td>D</td>\n",
       "    </tr>\n",
       "    <tr>\n",
       "      <th>10</th>\n",
       "      <td>11</td>\n",
       "      <td>高谷</td>\n",
       "      <td>f</td>\n",
       "      <td>like</td>\n",
       "      <td>like</td>\n",
       "      <td>9</td>\n",
       "      <td>11</td>\n",
       "      <td>18</td>\n",
       "      <td>A</td>\n",
       "    </tr>\n",
       "    <tr>\n",
       "      <th>11</th>\n",
       "      <td>12</td>\n",
       "      <td>杉内</td>\n",
       "      <td>f</td>\n",
       "      <td>dislike</td>\n",
       "      <td>like</td>\n",
       "      <td>6</td>\n",
       "      <td>6</td>\n",
       "      <td>14</td>\n",
       "      <td>A</td>\n",
       "    </tr>\n",
       "    <tr>\n",
       "      <th>12</th>\n",
       "      <td>13</td>\n",
       "      <td>和田</td>\n",
       "      <td>f</td>\n",
       "      <td>like</td>\n",
       "      <td>like</td>\n",
       "      <td>10</td>\n",
       "      <td>11</td>\n",
       "      <td>18</td>\n",
       "      <td>A</td>\n",
       "    </tr>\n",
       "    <tr>\n",
       "      <th>13</th>\n",
       "      <td>14</td>\n",
       "      <td>新垣</td>\n",
       "      <td>f</td>\n",
       "      <td>dislike</td>\n",
       "      <td>dislike</td>\n",
       "      <td>12</td>\n",
       "      <td>9</td>\n",
       "      <td>11</td>\n",
       "      <td>C</td>\n",
       "    </tr>\n",
       "    <tr>\n",
       "      <th>14</th>\n",
       "      <td>15</td>\n",
       "      <td>大隣</td>\n",
       "      <td>f</td>\n",
       "      <td>dislike</td>\n",
       "      <td>like</td>\n",
       "      <td>5</td>\n",
       "      <td>7</td>\n",
       "      <td>12</td>\n",
       "      <td>B</td>\n",
       "    </tr>\n",
       "    <tr>\n",
       "      <th>15</th>\n",
       "      <td>16</td>\n",
       "      <td>水田</td>\n",
       "      <td>f</td>\n",
       "      <td>like</td>\n",
       "      <td>dislike</td>\n",
       "      <td>12</td>\n",
       "      <td>5</td>\n",
       "      <td>5</td>\n",
       "      <td>D</td>\n",
       "    </tr>\n",
       "    <tr>\n",
       "      <th>16</th>\n",
       "      <td>17</td>\n",
       "      <td>斉藤</td>\n",
       "      <td>f</td>\n",
       "      <td>dislike</td>\n",
       "      <td>dislike</td>\n",
       "      <td>8</td>\n",
       "      <td>8</td>\n",
       "      <td>7</td>\n",
       "      <td>C</td>\n",
       "    </tr>\n",
       "    <tr>\n",
       "      <th>17</th>\n",
       "      <td>18</td>\n",
       "      <td>柳瀬</td>\n",
       "      <td>f</td>\n",
       "      <td>dislike</td>\n",
       "      <td>dislike</td>\n",
       "      <td>8</td>\n",
       "      <td>7</td>\n",
       "      <td>12</td>\n",
       "      <td>C</td>\n",
       "    </tr>\n",
       "    <tr>\n",
       "      <th>18</th>\n",
       "      <td>19</td>\n",
       "      <td>佐藤</td>\n",
       "      <td>f</td>\n",
       "      <td>dislike</td>\n",
       "      <td>dislike</td>\n",
       "      <td>12</td>\n",
       "      <td>7</td>\n",
       "      <td>7</td>\n",
       "      <td>B</td>\n",
       "    </tr>\n",
       "    <tr>\n",
       "      <th>19</th>\n",
       "      <td>20</td>\n",
       "      <td>馬原</td>\n",
       "      <td>f</td>\n",
       "      <td>dislike</td>\n",
       "      <td>dislike</td>\n",
       "      <td>15</td>\n",
       "      <td>9</td>\n",
       "      <td>7</td>\n",
       "      <td>D</td>\n",
       "    </tr>\n",
       "  </tbody>\n",
       "</table>\n",
       "</div>"
      ],
      "text/plain": [
       "    ID Name Sex     Math Statistics  Psychology_test  Statistics_test1  \\\n",
       "0    1   大村   m  dislike       like               13                 6   \n",
       "1    2   本多   m  dislike       like               14                10   \n",
       "2    3   川崎   m     like       like                7                 6   \n",
       "3    4   多村   m     like       like               12                10   \n",
       "4    5   松中   m  dislike    dislike               10                 5   \n",
       "5    6  小久保   m  dislike    dislike                6                 3   \n",
       "6    7   柴原   m  dislike    dislike                8                 5   \n",
       "7    8   井手   m  dislike    dislike               15                 9   \n",
       "8    9   田上   m  dislike    dislike                4                 3   \n",
       "9   10   松田   m     like    dislike               14                 3   \n",
       "10  11   高谷   f     like       like                9                11   \n",
       "11  12   杉内   f  dislike       like                6                 6   \n",
       "12  13   和田   f     like       like               10                11   \n",
       "13  14   新垣   f  dislike    dislike               12                 9   \n",
       "14  15   大隣   f  dislike       like                5                 7   \n",
       "15  16   水田   f     like    dislike               12                 5   \n",
       "16  17   斉藤   f  dislike    dislike                8                 8   \n",
       "17  18   柳瀬   f  dislike    dislike                8                 7   \n",
       "18  19   佐藤   f  dislike    dislike               12                 7   \n",
       "19  20   馬原   f  dislike    dislike               15                 9   \n",
       "\n",
       "    Statistics_test2 Method  \n",
       "0                 10      C  \n",
       "1                 13      B  \n",
       "2                  8      B  \n",
       "3                 15      A  \n",
       "4                  8      B  \n",
       "5                  6      C  \n",
       "6                  9      A  \n",
       "7                 10      D  \n",
       "8                  7      D  \n",
       "9                  3      D  \n",
       "10                18      A  \n",
       "11                14      A  \n",
       "12                18      A  \n",
       "13                11      C  \n",
       "14                12      B  \n",
       "15                 5      D  \n",
       "16                 7      C  \n",
       "17                12      C  \n",
       "18                 7      B  \n",
       "19                 7      D  "
      ]
     },
     "execution_count": 2,
     "metadata": {},
     "output_type": "execute_result"
    }
   ],
   "source": [
    "df = pd.read_csv('teaching_method.csv')\n",
    "df"
   ]
  },
  {
   "cell_type": "markdown",
   "metadata": {},
   "source": [
    "## 独立な2群のt検定"
   ]
  },
  {
   "cell_type": "code",
   "execution_count": 6,
   "metadata": {},
   "outputs": [
    {
     "data": {
      "text/plain": [
       "array([ 6, 10,  6, 10,  5,  3,  5,  9,  3,  3])"
      ]
     },
     "execution_count": 6,
     "metadata": {},
     "output_type": "execute_result"
    }
   ],
   "source": [
    "statistics1_men = df[df['Sex']== 'm']['Statistics_test1'].values\n",
    "statistics1_men"
   ]
  },
  {
   "cell_type": "code",
   "execution_count": 7,
   "metadata": {},
   "outputs": [
    {
     "data": {
      "text/plain": [
       "array([11,  6, 11,  9,  7,  5,  8,  7,  7,  9])"
      ]
     },
     "execution_count": 7,
     "metadata": {},
     "output_type": "execute_result"
    }
   ],
   "source": [
    "statistics1_women = df[df['Sex']== 'f']['Statistics_test1'].values\n",
    "statistics1_women"
   ]
  },
  {
   "cell_type": "markdown",
   "metadata": {},
   "source": [
    "帰無仮説: $\\mu_1 = \\mu_2$\\\n",
    "対立仮説: $\\mu_1 \\neq \\mu_2$"
   ]
  },
  {
   "cell_type": "markdown",
   "metadata": {},
   "source": [
    "検定統計量\n",
    "\n",
    "$\n",
    "t = \\cfrac{\\bar{X_1} - \\bar{X_2}}{\\sqrt{\\cfrac{(n_1-1)\\hat{\\sigma}^{2}_{1} + (n_2-1)\\hat{\\sigma}^{2}_{2}}{n_1+n_2-2} \\left( \\cfrac{1}{n_1} + \\cfrac{1}{n_2}\\right) }}\n",
    "$\n",
    "\n",
    "自由度$df=n_1+n_2-1$のt分布に従う。"
   ]
  },
  {
   "cell_type": "code",
   "execution_count": 10,
   "metadata": {},
   "outputs": [
    {
     "name": "stdout",
     "output_type": "stream",
     "text": [
      "6.0\n",
      "8.0\n",
      "7.777777777777778\n",
      "4.0\n"
     ]
    }
   ],
   "source": [
    "print(np.mean(statistics1_men))\n",
    "print(np.mean(statistics1_women))\n",
    "\n",
    "print(np.var(statistics1_men, ddof=1))\n",
    "print(np.var(statistics1_women, ddof=1))"
   ]
  },
  {
   "cell_type": "markdown",
   "metadata": {},
   "source": [
    "$\n",
    "\\hat{\\sigma}_{pooled} = \\sqrt{\\cfrac{(n_1-1)\\hat{\\sigma}^{2}_{1} + (n_2-1)\\hat{\\sigma}^{2}_{2}}{n_1+n_2-2} }\n",
    "$"
   ]
  },
  {
   "cell_type": "code",
   "execution_count": 16,
   "metadata": {},
   "outputs": [
    {
     "data": {
      "text/plain": [
       "2.4267032964268394"
      ]
     },
     "execution_count": 16,
     "metadata": {},
     "output_type": "execute_result"
    }
   ],
   "source": [
    "pool_std = np.sqrt( ( (len(statistics1_men)-1)*(np.var(statistics1_men, ddof=1)) \\\n",
    "                   + (len(statistics1_women)-1)*(np.var(statistics1_women, ddof=1)) )\\\n",
    "                   / (len(statistics1_men)+len(statistics1_women)-2) ) \n",
    "pool_std"
   ]
  },
  {
   "cell_type": "code",
   "execution_count": 17,
   "metadata": {},
   "outputs": [
    {
     "data": {
      "text/plain": [
       "1.0852547064066471"
      ]
     },
     "execution_count": 17,
     "metadata": {},
     "output_type": "execute_result"
    }
   ],
   "source": [
    "t_lower = pool_std * np.sqrt(1/len(statistics1_men) + 1/len(statistics1_women))\n",
    "t_lower"
   ]
  },
  {
   "cell_type": "code",
   "execution_count": 19,
   "metadata": {},
   "outputs": [
    {
     "data": {
      "text/plain": [
       "-2.0"
      ]
     },
     "execution_count": 19,
     "metadata": {},
     "output_type": "execute_result"
    }
   ],
   "source": [
    "t_upper = np.mean(statistics1_men) - np.mean(statistics1_women)\n",
    "t_upper"
   ]
  },
  {
   "cell_type": "code",
   "execution_count": 20,
   "metadata": {},
   "outputs": [
    {
     "data": {
      "text/plain": [
       "-1.8428853505018534"
      ]
     },
     "execution_count": 20,
     "metadata": {},
     "output_type": "execute_result"
    }
   ],
   "source": [
    "t = t_upper/t_lower\n",
    "t"
   ]
  },
  {
   "cell_type": "code",
   "execution_count": 22,
   "metadata": {},
   "outputs": [
    {
     "name": "stdout",
     "output_type": "stream",
     "text": [
      "-2.10092204024096\n",
      "2.10092204024096\n"
     ]
    }
   ],
   "source": [
    "# 自由度18のt分布で下側確率0.025となるtの値\n",
    "print(stats.t.ppf(0.025, 18))\n",
    "# 自由度18のt分布で上側確率0.025となるtの値\n",
    "print(stats.t.isf(0.025, 18))"
   ]
  },
  {
   "cell_type": "markdown",
   "metadata": {},
   "source": [
    "よって検定統計量は棄却域に入らないので、帰無仮説を棄却できない。\\\n",
    "つまり男女間で平均値に有意な差ないということ。\\\n",
    "この標本数では、平均値の差が2点であるということは十分にありえるということ。"
   ]
  },
  {
   "cell_type": "code",
   "execution_count": 25,
   "metadata": {},
   "outputs": [
    {
     "data": {
      "text/plain": [
       "Ttest_indResult(statistic=-1.8428853505018534, pvalue=0.08187801462410679)"
      ]
     },
     "execution_count": 25,
     "metadata": {},
     "output_type": "execute_result"
    }
   ],
   "source": [
    "#独立な2群のt検定\n",
    "t, p = stats.ttest_ind(statistics1_men, statistics1_women)\n",
    "stats.ttest_ind(statistics1_men, statistics1_women)"
   ]
  },
  {
   "cell_type": "code",
   "execution_count": null,
   "metadata": {},
   "outputs": [],
   "source": []
  },
  {
   "cell_type": "markdown",
   "metadata": {},
   "source": [
    "## 分散の等質性の検定"
   ]
  },
  {
   "cell_type": "code",
   "execution_count": 26,
   "metadata": {},
   "outputs": [
    {
     "data": {
      "text/plain": [
       "BartlettResult(statistic=4.589710897779921, pvalue=0.032164439095344693)"
      ]
     },
     "execution_count": 26,
     "metadata": {},
     "output_type": "execute_result"
    }
   ],
   "source": [
    "classa = np.array([54,55,52,48,50,38,41,40,53,52])\n",
    "classb = np.array([67,63,50,60,61,69,43,58,36,29])\n",
    "\n",
    "stats.bartlett(classa, classb)"
   ]
  },
  {
   "cell_type": "markdown",
   "metadata": {},
   "source": [
    "帰無仮説が棄却される。-> 分散の等質性の仮定は満たされないということ。\\\n",
    "つまり、独立な2群のt検定を行えない。"
   ]
  },
  {
   "cell_type": "markdown",
   "metadata": {},
   "source": [
    "## Welchの検定\n",
    "分散が等質でないときに使用する"
   ]
  },
  {
   "cell_type": "code",
   "execution_count": 27,
   "metadata": {},
   "outputs": [
    {
     "data": {
      "text/plain": [
       "Ttest_indResult(statistic=-1.1191356939670116, pvalue=0.2837877174603801)"
      ]
     },
     "execution_count": 27,
     "metadata": {},
     "output_type": "execute_result"
    }
   ],
   "source": [
    "stats.ttest_ind(classa, classb, equal_var=False)"
   ]
  },
  {
   "cell_type": "markdown",
   "metadata": {},
   "source": [
    "５％で有意にならない。つまり、平均値に有意な差があるとはいえない。"
   ]
  },
  {
   "cell_type": "markdown",
   "metadata": {},
   "source": [
    "## 対応のあるt検定"
   ]
  },
  {
   "cell_type": "markdown",
   "metadata": {},
   "source": [
    "検定統計量\n",
    "\n",
    "$\n",
    "t = \\cfrac{\\bar{D}} {\\hat{\\sigma}_D / \\sqrt{n}}\n",
    "$\n",
    "\n",
    "自由度$df=n-1$のt分布に従う。"
   ]
  },
  {
   "cell_type": "code",
   "execution_count": 29,
   "metadata": {},
   "outputs": [
    {
     "data": {
      "text/plain": [
       "array([ 4,  3,  2,  5,  3,  3,  4,  1,  4,  0,  7,  8,  7,  2,  5,  0, -1,\n",
       "        5,  0, -2])"
      ]
     },
     "execution_count": 29,
     "metadata": {},
     "output_type": "execute_result"
    }
   ],
   "source": [
    "change = df['Statistics_test2'].values - df['Statistics_test1'].values\n",
    "change"
   ]
  },
  {
   "cell_type": "code",
   "execution_count": 30,
   "metadata": {},
   "outputs": [
    {
     "data": {
      "text/plain": [
       "0.6198471798078857"
      ]
     },
     "execution_count": 30,
     "metadata": {},
     "output_type": "execute_result"
    }
   ],
   "source": [
    "t_lower = np.std(change, ddof=1) / np.sqrt(len(change))\n",
    "t_lower"
   ]
  },
  {
   "cell_type": "code",
   "execution_count": 32,
   "metadata": {},
   "outputs": [
    {
     "data": {
      "text/plain": [
       "3.0"
      ]
     },
     "execution_count": 32,
     "metadata": {},
     "output_type": "execute_result"
    }
   ],
   "source": [
    "t_upper = np.mean(change)\n",
    "t_upper"
   ]
  },
  {
   "cell_type": "code",
   "execution_count": 33,
   "metadata": {},
   "outputs": [
    {
     "data": {
      "text/plain": [
       "4.8399026368560945"
      ]
     },
     "execution_count": 33,
     "metadata": {},
     "output_type": "execute_result"
    }
   ],
   "source": [
    "t = t_upper / t_lower\n",
    "t"
   ]
  },
  {
   "cell_type": "code",
   "execution_count": 34,
   "metadata": {},
   "outputs": [
    {
     "name": "stdout",
     "output_type": "stream",
     "text": [
      "-2.262157162740992\n",
      "2.262157162740992\n"
     ]
    }
   ],
   "source": [
    "# 自由度9のt分布で下側確率0.025となるtの値\n",
    "print(stats.t.ppf(0.025, 9))\n",
    "# 自由度9のt分布で上側確率0.025となるtの値\n",
    "print(stats.t.isf(0.025, 9))"
   ]
  },
  {
   "cell_type": "markdown",
   "metadata": {},
   "source": [
    "帰無仮説は棄却される。\\\n",
    "指導の前後でテスト1とテスト2の得点の平均値に5%水準で有意差が見られた。"
   ]
  },
  {
   "cell_type": "code",
   "execution_count": 35,
   "metadata": {},
   "outputs": [
    {
     "data": {
      "text/plain": [
       "Ttest_relResult(statistic=-4.8399026368560945, pvalue=0.00011378795008861286)"
      ]
     },
     "execution_count": 35,
     "metadata": {},
     "output_type": "execute_result"
    }
   ],
   "source": [
    "# 対応のあるt検定\n",
    "stats.ttest_rel(df['Statistics_test1'].values, df['Statistics_test2'].values)"
   ]
  },
  {
   "cell_type": "code",
   "execution_count": 36,
   "metadata": {},
   "outputs": [
    {
     "data": {
      "text/plain": [
       "BartlettResult(statistic=3.9332088763242945, pvalue=0.0473415291779616)"
      ]
     },
     "execution_count": 36,
     "metadata": {},
     "output_type": "execute_result"
    }
   ],
   "source": [
    "# 対応なしとみなした場合\n",
    "# まず、分散の等質性を調べる\n",
    "stats.bartlett(df['Statistics_test1'].values, df['Statistics_test2'].values)"
   ]
  },
  {
   "cell_type": "code",
   "execution_count": 37,
   "metadata": {},
   "outputs": [
    {
     "data": {
      "text/plain": [
       "Ttest_indResult(statistic=-2.7629564910487767, pvalue=0.009429462533670687)"
      ]
     },
     "execution_count": 37,
     "metadata": {},
     "output_type": "execute_result"
    }
   ],
   "source": [
    "# p値が5%以下(等質性がない)なのでWelchの検定をする\n",
    "stats.ttest_ind(df['Statistics_test1'].values, df['Statistics_test2'].values, equal_var=False)"
   ]
  },
  {
   "cell_type": "markdown",
   "metadata": {},
   "source": [
    "こちらも有意差ありという結果になった。\\\n",
    "しかし、対応ありの場合のほうがp値が小さい。"
   ]
  },
  {
   "cell_type": "code",
   "execution_count": null,
   "metadata": {},
   "outputs": [],
   "source": []
  },
  {
   "cell_type": "markdown",
   "metadata": {},
   "source": [
    "# 練習問題\n",
    "#### 1"
   ]
  },
  {
   "cell_type": "code",
   "execution_count": 45,
   "metadata": {},
   "outputs": [
    {
     "name": "stdout",
     "output_type": "stream",
     "text": [
      "[ 6 10  6 10 11  6 11  7]\n",
      "[5 3 5 9 3 3 9 5 8 7 7 9]\n"
     ]
    }
   ],
   "source": [
    "st_like = df[df['Statistics']=='like']['Statistics_test1'].values\n",
    "print(st_like)\n",
    "st_dislike = df[df['Statistics']=='dislike']['Statistics_test1'].values\n",
    "print(st_dislike)"
   ]
  },
  {
   "cell_type": "code",
   "execution_count": 47,
   "metadata": {},
   "outputs": [
    {
     "data": {
      "text/plain": [
       "BartlettResult(statistic=0.006200381166804912, pvalue=0.937237441000522)"
      ]
     },
     "execution_count": 47,
     "metadata": {},
     "output_type": "execute_result"
    }
   ],
   "source": [
    "# 等質性の検定\n",
    "stats.bartlett(st_like, st_dislike)"
   ]
  },
  {
   "cell_type": "code",
   "execution_count": 48,
   "metadata": {},
   "outputs": [
    {
     "data": {
      "text/plain": [
       "Ttest_indResult(statistic=2.1342261113376138, pvalue=0.04922015258617567)"
      ]
     },
     "execution_count": 48,
     "metadata": {},
     "output_type": "execute_result"
    }
   ],
   "source": [
    "# 等質性がないのでWelchの検定をする\n",
    "stats.ttest_ind(st_like, st_dislike, equal_var=False)"
   ]
  },
  {
   "cell_type": "markdown",
   "metadata": {},
   "source": [
    "有意差あり。つまり、好き嫌いでテストの点が変わる"
   ]
  },
  {
   "cell_type": "markdown",
   "metadata": {},
   "source": [
    "#### 2"
   ]
  },
  {
   "cell_type": "code",
   "execution_count": 49,
   "metadata": {},
   "outputs": [
    {
     "name": "stdout",
     "output_type": "stream",
     "text": [
      "[13 14  7 12 10  6  8 15  4 14]\n",
      "[ 9  6 10 12  5 12  8  8 12 15]\n"
     ]
    }
   ],
   "source": [
    "psy_men = df[df['Sex']=='m']['Psychology_test'].values\n",
    "print(psy_men)\n",
    "psy_women = df[df['Sex']=='f']['Psychology_test'].values\n",
    "print(psy_women)"
   ]
  },
  {
   "cell_type": "code",
   "execution_count": 51,
   "metadata": {},
   "outputs": [
    {
     "data": {
      "text/plain": [
       "BartlettResult(statistic=0.4150856573275788, pvalue=0.5193994478045708)"
      ]
     },
     "execution_count": 51,
     "metadata": {},
     "output_type": "execute_result"
    }
   ],
   "source": [
    "# 等質性の検定\n",
    "stats.bartlett(psy_men, psy_women)"
   ]
  },
  {
   "cell_type": "code",
   "execution_count": 52,
   "metadata": {},
   "outputs": [
    {
     "data": {
      "text/plain": [
       "Ttest_indResult(statistic=0.38358697133460806, pvalue=0.7059891893345245)"
      ]
     },
     "execution_count": 52,
     "metadata": {},
     "output_type": "execute_result"
    }
   ],
   "source": [
    "# 等質性がないのでWelchの検定をする\n",
    "stats.ttest_ind(psy_men, psy_women, equal_var=False)"
   ]
  },
  {
   "cell_type": "markdown",
   "metadata": {},
   "source": [
    "有意差はない。つまり男女間での心理学テストの結果の平均値は誤差。"
   ]
  },
  {
   "cell_type": "markdown",
   "metadata": {},
   "source": [
    "#### 3"
   ]
  },
  {
   "cell_type": "code",
   "execution_count": 53,
   "metadata": {},
   "outputs": [],
   "source": [
    "before = np.array([61,50,41,55,51,48,46,55,65,70])\n",
    "after = np.array([59,48,33,54,47,52,38,50,64,63])"
   ]
  },
  {
   "cell_type": "code",
   "execution_count": 54,
   "metadata": {},
   "outputs": [
    {
     "data": {
      "text/plain": [
       "Ttest_relResult(statistic=2.8465424181483328, pvalue=0.019197155453924926)"
      ]
     },
     "execution_count": 54,
     "metadata": {},
     "output_type": "execute_result"
    }
   ],
   "source": [
    "stats.ttest_rel(before, after)"
   ]
  },
  {
   "cell_type": "markdown",
   "metadata": {},
   "source": [
    "有意差あり。つまりプログラムの前と後での体重に変化があったということ。"
   ]
  },
  {
   "cell_type": "code",
   "execution_count": null,
   "metadata": {},
   "outputs": [],
   "source": []
  }
 ],
 "metadata": {
  "kernelspec": {
   "display_name": "Python 3",
   "language": "python",
   "name": "python3"
  },
  "language_info": {
   "codemirror_mode": {
    "name": "ipython",
    "version": 3
   },
   "file_extension": ".py",
   "mimetype": "text/x-python",
   "name": "python",
   "nbconvert_exporter": "python",
   "pygments_lexer": "ipython3",
   "version": "3.7.6"
  }
 },
 "nbformat": 4,
 "nbformat_minor": 4
}
