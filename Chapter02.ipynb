{
 "cells": [
  {
   "cell_type": "markdown",
   "metadata": {},
   "source": [
    "# Chapter 2"
   ]
  },
  {
   "cell_type": "code",
   "execution_count": 7,
   "metadata": {},
   "outputs": [],
   "source": [
    "import numpy as np\n",
    "import pandas as pd\n",
    "import matplotlib.pyplot as plt\n",
    "import seaborn as sns\n",
    "%matplotlib inline\n",
    "from itertools import cycle"
   ]
  },
  {
   "cell_type": "code",
   "execution_count": 8,
   "metadata": {},
   "outputs": [],
   "source": [
    "sns.set(style='ticks')\n",
    "color_pal = plt.rcParams['axes.prop_cycle'].by_key()['color']\n",
    "color_cycle = cycle(plt.rcParams['axes.prop_cycle'].by_key()['color'])"
   ]
  },
  {
   "cell_type": "code",
   "execution_count": 9,
   "metadata": {},
   "outputs": [
    {
     "data": {
      "text/html": [
       "<div>\n",
       "<style scoped>\n",
       "    .dataframe tbody tr th:only-of-type {\n",
       "        vertical-align: middle;\n",
       "    }\n",
       "\n",
       "    .dataframe tbody tr th {\n",
       "        vertical-align: top;\n",
       "    }\n",
       "\n",
       "    .dataframe thead th {\n",
       "        text-align: right;\n",
       "    }\n",
       "</style>\n",
       "<table border=\"1\" class=\"dataframe\">\n",
       "  <thead>\n",
       "    <tr style=\"text-align: right;\">\n",
       "      <th></th>\n",
       "      <th>ID</th>\n",
       "      <th>Name</th>\n",
       "      <th>Sex</th>\n",
       "      <th>Math</th>\n",
       "      <th>Statistics</th>\n",
       "      <th>Psychology_test</th>\n",
       "      <th>Statistics_test1</th>\n",
       "      <th>Statistics_test2</th>\n",
       "      <th>Method</th>\n",
       "    </tr>\n",
       "  </thead>\n",
       "  <tbody>\n",
       "    <tr>\n",
       "      <th>0</th>\n",
       "      <td>1</td>\n",
       "      <td>大村</td>\n",
       "      <td>m</td>\n",
       "      <td>dislike</td>\n",
       "      <td>like</td>\n",
       "      <td>13</td>\n",
       "      <td>6</td>\n",
       "      <td>10</td>\n",
       "      <td>C</td>\n",
       "    </tr>\n",
       "    <tr>\n",
       "      <th>1</th>\n",
       "      <td>2</td>\n",
       "      <td>本多</td>\n",
       "      <td>m</td>\n",
       "      <td>dislike</td>\n",
       "      <td>like</td>\n",
       "      <td>14</td>\n",
       "      <td>10</td>\n",
       "      <td>13</td>\n",
       "      <td>B</td>\n",
       "    </tr>\n",
       "    <tr>\n",
       "      <th>2</th>\n",
       "      <td>3</td>\n",
       "      <td>川崎</td>\n",
       "      <td>m</td>\n",
       "      <td>like</td>\n",
       "      <td>like</td>\n",
       "      <td>7</td>\n",
       "      <td>6</td>\n",
       "      <td>8</td>\n",
       "      <td>B</td>\n",
       "    </tr>\n",
       "    <tr>\n",
       "      <th>3</th>\n",
       "      <td>4</td>\n",
       "      <td>多村</td>\n",
       "      <td>m</td>\n",
       "      <td>like</td>\n",
       "      <td>like</td>\n",
       "      <td>12</td>\n",
       "      <td>10</td>\n",
       "      <td>15</td>\n",
       "      <td>A</td>\n",
       "    </tr>\n",
       "    <tr>\n",
       "      <th>4</th>\n",
       "      <td>5</td>\n",
       "      <td>松中</td>\n",
       "      <td>m</td>\n",
       "      <td>dislike</td>\n",
       "      <td>dislike</td>\n",
       "      <td>10</td>\n",
       "      <td>5</td>\n",
       "      <td>8</td>\n",
       "      <td>B</td>\n",
       "    </tr>\n",
       "    <tr>\n",
       "      <th>5</th>\n",
       "      <td>6</td>\n",
       "      <td>小久保</td>\n",
       "      <td>m</td>\n",
       "      <td>dislike</td>\n",
       "      <td>dislike</td>\n",
       "      <td>6</td>\n",
       "      <td>3</td>\n",
       "      <td>6</td>\n",
       "      <td>C</td>\n",
       "    </tr>\n",
       "    <tr>\n",
       "      <th>6</th>\n",
       "      <td>7</td>\n",
       "      <td>柴原</td>\n",
       "      <td>m</td>\n",
       "      <td>dislike</td>\n",
       "      <td>dislike</td>\n",
       "      <td>8</td>\n",
       "      <td>5</td>\n",
       "      <td>9</td>\n",
       "      <td>A</td>\n",
       "    </tr>\n",
       "    <tr>\n",
       "      <th>7</th>\n",
       "      <td>8</td>\n",
       "      <td>井手</td>\n",
       "      <td>m</td>\n",
       "      <td>dislike</td>\n",
       "      <td>dislike</td>\n",
       "      <td>15</td>\n",
       "      <td>9</td>\n",
       "      <td>10</td>\n",
       "      <td>D</td>\n",
       "    </tr>\n",
       "    <tr>\n",
       "      <th>8</th>\n",
       "      <td>9</td>\n",
       "      <td>田上</td>\n",
       "      <td>m</td>\n",
       "      <td>dislike</td>\n",
       "      <td>dislike</td>\n",
       "      <td>4</td>\n",
       "      <td>3</td>\n",
       "      <td>7</td>\n",
       "      <td>D</td>\n",
       "    </tr>\n",
       "    <tr>\n",
       "      <th>9</th>\n",
       "      <td>10</td>\n",
       "      <td>松田</td>\n",
       "      <td>m</td>\n",
       "      <td>like</td>\n",
       "      <td>dislike</td>\n",
       "      <td>14</td>\n",
       "      <td>3</td>\n",
       "      <td>3</td>\n",
       "      <td>D</td>\n",
       "    </tr>\n",
       "    <tr>\n",
       "      <th>10</th>\n",
       "      <td>11</td>\n",
       "      <td>高谷</td>\n",
       "      <td>f</td>\n",
       "      <td>like</td>\n",
       "      <td>like</td>\n",
       "      <td>9</td>\n",
       "      <td>11</td>\n",
       "      <td>18</td>\n",
       "      <td>A</td>\n",
       "    </tr>\n",
       "    <tr>\n",
       "      <th>11</th>\n",
       "      <td>12</td>\n",
       "      <td>杉内</td>\n",
       "      <td>f</td>\n",
       "      <td>dislike</td>\n",
       "      <td>like</td>\n",
       "      <td>6</td>\n",
       "      <td>6</td>\n",
       "      <td>14</td>\n",
       "      <td>A</td>\n",
       "    </tr>\n",
       "    <tr>\n",
       "      <th>12</th>\n",
       "      <td>13</td>\n",
       "      <td>和田</td>\n",
       "      <td>f</td>\n",
       "      <td>like</td>\n",
       "      <td>like</td>\n",
       "      <td>10</td>\n",
       "      <td>11</td>\n",
       "      <td>18</td>\n",
       "      <td>A</td>\n",
       "    </tr>\n",
       "    <tr>\n",
       "      <th>13</th>\n",
       "      <td>14</td>\n",
       "      <td>新垣</td>\n",
       "      <td>f</td>\n",
       "      <td>dislke</td>\n",
       "      <td>dislike</td>\n",
       "      <td>12</td>\n",
       "      <td>9</td>\n",
       "      <td>11</td>\n",
       "      <td>C</td>\n",
       "    </tr>\n",
       "    <tr>\n",
       "      <th>14</th>\n",
       "      <td>15</td>\n",
       "      <td>大隣</td>\n",
       "      <td>f</td>\n",
       "      <td>dislike</td>\n",
       "      <td>like</td>\n",
       "      <td>5</td>\n",
       "      <td>7</td>\n",
       "      <td>12</td>\n",
       "      <td>B</td>\n",
       "    </tr>\n",
       "    <tr>\n",
       "      <th>15</th>\n",
       "      <td>16</td>\n",
       "      <td>水田</td>\n",
       "      <td>f</td>\n",
       "      <td>like</td>\n",
       "      <td>dislike</td>\n",
       "      <td>12</td>\n",
       "      <td>5</td>\n",
       "      <td>5</td>\n",
       "      <td>D</td>\n",
       "    </tr>\n",
       "    <tr>\n",
       "      <th>16</th>\n",
       "      <td>17</td>\n",
       "      <td>斉藤</td>\n",
       "      <td>f</td>\n",
       "      <td>dislike</td>\n",
       "      <td>dislike</td>\n",
       "      <td>8</td>\n",
       "      <td>8</td>\n",
       "      <td>7</td>\n",
       "      <td>C</td>\n",
       "    </tr>\n",
       "    <tr>\n",
       "      <th>17</th>\n",
       "      <td>18</td>\n",
       "      <td>柳瀬</td>\n",
       "      <td>f</td>\n",
       "      <td>dislike</td>\n",
       "      <td>dislike</td>\n",
       "      <td>8</td>\n",
       "      <td>7</td>\n",
       "      <td>12</td>\n",
       "      <td>C</td>\n",
       "    </tr>\n",
       "    <tr>\n",
       "      <th>18</th>\n",
       "      <td>19</td>\n",
       "      <td>佐藤</td>\n",
       "      <td>f</td>\n",
       "      <td>dislike</td>\n",
       "      <td>dislike</td>\n",
       "      <td>12</td>\n",
       "      <td>7</td>\n",
       "      <td>7</td>\n",
       "      <td>B</td>\n",
       "    </tr>\n",
       "    <tr>\n",
       "      <th>19</th>\n",
       "      <td>20</td>\n",
       "      <td>馬原</td>\n",
       "      <td>f</td>\n",
       "      <td>dislike</td>\n",
       "      <td>dislike</td>\n",
       "      <td>15</td>\n",
       "      <td>9</td>\n",
       "      <td>7</td>\n",
       "      <td>D</td>\n",
       "    </tr>\n",
       "  </tbody>\n",
       "</table>\n",
       "</div>"
      ],
      "text/plain": [
       "    ID Name Sex     Math Statistics  Psychology_test  Statistics_test1  \\\n",
       "0    1   大村   m  dislike       like               13                 6   \n",
       "1    2   本多   m  dislike       like               14                10   \n",
       "2    3   川崎   m     like       like                7                 6   \n",
       "3    4   多村   m     like       like               12                10   \n",
       "4    5   松中   m  dislike    dislike               10                 5   \n",
       "5    6  小久保   m  dislike    dislike                6                 3   \n",
       "6    7   柴原   m  dislike    dislike                8                 5   \n",
       "7    8   井手   m  dislike    dislike               15                 9   \n",
       "8    9   田上   m  dislike    dislike                4                 3   \n",
       "9   10   松田   m     like    dislike               14                 3   \n",
       "10  11   高谷   f     like       like                9                11   \n",
       "11  12   杉内   f  dislike       like                6                 6   \n",
       "12  13   和田   f     like       like               10                11   \n",
       "13  14   新垣   f   dislke    dislike               12                 9   \n",
       "14  15   大隣   f  dislike       like                5                 7   \n",
       "15  16   水田   f     like    dislike               12                 5   \n",
       "16  17   斉藤   f  dislike    dislike                8                 8   \n",
       "17  18   柳瀬   f  dislike    dislike                8                 7   \n",
       "18  19   佐藤   f  dislike    dislike               12                 7   \n",
       "19  20   馬原   f  dislike    dislike               15                 9   \n",
       "\n",
       "    Statistics_test2 Method  \n",
       "0                 10      C  \n",
       "1                 13      B  \n",
       "2                  8      B  \n",
       "3                 15      A  \n",
       "4                  8      B  \n",
       "5                  6      C  \n",
       "6                  9      A  \n",
       "7                 10      D  \n",
       "8                  7      D  \n",
       "9                  3      D  \n",
       "10                18      A  \n",
       "11                14      A  \n",
       "12                18      A  \n",
       "13                11      C  \n",
       "14                12      B  \n",
       "15                 5      D  \n",
       "16                 7      C  \n",
       "17                12      C  \n",
       "18                 7      B  \n",
       "19                 7      D  "
      ]
     },
     "execution_count": 9,
     "metadata": {},
     "output_type": "execute_result"
    }
   ],
   "source": [
    "df = pd.read_csv('teaching_method.csv')\n",
    "df"
   ]
  },
  {
   "cell_type": "code",
   "execution_count": 5,
   "metadata": {},
   "outputs": [
    {
     "data": {
      "text/plain": [
       "D    5\n",
       "C    5\n",
       "B    5\n",
       "A    5\n",
       "Name: Method, dtype: int64"
      ]
     },
     "execution_count": 5,
     "metadata": {},
     "output_type": "execute_result"
    }
   ],
   "source": [
    "# 度数\n",
    "df['Method'].value_counts()"
   ]
  },
  {
   "cell_type": "code",
   "execution_count": 11,
   "metadata": {},
   "outputs": [
    {
     "data": {
      "image/png": "[encoded data removed]",
      "text/plain": [
       "<Figure size 432x288 with 1 Axes>"
      ]
     },
     "metadata": {},
     "output_type": "display_data"
    }
   ],
   "source": [
    "# ヒストグラム\n",
    "df['Psychology_test'].hist()\n",
    "plt.show()"
   ]
  },
  {
   "cell_type": "code",
   "execution_count": 52,
   "metadata": {},
   "outputs": [
    {
     "name": "stdout",
     "output_type": "stream",
     "text": [
      "10.8\n",
      "10.0\n",
      "8\n"
     ]
    }
   ],
   "source": [
    "# 代表値\n",
    "testA = df['Statistics_test2'].iloc[:5]\n",
    "# mean\n",
    "mean = testA.mean()\n",
    "print(mean)\n",
    "# median\n",
    "median = testA.median()\n",
    "print(median)\n",
    "# mode(最頻値)\n",
    "mode = testA.mode().values[0]\n",
    "print(mode)"
   ]
  },
  {
   "cell_type": "code",
   "execution_count": 53,
   "metadata": {},
   "outputs": [
    {
     "name": "stdout",
     "output_type": "stream",
     "text": [
      "[-0.8  2.2 -2.8  4.2 -2.8]\n"
     ]
    }
   ],
   "source": [
    "# 偏差\n",
    "deviation = np.array(testA - mean)\n",
    "print(deviation)"
   ]
  },
  {
   "cell_type": "code",
   "execution_count": 47,
   "metadata": {},
   "outputs": [
    {
     "name": "stdout",
     "output_type": "stream",
     "text": [
      "7.76\n"
     ]
    }
   ],
   "source": [
    "# 分散\n",
    "variance = np.sum(deviation**2) / len(deviation)\n",
    "print('{:.2f}'.format(variance))"
   ]
  },
  {
   "cell_type": "code",
   "execution_count": 63,
   "metadata": {},
   "outputs": [
    {
     "name": "stdout",
     "output_type": "stream",
     "text": [
      "9.70\n",
      "7.76\n",
      "7.76\n"
     ]
    }
   ],
   "source": [
    "# variance\n",
    "# pandsのモジュールは不偏分散\n",
    "# numpyと上で求めたものは標本分散\n",
    "print('{:.2f}'.format(testA.var()))\n",
    "print('{:.2f}'.format(testA.var()*(len(testA)-1)/len(testA)))\n",
    "print('{:.2f}'.format(np.var(testA)))"
   ]
  },
  {
   "cell_type": "code",
   "execution_count": 61,
   "metadata": {},
   "outputs": [
    {
     "name": "stdout",
     "output_type": "stream",
     "text": [
      "3.114482\n",
      "2.785678\n",
      "2.785678\n"
     ]
    }
   ],
   "source": [
    "# standard deviation\n",
    "print('{:.6f}'.format(testA.std()))\n",
    "print('{:.6f}'.format(np.sqrt(testA.var()*(len(testA)-1)/len(testA))))\n",
    "print('{:.6f}'.format(np.std(testA)))"
   ]
  },
  {
   "cell_type": "code",
   "execution_count": 56,
   "metadata": {},
   "outputs": [
    {
     "name": "stdout",
     "output_type": "stream",
     "text": [
      "[0.8 2.2 2.8 4.2 2.8]\n",
      "2.56\n"
     ]
    }
   ],
   "source": [
    "# 平均偏差\n",
    "deviation_abs = np.abs(deviation)\n",
    "print(deviation_abs)\n",
    "print(np.mean(deviation_abs))"
   ]
  },
  {
   "cell_type": "code",
   "execution_count": 57,
   "metadata": {},
   "outputs": [
    {
     "name": "stdout",
     "output_type": "stream",
     "text": [
      "7\n"
     ]
    }
   ],
   "source": [
    "# 範囲(range)\n",
    "print(np.max(testA)-np.min(testA))"
   ]
  },
  {
   "cell_type": "markdown",
   "metadata": {},
   "source": [
    "### 2.10 標準化"
   ]
  },
  {
   "cell_type": "code",
   "execution_count": 58,
   "metadata": {},
   "outputs": [
    {
     "data": {
      "text/plain": [
       "array([13, 14,  7, 12, 10,  6,  8, 15,  4, 14,  9,  6, 10, 12,  5, 12,  8,\n",
       "        8, 12, 15])"
      ]
     },
     "execution_count": 58,
     "metadata": {},
     "output_type": "execute_result"
    }
   ],
   "source": [
    "psy_test = df['Psychology_test'].values\n",
    "psy_test"
   ]
  },
  {
   "cell_type": "code",
   "execution_count": 64,
   "metadata": {},
   "outputs": [
    {
     "name": "stdout",
     "output_type": "stream",
     "text": [
      "10.0\n",
      "3.331666249791536\n"
     ]
    }
   ],
   "source": [
    "psy_mean = np.mean(psy_test)\n",
    "print(psy_mean)\n",
    "psy_std = np.std(psy_test)\n",
    "print(psy_std)"
   ]
  },
  {
   "cell_type": "code",
   "execution_count": 66,
   "metadata": {},
   "outputs": [
    {
     "name": "stdout",
     "output_type": "stream",
     "text": [
      "[ 0.90045034  1.20060045 -0.90045034  0.60030023  0.         -1.20060045\n",
      " -0.60030023  1.50075056 -1.80090068  1.20060045 -0.30015011 -1.20060045\n",
      "  0.          0.60030023 -1.50075056  0.60030023 -0.60030023 -0.60030023\n",
      "  0.60030023  1.50075056]\n"
     ]
    }
   ],
   "source": [
    "psy_z = (psy_test-psy_mean) / psy_std\n",
    "print(psy_z)"
   ]
  },
  {
   "cell_type": "code",
   "execution_count": 67,
   "metadata": {},
   "outputs": [
    {
     "name": "stdout",
     "output_type": "stream",
     "text": [
      "2.2204460492503132e-17\n",
      "1.0\n"
     ]
    }
   ],
   "source": [
    "print(np.mean(psy_z))\n",
    "print(np.std(psy_z))"
   ]
  },
  {
   "cell_type": "markdown",
   "metadata": {},
   "source": [
    "$偏差値 = z得点 \\times 10 + 50$"
   ]
  },
  {
   "cell_type": "code",
   "execution_count": 68,
   "metadata": {},
   "outputs": [
    {
     "name": "stdout",
     "output_type": "stream",
     "text": [
      "[59.00450338 62.0060045  40.99549662 56.00300225 50.         37.9939955\n",
      " 43.99699775 65.00750563 31.99099324 62.0060045  46.99849887 37.9939955\n",
      " 50.         56.00300225 34.99249437 56.00300225 43.99699775 43.99699775\n",
      " 56.00300225 65.00750563]\n"
     ]
    }
   ],
   "source": [
    "psy_deviation_value = 10*psy_z + 50\n",
    "print(psy_deviation_value)"
   ]
  },
  {
   "cell_type": "code",
   "execution_count": 71,
   "metadata": {},
   "outputs": [
    {
     "name": "stdout",
     "output_type": "stream",
     "text": [
      "50.00000000000001\n",
      "10.000000000000002\n"
     ]
    }
   ],
   "source": [
    "psy_deviation_mean = np.mean(psy_deviation_value)\n",
    "print(psy_deviation_mean)\n",
    "print(np.sqrt(np.mean((psy_deviation_value-psy_deviation_mean)**2)))"
   ]
  },
  {
   "cell_type": "markdown",
   "metadata": {},
   "source": [
    "## 練習問題"
   ]
  },
  {
   "cell_type": "code",
   "execution_count": 72,
   "metadata": {},
   "outputs": [],
   "source": [
    "# 1\n",
    "a_univ = [60,100,50,40,50,230,120,240,200,30]\n",
    "b_univ = [50,60,40,50,100,80,30,20,100,120]"
   ]
  },
  {
   "cell_type": "code",
   "execution_count": 74,
   "metadata": {},
   "outputs": [
    {
     "data": {
      "image/png": "[encoded data removed]",
      "text/plain": [
       "<Figure size 432x288 with 2 Axes>"
      ]
     },
     "metadata": {},
     "output_type": "display_data"
    }
   ],
   "source": [
    "fig, axes = plt.subplots(1,2)\n",
    "axes[0].hist(a_univ)\n",
    "axes[1].hist(b_univ)\n",
    "plt.show()"
   ]
  },
  {
   "cell_type": "code",
   "execution_count": 75,
   "metadata": {},
   "outputs": [
    {
     "name": "stdout",
     "output_type": "stream",
     "text": [
      "112.0 65.0\n",
      "77.82030583337487 31.701734968294716\n"
     ]
    }
   ],
   "source": [
    "# 2\n",
    "print(np.mean(a_univ), np.mean(b_univ))\n",
    "print(np.std(a_univ), np.std(b_univ))"
   ]
  },
  {
   "cell_type": "code",
   "execution_count": 76,
   "metadata": {},
   "outputs": [
    {
     "name": "stdout",
     "output_type": "stream",
     "text": [
      "[-0.66820606 -0.1542014  -0.79670723 -0.92520839 -0.79670723  1.51631375\n",
      "  0.10280093  1.64481492  1.13081026 -1.05370956]\n",
      "[-0.47316022 -0.15772007 -0.78860037 -0.47316022  1.10404052  0.47316022\n",
      " -1.10404052 -1.41948067  1.10404052  1.73492082]\n"
     ]
    }
   ],
   "source": [
    "# 3\n",
    "a_uni_z = (a_univ-np.mean(a_univ)) / np.std(a_univ)\n",
    "b_uni_z = (b_univ-np.mean(b_univ)) / np.std(b_univ)\n",
    "print(a_uni_z)\n",
    "print(b_uni_z)"
   ]
  },
  {
   "cell_type": "code",
   "execution_count": null,
   "metadata": {},
   "outputs": [],
   "source": []
  }
 ],
 "metadata": {
  "kernelspec": {
   "display_name": "Python 3",
   "language": "python",
   "name": "python3"
  },
  "language_info": {
   "codemirror_mode": {
    "name": "ipython",
    "version": 3
   },
   "file_extension": ".py",
   "mimetype": "text/x-python",
   "name": "python",
   "nbconvert_exporter": "python",
   "pygments_lexer": "ipython3",
   "version": "3.7.6"
  }
 },
 "nbformat": 4,
 "nbformat_minor": 4
}
