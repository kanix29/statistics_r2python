{
 "cells": [
  {
   "cell_type": "markdown",
   "metadata": {},
   "source": [
    "# 14. 質問紙尺度のデータの処理"
   ]
  },
  {
   "cell_type": "code",
   "execution_count": 16,
   "metadata": {},
   "outputs": [],
   "source": [
    "import numpy as np\n",
    "import pandas as pd\n",
    "import pyper"
   ]
  },
  {
   "cell_type": "code",
   "execution_count": 6,
   "metadata": {},
   "outputs": [
    {
     "name": "stdout",
     "output_type": "stream",
     "text": [
      "try({expsy})\n",
      "   it1 it2 it3 it4 it5 it6 it7 it8 it9 it10 r1 rb1 r2 rb2 r3 rb3\n",
      "1   NA   2   2   1   1   0   3   1   2    3 NA  NA  3   1  3   1\n",
      "2    3   1   1   2   1   0   3   1   2    3  3   1  3   1  3   1\n",
      "3    3   1   1   0   2   0   3   1   2    3  3   1  2   0  2   0\n",
      "4    4   1   0   2   1   1   4   1   1    2  4   1  4   1  4   1\n",
      "5    4   1   0   2   1   1   3   1   1    2  3   1  3   1  3   1\n",
      "6    3   2   0   1   2   2   3   1   2    3  3   1  2   0  4   1\n",
      "7    3   2   3   1   2   2   2   1   3    3  2   0  2   0  2   0\n",
      "8    3   2   2   0   2   1   3   0   1    3  3   1  2   0  3   1\n",
      "9    3   2   2  NA   2   0   3   0   1    2  3   1  3   1  3   1\n",
      "10   3   2   1   0   2   2   3   2   2    3  3   1  3   1  2   0\n",
      "11   4   2   2   0   2   2   3   1   1    4  3   1  4   1  4   1\n",
      "12   4   2   1   2   2   2   3   1   2    1  3   1  3   1  3   1\n",
      "13   4   1   3   2   2   2   3   1   2    3  3   1  3   1  3   1\n",
      "14   3   2   2   1   1   2   3   0   3    4  3   1  2   0  2   0\n",
      "15   4   0   3   1   2   0   3   3   1    4  3   1  3   1  3   1\n",
      "16   4   0   1   2   2   2   4   2   3    3  4   1  4   1  4   1\n",
      "17   4   0   1   2   2   2   4   2   3    3  4   1  4   1  4   1\n",
      "18   4   1   1   2   2   1   3   1   0    4  3   1  3   1  3   1\n",
      "19   4   1   1   2   0   0   4   2   1    3  4   1  3   1  3   1\n",
      "20   3   1   1   2   1   1   2   1   1    3  2   0  2   0  2   0\n",
      "21   4   2   3   2   1   1   4   2   2    3  4   1  4   1  4   1\n",
      "22   3   2   1   2   1   1   3   2   1    3  3   1  4   1  3   1\n",
      "23   3   1   1   2   1   1   3   2   1    3  3   1  3   1  2   0\n",
      "24   3   2   1   2   2   2   4   1   1    3  4   1  4   1  4   1\n",
      "25   3   1   2   2   2   2   4   0   3    3  4   1  4   1  3   1\n",
      "26   3   2   3   2   2   2   2   2   3    3  2   0  2   0  2   0\n",
      "27   3   2   2   2   2   2   1   1   2    3  1   0  1   0  2   0\n",
      "28   3   2   1   1   1   1   2   2   2    2  2   0  1   0  1   0\n",
      "29   3   1   0   2   2   2   2   2   1    3  2   0  2   0  2   0\n",
      "30   3   2   1   2   2   2   4   2   2   NA  4   1  3   1  4   1\n",
      "\n"
     ]
    }
   ],
   "source": [
    "r = pyper.R()\n",
    "r('library(psy)')\n",
    "r('data(expsy)')\n",
    "print(r('expsy'))"
   ]
  },
  {
   "cell_type": "code",
   "execution_count": 8,
   "metadata": {},
   "outputs": [
    {
     "name": "stdout",
     "output_type": "stream",
     "text": [
      "try({expsy})\n",
      "   it1 it2 it3 it4 it5 it6 it7 it8 it9 it10 r1 rb1 r2 rb2 r3 rb3\n",
      "1   NA   2   2   1   1   0   3   1   2    3 NA  NA  3   1  3   1\n",
      "2    3   1   1   2   1   0   3   1   2    3  3   1  3   1  3   1\n",
      "3    3   1   1   0   2   0   3   1   2    3  3   1  2   0  2   0\n",
      "4    4   1   0   2   1   1   4   1   1    2  4   1  4   1  4   1\n",
      "5    4   1   0   2   1   1   3   1   1    2  3   1  3   1  3   1\n",
      "6    3   2   0   1   2   2   3   1   2    3  3   1  2   0  4   1\n",
      "7    3   2   3   1   2   2   2   1   3    3  2   0  2   0  2   0\n",
      "8    3   2   2   0   2   1   3   0   1    3  3   1  2   0  3   1\n",
      "9    3   2   2  NA   2   0   3   0   1    2  3   1  3   1  3   1\n",
      "10   3   2   1   0   2   2   3   2   2    3  3   1  3   1  2   0\n",
      "11   4   2   2   0   2   2   3   1   1    4  3   1  4   1  4   1\n",
      "12   4   2   1   2   2   2   3   1   2    1  3   1  3   1  3   1\n",
      "13   4   1   3   2   2   2   3   1   2    3  3   1  3   1  3   1\n",
      "14   3   2   2   1   1   2   3   0   3    4  3   1  2   0  2   0\n",
      "15   4   0   3   1   2   0   3   3   1    4  3   1  3   1  3   1\n",
      "16   4   0   1   2   2   2   4   2   3    3  4   1  4   1  4   1\n",
      "17   4   0   1   2   2   2   4   2   3    3  4   1  4   1  4   1\n",
      "18   4   1   1   2   2   1   3   1   0    4  3   1  3   1  3   1\n",
      "19   4   1   1   2   0   0   4   2   1    3  4   1  3   1  3   1\n",
      "20   3   1   1   2   1   1   2   1   1    3  2   0  2   0  2   0\n",
      "21   4   2   3   2   1   1   4   2   2    3  4   1  4   1  4   1\n",
      "22   3   2   1   2   1   1   3   2   1    3  3   1  4   1  3   1\n",
      "23   3   1   1   2   1   1   3   2   1    3  3   1  3   1  2   0\n",
      "24   3   2   1   2   2   2   4   1   1    3  4   1  4   1  4   1\n",
      "25   3   1   2   2   2   2   4   0   3    3  4   1  4   1  3   1\n",
      "26   3   2   3   2   2   2   2   2   3    3  2   0  2   0  2   0\n",
      "27   3   2   2   2   2   2   1   1   2    3  1   0  1   0  2   0\n",
      "28   3   2   1   1   1   1   2   2   2    2  2   0  1   0  1   0\n",
      "29   3   1   0   2   2   2   2   2   1    3  2   0  2   0  2   0\n",
      "30   3   2   1   2   2   2   4   2   2   NA  4   1  3   1  4   1\n",
      "\n"
     ]
    }
   ],
   "source": [
    "r('expsy2 <- expsy[,1:10]')\n",
    "print(r('expsy'))"
   ]
  },
  {
   "cell_type": "code",
   "execution_count": 9,
   "metadata": {},
   "outputs": [
    {
     "name": "stdout",
     "output_type": "stream",
     "text": [
      "try({expsy2})\n",
      "   it1 it2 it3 it4 it5 it6 it7 it8 it9 it10 it2r\n",
      "1   NA   2   2   1   1   0   3   1   2    3    2\n",
      "2    3   1   1   2   1   0   3   1   2    3    3\n",
      "3    3   1   1   0   2   0   3   1   2    3    3\n",
      "4    4   1   0   2   1   1   4   1   1    2    3\n",
      "5    4   1   0   2   1   1   3   1   1    2    3\n",
      "6    3   2   0   1   2   2   3   1   2    3    2\n",
      "7    3   2   3   1   2   2   2   1   3    3    2\n",
      "8    3   2   2   0   2   1   3   0   1    3    2\n",
      "9    3   2   2  NA   2   0   3   0   1    2    2\n",
      "10   3   2   1   0   2   2   3   2   2    3    2\n",
      "11   4   2   2   0   2   2   3   1   1    4    2\n",
      "12   4   2   1   2   2   2   3   1   2    1    2\n",
      "13   4   1   3   2   2   2   3   1   2    3    3\n",
      "14   3   2   2   1   1   2   3   0   3    4    2\n",
      "15   4   0   3   1   2   0   3   3   1    4    4\n",
      "16   4   0   1   2   2   2   4   2   3    3    4\n",
      "17   4   0   1   2   2   2   4   2   3    3    4\n",
      "18   4   1   1   2   2   1   3   1   0    4    3\n",
      "19   4   1   1   2   0   0   4   2   1    3    3\n",
      "20   3   1   1   2   1   1   2   1   1    3    3\n",
      "21   4   2   3   2   1   1   4   2   2    3    2\n",
      "22   3   2   1   2   1   1   3   2   1    3    2\n",
      "23   3   1   1   2   1   1   3   2   1    3    3\n",
      "24   3   2   1   2   2   2   4   1   1    3    2\n",
      "25   3   1   2   2   2   2   4   0   3    3    3\n",
      "26   3   2   3   2   2   2   2   2   3    3    2\n",
      "27   3   2   2   2   2   2   1   1   2    3    2\n",
      "28   3   2   1   1   1   1   2   2   2    2    2\n",
      "29   3   1   0   2   2   2   2   2   1    3    3\n",
      "30   3   2   1   2   2   2   4   2   2   NA    2\n",
      "\n"
     ]
    }
   ],
   "source": [
    "r('expsy2$it2r <- 4-expsy2$it2')\n",
    "print(r('expsy2'))"
   ]
  },
  {
   "cell_type": "code",
   "execution_count": 10,
   "metadata": {},
   "outputs": [
    {
     "name": "stdout",
     "output_type": "stream",
     "text": [
      "try({expsy3})\n",
      "   it1 it2r it3 it4 it5 it6 it7 it8 it9 it10\n",
      "1   NA    2   2   1   1   0   3   1   2    3\n",
      "2    3    3   1   2   1   0   3   1   2    3\n",
      "3    3    3   1   0   2   0   3   1   2    3\n",
      "4    4    3   0   2   1   1   4   1   1    2\n",
      "5    4    3   0   2   1   1   3   1   1    2\n",
      "6    3    2   0   1   2   2   3   1   2    3\n",
      "7    3    2   3   1   2   2   2   1   3    3\n",
      "8    3    2   2   0   2   1   3   0   1    3\n",
      "9    3    2   2  NA   2   0   3   0   1    2\n",
      "10   3    2   1   0   2   2   3   2   2    3\n",
      "11   4    2   2   0   2   2   3   1   1    4\n",
      "12   4    2   1   2   2   2   3   1   2    1\n",
      "13   4    3   3   2   2   2   3   1   2    3\n",
      "14   3    2   2   1   1   2   3   0   3    4\n",
      "15   4    4   3   1   2   0   3   3   1    4\n",
      "16   4    4   1   2   2   2   4   2   3    3\n",
      "17   4    4   1   2   2   2   4   2   3    3\n",
      "18   4    3   1   2   2   1   3   1   0    4\n",
      "19   4    3   1   2   0   0   4   2   1    3\n",
      "20   3    3   1   2   1   1   2   1   1    3\n",
      "21   4    2   3   2   1   1   4   2   2    3\n",
      "22   3    2   1   2   1   1   3   2   1    3\n",
      "23   3    3   1   2   1   1   3   2   1    3\n",
      "24   3    2   1   2   2   2   4   1   1    3\n",
      "25   3    3   2   2   2   2   4   0   3    3\n",
      "26   3    2   3   2   2   2   2   2   3    3\n",
      "27   3    2   2   2   2   2   1   1   2    3\n",
      "28   3    2   1   1   1   1   2   2   2    2\n",
      "29   3    3   0   2   2   2   2   2   1    3\n",
      "30   3    2   1   2   2   2   4   2   2   NA\n",
      "\n"
     ]
    }
   ],
   "source": [
    "r('expsy3 <- expsy2[,c(1,11,3:10)]')\n",
    "print(r('expsy3'))"
   ]
  },
  {
   "cell_type": "code",
   "execution_count": 11,
   "metadata": {},
   "outputs": [
    {
     "name": "stdout",
     "output_type": "stream",
     "text": [
      "try({score})\n",
      " [1] NA 19 18 19 18 19 22 17 NA 20 21 20 25 21 25 27 27 21 20 18 24 19 20 21 24\n",
      "[26] 24 20 17 20 NA\n",
      "\n"
     ]
    }
   ],
   "source": [
    "r('score <- rowSums(expsy3)')\n",
    "print(r('score'))"
   ]
  },
  {
   "cell_type": "code",
   "execution_count": 12,
   "metadata": {},
   "outputs": [
    {
     "name": "stdout",
     "output_type": "stream",
     "text": [
      "try({expsy4})\n",
      "   it1 it2r it3 it4 it5 it6 it7 it8 it9 it10 score\n",
      "1   NA    2   2   1   1   0   3   1   2    3    NA\n",
      "2    3    3   1   2   1   0   3   1   2    3    19\n",
      "3    3    3   1   0   2   0   3   1   2    3    18\n",
      "4    4    3   0   2   1   1   4   1   1    2    19\n",
      "5    4    3   0   2   1   1   3   1   1    2    18\n",
      "6    3    2   0   1   2   2   3   1   2    3    19\n",
      "7    3    2   3   1   2   2   2   1   3    3    22\n",
      "8    3    2   2   0   2   1   3   0   1    3    17\n",
      "9    3    2   2  NA   2   0   3   0   1    2    NA\n",
      "10   3    2   1   0   2   2   3   2   2    3    20\n",
      "11   4    2   2   0   2   2   3   1   1    4    21\n",
      "12   4    2   1   2   2   2   3   1   2    1    20\n",
      "13   4    3   3   2   2   2   3   1   2    3    25\n",
      "14   3    2   2   1   1   2   3   0   3    4    21\n",
      "15   4    4   3   1   2   0   3   3   1    4    25\n",
      "16   4    4   1   2   2   2   4   2   3    3    27\n",
      "17   4    4   1   2   2   2   4   2   3    3    27\n",
      "18   4    3   1   2   2   1   3   1   0    4    21\n",
      "19   4    3   1   2   0   0   4   2   1    3    20\n",
      "20   3    3   1   2   1   1   2   1   1    3    18\n",
      "21   4    2   3   2   1   1   4   2   2    3    24\n",
      "22   3    2   1   2   1   1   3   2   1    3    19\n",
      "23   3    3   1   2   1   1   3   2   1    3    20\n",
      "24   3    2   1   2   2   2   4   1   1    3    21\n",
      "25   3    3   2   2   2   2   4   0   3    3    24\n",
      "26   3    2   3   2   2   2   2   2   3    3    24\n",
      "27   3    2   2   2   2   2   1   1   2    3    20\n",
      "28   3    2   1   1   1   1   2   2   2    2    17\n",
      "29   3    3   0   2   2   2   2   2   1    3    20\n",
      "30   3    2   1   2   2   2   4   2   2   NA    NA\n",
      "\n"
     ]
    }
   ],
   "source": [
    "r('expsy4 <- cbind(expsy3, score)')\n",
    "print(r('expsy4'))"
   ]
  },
  {
   "cell_type": "code",
   "execution_count": 13,
   "metadata": {},
   "outputs": [
    {
     "name": "stdout",
     "output_type": "stream",
     "text": [
      "try({cronbach(expsy4[,1:10])})\n",
      "$sample.size\n",
      "[1] 27\n",
      "\n",
      "$number.of.items\n",
      "[1] 10\n",
      "\n",
      "$alpha\n",
      "[1] 0.3752657\n",
      "\n",
      "\n"
     ]
    }
   ],
   "source": [
    "print(r('cronbach(expsy4[,1:10])'))"
   ]
  },
  {
   "cell_type": "code",
   "execution_count": 15,
   "metadata": {},
   "outputs": [
    {
     "name": "stdout",
     "output_type": "stream",
     "text": [
      "try({cronbach(expsy3[,1:10])})\n",
      "$sample.size\n",
      "[1] 27\n",
      "\n",
      "$number.of.items\n",
      "[1] 10\n",
      "\n",
      "$alpha\n",
      "[1] 0.3752657\n",
      "\n",
      "\n"
     ]
    }
   ],
   "source": [
    "print(r('cronbach(expsy3[,1:10])'))"
   ]
  },
  {
   "cell_type": "code",
   "execution_count": null,
   "metadata": {},
   "outputs": [],
   "source": []
  }
 ],
 "metadata": {
  "kernelspec": {
   "display_name": "Python 3",
   "language": "python",
   "name": "python3"
  },
  "language_info": {
   "codemirror_mode": {
    "name": "ipython",
    "version": 3
   },
   "file_extension": ".py",
   "mimetype": "text/x-python",
   "name": "python",
   "nbconvert_exporter": "python",
   "pygments_lexer": "ipython3",
   "version": "3.7.6"
  }
 },
 "nbformat": 4,
 "nbformat_minor": 4
}
