{
 "cells": [
  {
   "cell_type": "markdown",
   "metadata": {},
   "source": [
    "# 15. 回帰分析"
   ]
  },
  {
   "cell_type": "code",
   "execution_count": 1,
   "metadata": {},
   "outputs": [],
   "source": [
    "import numpy as np\n",
    "import pandas as pd\n",
    "import pyper"
   ]
  },
  {
   "cell_type": "code",
   "execution_count": 4,
   "metadata": {},
   "outputs": [
    {
     "name": "stdout",
     "output_type": "stream",
     "text": [
      "try({reg_data})\n",
      "      daughter   father   mother\n",
      " [1,] 155.8735 159.7094 167.1484\n",
      " [2,] 158.0538 168.4815 156.5691\n",
      " [3,] 163.6317 173.2502 153.6723\n",
      " [4,] 151.7910 152.9810 153.9048\n",
      " [5,] 157.5299 169.3779 158.0783\n",
      " [6,] 158.7990 169.8325 152.7309\n",
      " [7,] 155.1637 163.4459 149.2328\n",
      " [8,] 155.4724 163.6120 158.6122\n",
      " [9,] 154.9813 163.5067 151.2012\n",
      "[10,] 154.1603 161.5827 155.8772\n",
      "[11,] 156.4115 164.0223 151.6079\n",
      "[12,] 155.6968 160.9425 161.0582\n",
      "[13,] 153.1328 162.2551 153.7423\n",
      "[14,] 157.3214 167.2230 152.6581\n",
      "[15,] 157.8800 172.5119 153.6233\n",
      "[16,] 155.9700 166.1904 148.3941\n",
      "[17,] 157.1049 163.8225 150.5337\n",
      "[18,] 157.8203 161.4577 145.8396\n",
      "[19,] 160.3811 161.8951 149.7299\n",
      "\n"
     ]
    }
   ],
   "source": [
    "r = pyper.R()\n",
    "r('set.seed(1234)')\n",
    "r('intercept <- 102.385888')\n",
    "r('fcoeff <- 0.316514')\n",
    "r('mcoeff <- 0.021370')\n",
    "r('father <- rnorm(n=19,mean=166.84211,sd=5.90916)')\n",
    "r('mother <- rnorm(n=19,mean=155.94737,sd=4.63649)')\n",
    "r('residual <- rnorm(n=19,mean=0,sd=2.15644)')\n",
    "r('daughter <- intercept+fcoeff*father+mcoeff*mother+residual')\n",
    "r('reg_data <- cbind(daughter,father,mother)')\n",
    "print(r('reg_data'))"
   ]
  },
  {
   "cell_type": "code",
   "execution_count": 5,
   "metadata": {},
   "outputs": [
    {
     "name": "stdout",
     "output_type": "stream",
     "text": [
      "try({summary(reg_result)})\n",
      "\n",
      "Call:\n",
      "lm(formula = daughter ~ father + mother)\n",
      "\n",
      "Residuals:\n",
      "    Min      1Q  Median      3Q     Max \n",
      "-2.7012 -1.3215 -0.4500  0.6065  4.5121 \n",
      "\n",
      "Coefficients:\n",
      "             Estimate Std. Error t value Pr(>|t|)    \n",
      "(Intercept) 100.66699   22.42001   4.490 0.000371 ***\n",
      "father        0.38063    0.09568   3.978 0.001080 ** \n",
      "mother       -0.04288    0.09366  -0.458 0.653229    \n",
      "---\n",
      "Signif. codes:  0 ‘***’ 0.001 ‘**’ 0.01 ‘*’ 0.05 ‘.’ 0.1 ‘ ’ 1\n",
      "\n",
      "Residual standard error: 1.952 on 16 degrees of freedom\n",
      "Multiple R-squared:  0.509,\tAdjusted R-squared:  0.4477 \n",
      "F-statistic: 8.295 on 2 and 16 DF,  p-value: 0.003375\n",
      "\n",
      "\n"
     ]
    }
   ],
   "source": [
    "r('reg_result <- lm(daughter~father+mother)')\n",
    "print(r('summary(reg_result)'))"
   ]
  },
  {
   "cell_type": "code",
   "execution_count": null,
   "metadata": {},
   "outputs": [],
   "source": []
  }
 ],
 "metadata": {
  "kernelspec": {
   "display_name": "Python 3",
   "language": "python",
   "name": "python3"
  },
  "language_info": {
   "codemirror_mode": {
    "name": "ipython",
    "version": 3
   },
   "file_extension": ".py",
   "mimetype": "text/x-python",
   "name": "python",
   "nbconvert_exporter": "python",
   "pygments_lexer": "ipython3",
   "version": "3.7.6"
  }
 },
 "nbformat": 4,
 "nbformat_minor": 4
}
